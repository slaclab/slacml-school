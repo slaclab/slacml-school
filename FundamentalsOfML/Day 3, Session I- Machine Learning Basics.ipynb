{
 "cells": [
  {
   "cell_type": "code",
   "execution_count": 80,
   "metadata": {},
   "outputs": [],
   "source": [
    "import numpy as np\n",
    "from sklearn.linear_model import LinearRegression, LogisticRegression\n",
    "from sklearn import linear_model\n",
    "from sklearn.linear_model import Ridge\n",
    "from sklearn.model_selection import GridSearchCV\n",
    "from sklearn.model_selection import train_test_split\n",
    "from sklearn.preprocessing import MinMaxScaler\n",
    "from sklearn import datasets\n",
    "from sklearn.datasets import make_moons\n",
    "from sklearn import metrics\n",
    "import matplotlib.pyplot as plt\n",
    "from matplotlib.colors import ListedColormap\n",
    "from scipy.special import binom\n",
    "%matplotlib inline"
   ]
  },
  {
   "cell_type": "markdown",
   "metadata": {},
   "source": [
    "## 1. Overview & Background\n",
    "\n",
    "**Machine Learning**: Developing Algorithms and models that improve their performance at a task by processing data.\n",
    "\n",
    "**Data**: Sets of features, $x_i$ and (optionally) labels $y_i$. A *label* is the ideal answer we'd like our ML model to give when inputed the features $x$.\n",
    "\n",
    "In **Supervised Learning**, our model expects to train on both features and labels. The task is to construct an model which is able to predict the label of an object given the set of features.\n",
    "\n",
    "Supervised learning is further broken down into two categories, **classification** and **regression**.\n",
    "In *classification* problems, the labels are discrete, and dont come from a metric space. An example of classification is to determine if a person has the flu based on their vital signs.\n",
    "In *regression* problems, the labels are continous and from a metric space. An example of regression is to determine a person's body temperature, given their vital signs."
   ]
  },
  {
   "cell_type": "markdown",
   "metadata": {},
   "source": [
    "![alt text](Errata/MLSchematic.jpg)"
   ]
  },
  {
   "cell_type": "markdown",
   "metadata": {},
   "source": [
    "### Supervised Learning\n",
    "\n",
    "An (approximate and generic) outline of the development of a supervised learning model is given below. The basis is an \"unknown\" physics based phenomenon. We have some data to represent this phenomenon. It could be from real life experiments, from simplified simulations, etc. This data consists of features that describe the system settings and targets that describe the ideal/real-life system output. The catch is how to go from this dataset to a ML model...and how to go about this in the best manner possible?\n",
    "\n",
    "![alt text](Errata/MachineLearningFlowchart.jpg)\n",
    "\n",
    "We can decompose this exercise into discrete steps:\n",
    "1) Selecting an appropriate error metric,\n",
    "\n",
    "2) Selecting a Hypothesis set,\n",
    "\n",
    "3) Selecting an optimization approach,\n",
    "\n",
    "4) Regularization to control this optimization,\n",
    "\n",
    "5) Data splits and data preprocessing,\n",
    "\n",
    "6) Estimation of generalization error."
   ]
  },
  {
   "cell_type": "markdown",
   "metadata": {},
   "source": [
    "#### Error Metrics: Central Underlying Principles\n",
    "\n",
    "Before we start training our models via numerical optimization, we need to determine an objective to be optimized. Here, we will go over common error metrics (also known as Cost functions or Loss functions) for regression and classification.\n",
    "\n",
    "What we will see, is that there is an underlying central concept and (most) error measures are derived based on this concept. \n",
    "\n",
    "To follow along, I'm hoping that you're comfortable with 3 probability distributions:\n",
    "\n",
    "a) **Bernoulli**, if $X\\sim Bernoulli(f)$ then $P(X=1)=f$. eg, a singleton toss of a biased/unbiased coin;\n",
    "\n",
    "b) **Binomial**, if $X \\sim Binomial(f,N)$ then $P(X=k)=\\binom{N}{k} f^k (1-f)^{N-k}$. eg, how many heads will I get in 10 tosses of this biased coin?\n",
    "\n",
    "c) **Gaussian/Normal**, if $X \\sim \\mathcal{N}(\\mu, \\sigma)$, then $f_X(x)=\\frac{1}{\\sigma\\sqrt{2\\pi}}\\exp\\left(-\\frac{1}{2}\\left(\\frac{x-\\mu}{\\sigma}\\right)^{2}\\right)$.\n"
   ]
  },
  {
   "cell_type": "code",
   "execution_count": 13,
   "metadata": {},
   "outputs": [],
   "source": []
  },
  {
   "cell_type": "markdown",
   "metadata": {},
   "source": [
    "**Exercise 1**:\n",
    "\n",
    "You have been given a fair, 6-sided die, with five ivory faces and the sixth painted red. If you roll this die 10 times, what is the probability of the number of times you will end up with the red face?\n",
    "\n",
    "Create a final plot, with the x axis showing the number of times you see the red face and the y axis reporting the probability of the event."
   ]
  },
  {
   "cell_type": "code",
   "execution_count": 12,
   "metadata": {},
   "outputs": [
    {
     "data": {
      "text/plain": [
       "6.0"
      ]
     },
     "execution_count": 12,
     "metadata": {},
     "output_type": "execute_result"
    }
   ],
   "source": [
    "#Hint: for the binomial coefficient, you can use the scipy.special.binom() function\n",
    "# so to calculate 4 choose 2\n",
    "binom(4,2)"
   ]
  },
  {
   "cell_type": "code",
   "execution_count": null,
   "metadata": {},
   "outputs": [],
   "source": []
  },
  {
   "cell_type": "markdown",
   "metadata": {},
   "source": [
    "**Exercise**:\n",
    "\n",
    "Your \"best friend\" has a similar die with ivory and red faces, but she doesnt know the number of red faces. She tells you that on rolling the die 10 times, she observed only 2 red faces.\n",
    "\n",
    "_SUPER IMPORTANT DEFINTION_:\n",
    "\n",
    "The likelihood of a parameter, $\\theta$, is the probability of observing an event conditioned on the value of the parameter, $P(event| \\theta)$.\n",
    "\n",
    "$L(\\theta=k) = P(event| \\theta=k)$\n",
    "\n",
    "a) Conditioning the probability of the event (ie, seeing 2 red faces in 10 rolls) on the number of red faces on her die, report the likelihoods for having 1-red face, 2-red faces....,6 red-faces. Calculate and plot the values.\n",
    "\n",
    "b) What is your guess for the number of red faces on her die? _Why?_"
   ]
  },
  {
   "cell_type": "code",
   "execution_count": null,
   "metadata": {},
   "outputs": [],
   "source": []
  },
  {
   "cell_type": "code",
   "execution_count": null,
   "metadata": {},
   "outputs": [],
   "source": []
  },
  {
   "cell_type": "code",
   "execution_count": null,
   "metadata": {},
   "outputs": [],
   "source": []
  },
  {
   "cell_type": "code",
   "execution_count": null,
   "metadata": {},
   "outputs": [],
   "source": []
  },
  {
   "cell_type": "code",
   "execution_count": null,
   "metadata": {},
   "outputs": [],
   "source": []
  },
  {
   "cell_type": "markdown",
   "metadata": {},
   "source": [
    "This approach to estimating a parameter's values is referred to as the Maximum Likelihood Estimation (MLE). The value of the paramater estimated using this is referred to as the Maximum Likelihood Estimator, $\\hat{\\theta}_{MLE}$.\n",
    "\n",
    "In supervised learning, you select the form of the ML model by selecting your hypothesis (eg, linear regression, Neural networks, etc). To determine the coefficients/weights/parameters of your model, you simply maximize the likelihood or the probability of observing the data conditioned on the parameter values."
   ]
  },
  {
   "cell_type": "markdown",
   "metadata": {},
   "source": [
    "**Binary Classification**\n",
    "\n",
    "Let's apply this Maximum Likelihood Estimation approach for a general binary classification problem. So, I have a set of data points $\\{(x_i,y_i)\\}$, where $y_i \\in \\{0,1\\}$.\n",
    "\n",
    "We assume the target y to be sampled from a Bernoulli distribution. I can express this as a quasi-coin toss, where\n",
    "\n",
    "$P(y_i=1)=\\theta(x_i), ~ ~ P(y_i=1)=1-\\theta(x_i).$ Thus, the probability of observing y=1 is given by $\\theta$ modeled as a function of the features, x.\n",
    "\n",
    "$L=P(Data|\\theta)$\n",
    "\n",
    "Assuming that the data is independent and identically distributed (iid),\n",
    "\n",
    "$L= \\prod_{i\\in S_1} \\theta_i ~ \\prod_{i\\in S_0} (1-\\theta_i)$\n",
    "\n",
    "Taking a logarithm, we get the log likelihood (as the log is monotonic, we dont change the location of the optimum):\n",
    "\n",
    "$l=\\sum_{i\\in S_1} ln(\\theta_i) ~ \\sum_{i\\in S_0} ln(1-\\theta_i)$\n",
    "\n",
    "$l=\\sum_{i}[ y_i ln(\\theta_i) ~+ (1-y_i) ln(1-\\theta_i)]$\n",
    "\n",
    "To maximize the likelihood is equivalent to minimizing the negative of the likelihood, giving us the Negative Log Likelihood:\n",
    "$NLL=-\\sum_{i}[ y_i ln(\\theta_i) ~+ (1-y_i) ln(1-\\theta_i)]$\n",
    "\n",
    "This is often referred to as the Binary Cross Entropy loss."
   ]
  },
  {
   "cell_type": "markdown",
   "metadata": {},
   "source": [
    "**Exercise**\n",
    "\n",
    "I have a binary classification problem with a evenly sampled dataset. I randomly guess the classes for each data point. What should be the value of my Binary Cross Entropy loss from this naive prediction?"
   ]
  },
  {
   "cell_type": "code",
   "execution_count": null,
   "metadata": {},
   "outputs": [],
   "source": []
  },
  {
   "cell_type": "markdown",
   "metadata": {},
   "source": [
    "**Regression**\n",
    "\n",
    "For a regression problem, we assume our target y to be sampled from a Normal/Gaussian distribution.\n",
    "$f_Y(y)=\\frac{1}{\\sigma\\sqrt{2\\pi}}\\exp\\left(-\\frac{1}{2}\\left(\\frac{y-\\mu}{\\sigma}\\right)^{2}\\right)$.\n",
    "\n",
    "We model the unknown parameter of this distribution $\\mu$ as a function of the features,\n",
    "$\\mu=\\mu(x)$. The standard deviation is assumed to be a constant.\n",
    "\n",
    "Thus, the Likelihood is given by\n",
    "\n",
    "$L=\\prod_{i} \\frac{1}{\\sigma\\sqrt{2\\pi}} ~~ \\exp\\left(-\\frac{1}{2}\\sum_{i}\\left(\\frac{y_i-\\mu(x_i)}{\\sigma}\\right)^{2}\\right)$\n",
    "\n",
    "The log likelihood is given by:\n",
    "\n",
    "$l= -C-\\frac{1}{2 \\sigma^2}\\sum_{i}(y_i-\\mu(x_i))^2$\n",
    "\n",
    "And, the Negative Log Likelihood (to be minimized) is\n",
    "\n",
    "$NLL=C+\\frac{1}{2 \\sigma^2}\\sum_{i}(y_i-\\mu(x_i))^2$\n",
    "\n",
    "This is often referred to as the mean squared error."
   ]
  },
  {
   "cell_type": "markdown",
   "metadata": {},
   "source": [
    "### Optimization: Steepest Gradient Methods"
   ]
  },
  {
   "cell_type": "code",
   "execution_count": 27,
   "metadata": {},
   "outputs": [
    {
     "data": {
      "text/plain": [
       "<matplotlib.collections.PathCollection at 0x124ce5c10>"
      ]
     },
     "execution_count": 27,
     "metadata": {},
     "output_type": "execute_result"
    },
    {
     "data": {
      "image/png": "[encoded data removed]",
      "text/plain": [
       "<Figure size 432x288 with 1 Axes>"
      ]
     },
     "metadata": {
      "needs_background": "light"
     },
     "output_type": "display_data"
    }
   ],
   "source": [
    "np.random.seed(0)\n",
    "X = np.linspace(0,10,50)\n",
    "y = 1.0*X +np.random.normal(size=50)\n",
    "\n",
    "plt.scatter(X,y)"
   ]
  },
  {
   "cell_type": "code",
   "execution_count": 28,
   "metadata": {},
   "outputs": [],
   "source": [
    "def mymse(y,yhat):\n",
    "    return 0.5*np.dot(y-yhat, y-yhat)/y.shape[0]"
   ]
  },
  {
   "cell_type": "markdown",
   "metadata": {},
   "source": [
    "I'm going to try to fit a line through this dataset,\n",
    "$y=m x$. (only slope, No intercept)\n",
    "\n",
    "I would evaluate the quality of the fit with the mean squared error, and ideally I would want the final value of the slope to correspond to the lowest mean squared error possible."
   ]
  },
  {
   "cell_type": "code",
   "execution_count": 31,
   "metadata": {},
   "outputs": [
    {
     "data": {
      "image/png": "[encoded data removed]",
      "text/plain": [
       "<Figure size 432x288 with 1 Axes>"
      ]
     },
     "metadata": {
      "needs_background": "light"
     },
     "output_type": "display_data"
    }
   ],
   "source": [
    "slopes=np.linspace(-9,11,100)\n",
    "losses=[mymse(y,slope*X) for slope in slopes]\n",
    "\n",
    "plt.scatter(slopes, losses)\n",
    "plt.xlabel(\"Value of Slope\")\n",
    "plt.ylabel(\"Mean Squared Error\")\n",
    "plt.grid()"
   ]
  },
  {
   "cell_type": "markdown",
   "metadata": {},
   "source": [
    "$\\frac{\\nabla f(x)}{|\\nabla f(x)|}$ represents the unit vector along the direction of maximum increase for the function $f(x)$, locally. Thus, \n",
    "\n",
    "changing $x$ (by a small amount) along this direction will lead to the highest increase in the value of $f(x)$. This is gradient ascent, useful for maximization.\n",
    "\n",
    "changing $x$ (by a small amount) opposite to this direction will lead to the higest decrease in the value of $f(x)$. This is gradient descent, useful for maximization."
   ]
  },
  {
   "cell_type": "markdown",
   "metadata": {},
   "source": [
    "Gradient Descent:\n",
    "\n",
    "1) Start with a guessed initial value of your model parameters, $\\beta_0$\n",
    "\n",
    "2) Calculate the error at this value of the parameters, $E(\\beta_0)$\n",
    "\n",
    "3) While some condition is not met (ie, number of iterations or minimum error threshold), for iteration n\n",
    "\n",
    "---Calculate the gradient of the Error, $\\frac{\\partial E(\\beta_n)}{\\partial \\beta_n}$\n",
    "\n",
    "---Correct the value of the parameters, $\\beta_{n+1}= \\beta_n - \\alpha \\times \\frac{\\partial E(\\beta_n)}{\\partial \\beta_n} $\n",
    "\n",
    "---Calculate the error at this value of the parameters, $E(\\beta_{n+1})$\n",
    "\n",
    "4) These are your optimal values of the model parameters, $\\beta_{m}$  conditioned upon the training data."
   ]
  },
  {
   "cell_type": "markdown",
   "metadata": {},
   "source": [
    "**Introduction to Simple Linear Regression & Gradient Descent**"
   ]
  },
  {
   "cell_type": "code",
   "execution_count": null,
   "metadata": {},
   "outputs": [],
   "source": []
  },
  {
   "cell_type": "markdown",
   "metadata": {},
   "source": [
    "**Exercise**: \n",
    "\n",
    "Write a class for a regressor, based on the outline given below.\n",
    "\n",
    "Then instantiate a member of this class, train it on the dataset in the cell that follows and report your error."
   ]
  },
  {
   "cell_type": "code",
   "execution_count": 76,
   "metadata": {},
   "outputs": [],
   "source": [
    "class mylinearregression():\n",
    "    def __init__(self):\n",
    "        self.beta=...\n",
    "        \n",
    "    def predict(self, X):\n",
    "        #np.dot(X,self.beta)\n",
    "        \n",
    "    def error(self, X, Y):\n",
    "        #(np.dot((Ytrue-Ypredicted).T,(Yrue-Ypredicted))/n).item()\n",
    "        \n",
    "    def gradients(self, X, Y):\n",
    "        #(np.dot(self.beta.T, np.dot(X.T,X))-np.dot(Y.T,X)).T\n",
    "        \n",
    "    \n",
    "    def fit(self, X, Y, num_epochs=50, lr=0.001):\n"
   ]
  },
  {
   "cell_type": "code",
   "execution_count": 91,
   "metadata": {},
   "outputs": [],
   "source": [
    "np.random.seed(0)\n",
    "x = np.linspace(0,10,50)\n",
    "y = 2.0*x+ 0.5 +np.random.normal(size=50)\n",
    "\n",
    "Y=y[:,np.newaxis]\n",
    "temp=np.ones_like(x)\n",
    "X=np.stack([temp,x]).T"
   ]
  },
  {
   "cell_type": "code",
   "execution_count": null,
   "metadata": {},
   "outputs": [],
   "source": []
  },
  {
   "cell_type": "markdown",
   "metadata": {},
   "source": [
    "![alt text](Errata/ErrorSurfacesFigure.jpg)"
   ]
  },
  {
   "cell_type": "markdown",
   "metadata": {},
   "source": [
    "### Break"
   ]
  },
  {
   "cell_type": "markdown",
   "metadata": {},
   "source": [
    "For the exercises hereon, we shall be using the [scikit-learn](http://scikit-learn.org) library."
   ]
  },
  {
   "cell_type": "markdown",
   "metadata": {},
   "source": [
    "Most machine learning algorithms implemented in scikit-learn expect data to be stored in a\n",
    "**two-dimensional array or matrix**.  The arrays can be\n",
    "either ``numpy`` arrays, or ``scipy.sparse`` matrices.\n",
    "The size of the array is expected to be `[n_samples, n_features]`\n",
    "\n",
    "- **n_samples:**   The number of samples: each sample is an item to process (e.g. classify).\n",
    "  A sample can be a document, a picture, a sound, a video, a row in database or CSV file,\n",
    "  or whatever you can describe with a fixed set of quantitative traits.\n",
    "- **n_features:**  The number of features or distinct traits that can be used to describe each\n",
    "  item in a quantitative manner.  Features are generally real-valued, but may be boolean or\n",
    "  discrete-valued in some cases.\n",
    "\n",
    "The number of features must be fixed in advance. However it can be very high dimensional\n",
    "(e.g. millions of features). For Supervised learning problems, data in scikit-learn is represented as a **feature matrix** and a **label vector**\n",
    "\n",
    "$$\n",
    "{\\rm feature~matrix:~~~} {\\bf X}~=~\\left[\n",
    "\\begin{matrix}\n",
    "x_{11} & x_{12} & \\cdots & x_{1D}\\\\\n",
    "x_{21} & x_{22} & \\cdots & x_{2D}\\\\\n",
    "x_{31} & x_{32} & \\cdots & x_{3D}\\\\\n",
    "\\vdots & \\vdots & \\ddots & \\vdots\\\\\n",
    "\\vdots & \\vdots & \\ddots & \\vdots\\\\\n",
    "x_{N1} & x_{N2} & \\cdots & x_{ND}\\\\\n",
    "\\end{matrix}\n",
    "\\right]\n",
    "$$\n",
    "\n",
    "$$\n",
    "{\\rm label~vector:~~~} {\\bf y}~=~ [y_1, y_2, y_3, \\cdots y_N]\n",
    "$$\n",
    "\n",
    "Here there are $N$ samples and $D$ features."
   ]
  },
  {
   "cell_type": "code",
   "execution_count": null,
   "metadata": {},
   "outputs": [],
   "source": []
  },
  {
   "cell_type": "markdown",
   "metadata": {},
   "source": [
    "## 2. Supervised Learning: Regression\n",
    "\n",
    "**Exercise 5** \n",
    "\n",
    "a) Please use numpy to create a data set with 50 points corresponding to a line with slope 2 and intercept 5, with standard normal noise at each point. Please arrange this data with all the x-values as a feature matrix, and the y values as the label vector. ($y_i=2 \\times x_i + 5 + \\epsilon_i$)\n",
    "\n",
    "b) Create a scatter plot of these using matplotlib.\n",
    "\n",
    "(I've started the exercise code for you. The solutions are at the bottom of this notebook)"
   ]
  },
  {
   "cell_type": "markdown",
   "metadata": {},
   "source": [
    "#### 2.1 Data Structuring"
   ]
  },
  {
   "cell_type": "code",
   "execution_count": 92,
   "metadata": {},
   "outputs": [],
   "source": [
    "np.random.seed(0)\n",
    "#X = "
   ]
  },
  {
   "cell_type": "markdown",
   "metadata": {},
   "source": [
    "##### 2.2 Normalize Data\n",
    "\n",
    "\n",
    "![alt text](Errata/Normalization.jpg)\n",
    "\n",
    "\n",
    "\n",
    "For gradient descent type applications, we'd like all features to have similar means, variances and ranges; so that the error surface is properly shaped. Else, we can get into wild oscillations during optimization iterations and even a loss of convergence.\n",
    "\n",
    "The MinMaxScaler() is one of the data scaling and normalization functions available. \n",
    "It takes a **2D** matrix as input to be scaled and (optionally) the range to be scaled to.\n",
    "\n",
    "It applies a 2 step transform:\n",
    "\n",
    "Step 1: X_std = (X - X.min(axis=0)) / (X.max(axis=0) - X.min(axis=0))\n",
    "\n",
    "Step 2: X_scaled = X_std * (max_of_range - min_of_range) + min_of_range\n",
    "\n",
    "To use this scaler, \n",
    "\n",
    "a) Instantiate the scaler with the range that you'd like to scale to,\n",
    "\n",
    "b) fit the scaler on your data,\n",
    "\n",
    "c) Use this fitted scaler to transform your data."
   ]
  },
  {
   "cell_type": "code",
   "execution_count": 5,
   "metadata": {},
   "outputs": [],
   "source": [
    "scalerX=MinMaxScaler(feature_range=(-1,1)) #instantiate with the range\n",
    "scalerX.fit(X)                             #Fit on data\n",
    "Xnorm=scalerX.transform(X)                 #Transform data"
   ]
  },
  {
   "cell_type": "code",
   "execution_count": 6,
   "metadata": {},
   "outputs": [],
   "source": [
    "scalerY=MinMaxScaler(feature_range=(-1,1))\n",
    "scalerY.fit(y[:,np.newaxis]) \n",
    "ynorm=scalerY.transform(y[:,np.newaxis])"
   ]
  },
  {
   "cell_type": "code",
   "execution_count": 7,
   "metadata": {},
   "outputs": [
    {
     "data": {
      "text/plain": [
       "<matplotlib.collections.PathCollection at 0x12916b150>"
      ]
     },
     "execution_count": 7,
     "metadata": {},
     "output_type": "execute_result"
    },
    {
     "data": {
      "image/png": "[encoded data removed]",
      "text/plain": [
       "<Figure size 432x288 with 1 Axes>"
      ]
     },
     "metadata": {
      "needs_background": "light"
     },
     "output_type": "display_data"
    }
   ],
   "source": [
    "plt.scatter(Xnorm,ynorm)"
   ]
  },
  {
   "cell_type": "markdown",
   "metadata": {},
   "source": [
    "**Important**\n",
    "When you're making your final plots, you may want the answers to be unscaled.\n",
    "In that case, use the inverse_transform() method of the trained scaler."
   ]
  },
  {
   "cell_type": "code",
   "execution_count": 8,
   "metadata": {},
   "outputs": [
    {
     "data": {
      "text/plain": [
       "<matplotlib.collections.PathCollection at 0x1296bd390>"
      ]
     },
     "execution_count": 8,
     "metadata": {},
     "output_type": "execute_result"
    },
    {
     "data": {
      "image/png": "[encoded data removed]",
      "text/plain": [
       "<Figure size 432x288 with 1 Axes>"
      ]
     },
     "metadata": {
      "needs_background": "light"
     },
     "output_type": "display_data"
    }
   ],
   "source": [
    "Xunscaled=scalerX.inverse_transform(Xnorm)\n",
    "yunscaled=scalerY.inverse_transform(ynorm)\n",
    "plt.scatter(Xunscaled,yunscaled)"
   ]
  },
  {
   "cell_type": "markdown",
   "metadata": {},
   "source": [
    "#### 2.3 Regression Model\n",
    "\n",
    "A basic scikit-learn supervised learning model, there are 3 steps:\n",
    "\n",
    "a) Instantiate: Declare an instance of a specific model,\n",
    "\n",
    "b) Train: Fit (or train) this model instance on data,\n",
    "\n",
    "c) Analyze: Use this trained model to make predictions for new data, analyze model coefficients.\n",
    "\n",
    "Let's see these steps in action, using a linear regression model on our data."
   ]
  },
  {
   "cell_type": "code",
   "execution_count": 9,
   "metadata": {},
   "outputs": [],
   "source": [
    "# Step 1: Declare an instance of a linear regressor\n",
    "model = LinearRegression(normalize=True)"
   ]
  },
  {
   "cell_type": "code",
   "execution_count": 10,
   "metadata": {},
   "outputs": [
    {
     "data": {
      "text/plain": [
       "LinearRegression(copy_X=True, fit_intercept=True, n_jobs=None, normalize=True)"
      ]
     },
     "execution_count": 10,
     "metadata": {},
     "output_type": "execute_result"
    }
   ],
   "source": [
    "# Step 2: Fit the model on data\n",
    "model.fit(X, y) "
   ]
  },
  {
   "cell_type": "code",
   "execution_count": 11,
   "metadata": {},
   "outputs": [
    {
     "data": {
      "text/plain": [
       "<matplotlib.legend.Legend at 0x129a29f10>"
      ]
     },
     "execution_count": 11,
     "metadata": {},
     "output_type": "execute_result"
    },
    {
     "data": {
      "image/png": "[encoded data removed]",
      "text/plain": [
       "<Figure size 432x288 with 1 Axes>"
      ]
     },
     "metadata": {
      "needs_background": "light"
     },
     "output_type": "display_data"
    }
   ],
   "source": [
    "# Step 3: Make predictions\n",
    "y_pred=model.predict(X)\n",
    "\n",
    "plt.figure()\n",
    "plt.scatter(X,y,label=\"Data\")\n",
    "plt.plot(X,y_pred,label=\"Model Predictions\")\n",
    "plt.legend()"
   ]
  },
  {
   "cell_type": "code",
   "execution_count": 12,
   "metadata": {},
   "outputs": [
    {
     "name": "stdout",
     "output_type": "stream",
     "text": [
      "Slope:  [1.85883775]\n",
      "Intercept:  5.846370518808186\n"
     ]
    }
   ],
   "source": [
    "# Evaluate Coefficients of Trained Model:\n",
    "print(\"Slope: \",model.coef_)\n",
    "print(\"Intercept: \",model.intercept_)"
   ]
  },
  {
   "cell_type": "code",
   "execution_count": 13,
   "metadata": {},
   "outputs": [
    {
     "name": "stdout",
     "output_type": "stream",
     "text": [
      "mean squared error: 1.0939675229281411\n"
     ]
    }
   ],
   "source": [
    "# Evaluate Error of trained Model:\n",
    "print (\"mean squared error:\", metrics.mean_squared_error(model.predict(X), y))"
   ]
  },
  {
   "cell_type": "markdown",
   "metadata": {},
   "source": [
    "### Difference between Curve-fitting and Machine Learning\n",
    "\n",
    "**Generalizability**: How well does my trained model perform on data that it has never seen? \n",
    "Exam questions analogy.\n",
    "\n",
    "**Dividing Learning Data set into train-test sets**"
   ]
  },
  {
   "cell_type": "code",
   "execution_count": 29,
   "metadata": {},
   "outputs": [],
   "source": [
    "X_train, X_test, y_train, y_test = train_test_split(X, y, train_size=0.8)"
   ]
  },
  {
   "cell_type": "markdown",
   "metadata": {},
   "source": [
    "**Exercise 6** \n",
    "\n",
    "a) Use this split dataset to train and evaluate a (new) Linear Regression model. Use the train dataset (X_train, y_train) to train the model. Use the test dataset to evaluate the performance. \n",
    "\n",
    "b) Plot the model predictions on the test dataset versus the test data."
   ]
  },
  {
   "cell_type": "code",
   "execution_count": 18,
   "metadata": {},
   "outputs": [],
   "source": []
  },
  {
   "cell_type": "code",
   "execution_count": 19,
   "metadata": {},
   "outputs": [],
   "source": []
  },
  {
   "cell_type": "code",
   "execution_count": null,
   "metadata": {},
   "outputs": [],
   "source": []
  },
  {
   "cell_type": "code",
   "execution_count": null,
   "metadata": {},
   "outputs": [],
   "source": []
  },
  {
   "cell_type": "markdown",
   "metadata": {},
   "source": [
    "### Linear regression: Using higher order fits"
   ]
  },
  {
   "cell_type": "code",
   "execution_count": 93,
   "metadata": {},
   "outputs": [],
   "source": [
    "def complex_regression_data(x, err=0.5):\n",
    "    y = 10 - 1. / (x + 0.1)\n",
    "    if err > 0:\n",
    "        y = np.random.normal(y, err)\n",
    "    return y"
   ]
  },
  {
   "cell_type": "code",
   "execution_count": 94,
   "metadata": {},
   "outputs": [
    {
     "data": {
      "text/plain": [
       "<matplotlib.collections.PathCollection at 0x12719a0d0>"
      ]
     },
     "execution_count": 94,
     "metadata": {},
     "output_type": "execute_result"
    },
    {
     "data": {
      "image/png": "[encoded data removed]",
      "text/plain": [
       "<Figure size 432x288 with 1 Axes>"
      ]
     },
     "metadata": {
      "needs_background": "light"
     },
     "output_type": "display_data"
    }
   ],
   "source": [
    "X = np.linspace(0,1,100)[:,np.newaxis]\n",
    "y=complex_regression_data(X)\n",
    "\n",
    "plt.scatter(X,y)"
   ]
  },
  {
   "cell_type": "code",
   "execution_count": 95,
   "metadata": {},
   "outputs": [
    {
     "name": "stdout",
     "output_type": "stream",
     "text": [
      "mean squared error: 1.0407097692686187\n"
     ]
    },
    {
     "data": {
      "image/png": "[encoded data removed]",
      "text/plain": [
       "<Figure size 432x288 with 1 Axes>"
      ]
     },
     "metadata": {
      "needs_background": "light"
     },
     "output_type": "display_data"
    }
   ],
   "source": [
    "model = LinearRegression()\n",
    "model.fit(X, y)\n",
    "X_test = np.linspace(-0.01, 1.01, 500)[:, None]\n",
    "y_test = model.predict(X_test)\n",
    "\n",
    "plt.scatter(X.ravel(), y)\n",
    "plt.plot(X_test.ravel(), y_test)\n",
    "print (\"mean squared error:\", metrics.mean_squared_error(model.predict(X), y))"
   ]
  },
  {
   "cell_type": "code",
   "execution_count": 96,
   "metadata": {},
   "outputs": [],
   "source": [
    "class PolynomialRegression(LinearRegression):\n",
    "    def __init__(self, degree=1, **kwargs):\n",
    "        self.degree = degree\n",
    "        LinearRegression.__init__(self, **kwargs)\n",
    "        \n",
    "    def fit(self, X, y):\n",
    "        if X.shape[1] != 1:\n",
    "            raise ValueError(\"Only 1D data, Please!\")\n",
    "        Xp = X ** (1 + np.arange(self.degree))\n",
    "        return LinearRegression.fit(self, Xp, y)\n",
    "        \n",
    "    def predict(self, X):\n",
    "        Xp = X ** (1 + np.arange(self.degree))\n",
    "        return LinearRegression.predict(self, Xp)\n",
    "    \n",
    "    def err(self,X,y):\n",
    "        Xp = X ** (1 + np.arange(self.degree))\n",
    "        yp=LinearRegression.predict(self, Xp)\n",
    "        return np.mean((y-yp)*(y-yp))"
   ]
  },
  {
   "cell_type": "code",
   "execution_count": 97,
   "metadata": {},
   "outputs": [
    {
     "name": "stdout",
     "output_type": "stream",
     "text": [
      "mean squared error: 0.5539669019253836\n"
     ]
    },
    {
     "data": {
      "image/png": "[encoded data removed]",
      "text/plain": [
       "<Figure size 432x288 with 1 Axes>"
      ]
     },
     "metadata": {
      "needs_background": "light"
     },
     "output_type": "display_data"
    }
   ],
   "source": [
    "model = PolynomialRegression(degree=2)\n",
    "model.fit(X, y)\n",
    "y_test = model.predict(X_test)\n",
    "\n",
    "plt.scatter(X.ravel(), y)\n",
    "plt.plot(X_test.ravel(), y_test)\n",
    "print (\"mean squared error:\", metrics.mean_squared_error(model.predict(X), y))"
   ]
  },
  {
   "cell_type": "markdown",
   "metadata": {},
   "source": [
    "### Hyperparameters & Validation Data\n",
    "\n",
    "*Parameters*: Variables describing the model that are tuned using the training data, for instance, the slope and the intercept, the weights & biases of a neural network.\n",
    "\n",
    "*Hyperparameters*: Variables describing the model that are not tuned using the training data, for instance, the degree of the model expression, the architecture of the neural network.\n",
    "\n",
    "Hyperparameters are traditionally set using validation or cross validation. In good old fashioned validation, you divide your original dataset into **3** parts: Training, validation (or \"holdout\") and testing.\n",
    "\n",
    "The training data is used to *tune* model parameters, \n",
    "\n",
    "the validation data is used to *select* model hyperparameters,\n",
    "\n",
    "the testing data is used to *report* an estimate for generalization error."
   ]
  },
  {
   "cell_type": "code",
   "execution_count": 99,
   "metadata": {},
   "outputs": [
    {
     "data": {
      "text/plain": [
       "((60, 1), (20, 1), (20, 1))"
      ]
     },
     "execution_count": 99,
     "metadata": {},
     "output_type": "execute_result"
    }
   ],
   "source": [
    "X_train, X_temp, y_train, y_temp = train_test_split(X, y, train_size=0.6)\n",
    "X_val, X_test, y_val, y_test = train_test_split(X_temp, y_temp, train_size=0.5)\n",
    "\n",
    "X_train.shape,X_val.shape,X_test.shape"
   ]
  },
  {
   "cell_type": "markdown",
   "metadata": {},
   "source": [
    "**Exercise 7** \n",
    "\n",
    "Use this split dataset to train and evaluate a (new) Regression model. Select the best degree of the model by using the error on the validation dataset.\n",
    "The splits have been made for you.\n",
    "\n",
    "Create a loop over the degrees.\n",
    "\n",
    "For each iteration of the loop, instantiate a PolynomialRegression model with the correct degree.\n",
    "\n",
    "Train this instance on the training data.\n",
    "\n",
    "Evaluate the trained model on the validation dataset.\n",
    "\n",
    "Plot the validation error versus the degree of the PolynomialRegression after the loop.\n",
    "\n",
    "Note: Let's only have degrees from 1 to 8."
   ]
  },
  {
   "cell_type": "code",
   "execution_count": null,
   "metadata": {},
   "outputs": [],
   "source": []
  },
  {
   "cell_type": "markdown",
   "metadata": {},
   "source": [
    "### Overfitting & Regularization\n",
    "\n",
    "*Regularization*: Adding external information to a machine learning model to make it \"well-posed\".\n",
    "\n",
    "Traditionally, we express a preference towards simpler, smoother models by adding a penalty.\n",
    "\n",
    "Model Error: $\\sum (y_i-\\hat{y_i})^2 + \\lambda \\sum ||W_j||^2$\n",
    "\n",
    "L2 Regularization, aka, Ridge Regression.\n",
    "\n",
    "$\\lambda$, is the regularization parameter and is a hyperparameter."
   ]
  },
  {
   "cell_type": "markdown",
   "metadata": {},
   "source": [
    "The **Diabetes Dataset**: 442 measurements from diabetes patients on features like age, sex, BMI, Blood Pressure, Serum measurements. The target is quantitative measurement of the progress of diabetes one year after these measurements were taken. \n",
    "\n",
    "A **good** ML model would be useful not just to predict the future incidence for new patients, but also evaluate the importance of different features on the progress of the disease.\n",
    "\n",
    "Cite[Efron, Hastie, etc \"LARS\"]"
   ]
  },
  {
   "cell_type": "code",
   "execution_count": 32,
   "metadata": {},
   "outputs": [],
   "source": [
    "dataset=datasets.load_diabetes()"
   ]
  },
  {
   "cell_type": "code",
   "execution_count": 33,
   "metadata": {},
   "outputs": [],
   "source": [
    "X=dataset.data\n",
    "y=dataset.target"
   ]
  },
  {
   "cell_type": "code",
   "execution_count": 34,
   "metadata": {},
   "outputs": [
    {
     "name": "stdout",
     "output_type": "stream",
     "text": [
      "['age', 'sex', 'bmi', 'bp', 's1', 's2', 's3', 's4', 's5', 's6']\n"
     ]
    }
   ],
   "source": [
    "print(dataset.feature_names)"
   ]
  },
  {
   "cell_type": "code",
   "execution_count": 35,
   "metadata": {},
   "outputs": [
    {
     "data": {
      "text/plain": [
       "Text(0, 0.5, 'Response')"
      ]
     },
     "execution_count": 35,
     "metadata": {},
     "output_type": "execute_result"
    },
    {
     "data": {
      "image/png": "[encoded data removed]",
      "text/plain": [
       "<Figure size 432x288 with 1 Axes>"
      ]
     },
     "metadata": {
      "needs_background": "light"
     },
     "output_type": "display_data"
    }
   ],
   "source": [
    "plt.scatter(X[:,2],y)\n",
    "plt.xlabel(\"BMI (Normalized)\")\n",
    "plt.ylabel(\"Response\")"
   ]
  },
  {
   "cell_type": "code",
   "execution_count": 38,
   "metadata": {},
   "outputs": [],
   "source": [
    "model=Ridge()"
   ]
  },
  {
   "cell_type": "code",
   "execution_count": 39,
   "metadata": {},
   "outputs": [],
   "source": [
    "alphas=np.array([1,0.1,0.01,0.001,0.0001])"
   ]
  },
  {
   "cell_type": "code",
   "execution_count": 40,
   "metadata": {},
   "outputs": [],
   "source": [
    "grid=GridSearchCV(estimator=model, param_grid=dict(alpha=alphas), cv=3)"
   ]
  },
  {
   "cell_type": "code",
   "execution_count": 41,
   "metadata": {},
   "outputs": [
    {
     "data": {
      "text/plain": [
       "GridSearchCV(cv=3, error_score='raise-deprecating',\n",
       "             estimator=Ridge(alpha=1.0, copy_X=True, fit_intercept=True,\n",
       "                             max_iter=None, normalize=False, random_state=None,\n",
       "                             solver='auto', tol=0.001),\n",
       "             iid='warn', n_jobs=None,\n",
       "             param_grid={'alpha': array([1.e+00, 1.e-01, 1.e-02, 1.e-03, 1.e-04])},\n",
       "             pre_dispatch='2*n_jobs', refit=True, return_train_score=False,\n",
       "             scoring=None, verbose=0)"
      ]
     },
     "execution_count": 41,
     "metadata": {},
     "output_type": "execute_result"
    }
   ],
   "source": [
    "grid.fit(X,y)"
   ]
  },
  {
   "cell_type": "code",
   "execution_count": 42,
   "metadata": {},
   "outputs": [
    {
     "name": "stdout",
     "output_type": "stream",
     "text": [
      "0.001\n"
     ]
    }
   ],
   "source": [
    "print(grid.best_estimator_.alpha)"
   ]
  },
  {
   "cell_type": "code",
   "execution_count": null,
   "metadata": {},
   "outputs": [],
   "source": []
  },
  {
   "cell_type": "markdown",
   "metadata": {},
   "source": [
    "### Solutions"
   ]
  },
  {
   "cell_type": "code",
   "execution_count": null,
   "metadata": {},
   "outputs": [],
   "source": [
    "#Exercise 1\n",
    "def mybinomial(p,N,k):\n",
    "    return binom(N,k)*(p**k)*(1-p)**(N-k)\n",
    "\n",
    "N=10\n",
    "p=1/6\n",
    "tosses=range(11)\n",
    "toss_probabilities=[mybinomial(p,N,x) for x in tosses]\n",
    "print(toss_probabilities)\n",
    "print(np.sum(toss_probabilities))\n",
    "\n",
    "plt.figure()\n",
    "plt.stem(tosses, toss_probabilities,'k')\n",
    "plt.xlabel(\"Number of Red faces seen in 10 rolls\")\n",
    "plt.ylabel(\"Probability\")\n",
    "plt.grid()"
   ]
  },
  {
   "cell_type": "code",
   "execution_count": null,
   "metadata": {},
   "outputs": [],
   "source": [
    "#Exercise 2\n",
    "num_red_faces=np.arange(7)\n",
    "prob_case=num_red_faces/6\n",
    "likelihoods=[mybinomial(p, 10, 2) for p in prob_case]\n",
    "\n",
    "print(likelihoods)\n",
    "print(np.sum(likelihoods))\n",
    "\n",
    "plt.figure()\n",
    "plt.stem(num_red_faces, likelihoods,'k')\n",
    "plt.xlabel(\"Number of Red faces on her die\")\n",
    "plt.ylabel(\"Likelihood\")\n",
    "plt.grid()"
   ]
  },
  {
   "cell_type": "code",
   "execution_count": null,
   "metadata": {},
   "outputs": [],
   "source": [
    "#Exercise 4\n",
    "class mylinearregression():\n",
    "    def __init__(self):\n",
    "        self.beta=np.random.randn(2,1)\n",
    "        \n",
    "    def predict(self, X):\n",
    "        return np.dot(X,self.beta)\n",
    "        \n",
    "    def error(self, X, Y):\n",
    "        n=Y.shape[0]\n",
    "        Yhat=self.predict(X)\n",
    "        return (np.dot((Y-Yhat).T,(Y-Yhat))/n).item()\n",
    "        \n",
    "    def gradients(self, X, Y):\n",
    "        derivative=np.dot(self.beta.T, np.dot(X.T,X))-np.dot(Y.T,X)\n",
    "        return derivative.T\n",
    "    \n",
    "    def train(self, X, Y, num_epochs=50, lr=0.001):\n",
    "        history=[]\n",
    "        for _ in range(num_epochs):\n",
    "            mse=self.error(X,Y)\n",
    "            self.beta=self.beta-lr*self.gradients(X,Y)\n",
    "            print('Iteration: {:03}, Error:{:.4f}'.format(_,mse))\n",
    "            history.append(mse)\n",
    "            \n",
    "        plt.figure()\n",
    "        plt.plot(history)\n",
    "        plt.grid()\n",
    "            \n",
    "    def plot(self, X, Y):\n",
    "        Yhat=self.predict(X)\n",
    "        plt.figure()\n",
    "        x=X[:,1]\n",
    "        plt.scatter(x,Y)\n",
    "        plt.plot(x,Yhat)\n",
    "    "
   ]
  },
  {
   "cell_type": "code",
   "execution_count": 9,
   "metadata": {},
   "outputs": [
    {
     "data": {
      "text/plain": [
       "<matplotlib.collections.PathCollection at 0x1293300d0>"
      ]
     },
     "execution_count": 9,
     "metadata": {},
     "output_type": "execute_result"
    },
    {
     "data": {
      "image/png": "[encoded data removed]",
      "text/plain": [
       "<Figure size 432x288 with 1 Axes>"
      ]
     },
     "metadata": {
      "needs_background": "light"
     },
     "output_type": "display_data"
    }
   ],
   "source": [
    "# Exercise 5\n",
    "np.random.seed(0)\n",
    "X = np.linspace(0,10,50)[:,np.newaxis]\n",
    "y = 2 * X.squeeze() + 5 + np.random.normal(size=50)\n",
    "\n",
    "plt.scatter(X,y)"
   ]
  },
  {
   "cell_type": "code",
   "execution_count": 30,
   "metadata": {},
   "outputs": [
    {
     "name": "stdout",
     "output_type": "stream",
     "text": [
      "mean squared error: 0.5743588276371987\n"
     ]
    }
   ],
   "source": [
    "# Exercise 6\n",
    "\n",
    "X_train, X_test, y_train, y_test = train_test_split(X, y, train_size=0.8)\n",
    "model2= LinearRegression(normalize=True)\n",
    "model2.fit(X_train,y_train)\n",
    "\n",
    "print (\"mean squared error:\", metrics.mean_squared_error(model.predict(X_test), y_test))\n",
    "\n"
   ]
  },
  {
   "cell_type": "code",
   "execution_count": 31,
   "metadata": {},
   "outputs": [
    {
     "data": {
      "text/plain": [
       "<matplotlib.legend.Legend at 0x12ada98d0>"
      ]
     },
     "execution_count": 31,
     "metadata": {},
     "output_type": "execute_result"
    },
    {
     "data": {
      "image/png": "[encoded data removed]",
      "text/plain": [
       "<Figure size 432x288 with 1 Axes>"
      ]
     },
     "metadata": {
      "needs_background": "light"
     },
     "output_type": "display_data"
    }
   ],
   "source": [
    "y_pred=model.predict(X_test)\n",
    "plt.figure()\n",
    "plt.scatter(X_test,y_test,label=\"Data\")\n",
    "plt.plot(X_test,y_pred,label=\"Model Predictions\")\n",
    "plt.legend()"
   ]
  },
  {
   "cell_type": "code",
   "execution_count": 28,
   "metadata": {},
   "outputs": [
    {
     "data": {
      "text/plain": [
       "((50, 1), (40, 1))"
      ]
     },
     "execution_count": 28,
     "metadata": {},
     "output_type": "execute_result"
    }
   ],
   "source": [
    "X.shape,X_test.shape"
   ]
  },
  {
   "cell_type": "code",
   "execution_count": 69,
   "metadata": {},
   "outputs": [
    {
     "name": "stdout",
     "output_type": "stream",
     "text": [
      "Degree:  1  Error:  1.620633493457999\n",
      "Degree:  2  Error:  1.0123306737234103\n",
      "Degree:  3  Error:  0.7591276824272327\n",
      "Degree:  4  Error:  0.642382707351224\n",
      "Degree:  5  Error:  0.5273746949430155\n",
      "Degree:  6  Error:  0.5801184778231192\n",
      "Degree:  7  Error:  0.6130792400693383\n",
      "Degree:  8  Error:  0.6027694825600365\n",
      "Degree:  9  Error:  0.6014718333552235\n",
      "Degree:  10  Error:  0.5987221100519929\n",
      "Degree:  11  Error:  0.5983662256258333\n",
      "Degree:  12  Error:  0.591547910951364\n",
      "Degree:  13  Error:  0.5781669906616733\n",
      "Degree:  14  Error:  0.5799109137822664\n",
      "Degree:  15  Error:  0.5779820809930112\n"
     ]
    },
    {
     "data": {
      "text/plain": [
       "[<matplotlib.lines.Line2D at 0x12af3be10>]"
      ]
     },
     "execution_count": 69,
     "metadata": {},
     "output_type": "execute_result"
    },
    {
     "data": {
      "image/png": "[encoded data removed]",
      "text/plain": [
       "<Figure size 432x288 with 1 Axes>"
      ]
     },
     "metadata": {
      "needs_background": "light"
     },
     "output_type": "display_data"
    }
   ],
   "source": [
    "# Exercise 7\n",
    "degrees=range(1,9)\n",
    "e=np.zeros(8)\n",
    "\n",
    "for i in range(8):\n",
    "    model = PolynomialRegression(degree=degrees[i])\n",
    "    model.fit(X_train, y_train)\n",
    "    e[i]=model.err(X_val,y_val)\n",
    "    print(\"Degree: \", degrees[i],\" Error: \",e[i])\n",
    "    \n",
    "plt.plot(degrees,e)"
   ]
  },
  {
   "cell_type": "code",
   "execution_count": 97,
   "metadata": {},
   "outputs": [
    {
     "data": {
      "text/plain": [
       "((400, 2), (100, 2), (400,), (100,))"
      ]
     },
     "execution_count": 97,
     "metadata": {},
     "output_type": "execute_result"
    }
   ],
   "source": [
    "# HW Exercise \n",
    "X_train, X_test, y_train, y_test = train_test_split(X, y, train_size=0.8)\n",
    "\n",
    "X_train.shape, X_test.shape, y_train.shape, y_test.shape"
   ]
  },
  {
   "cell_type": "code",
   "execution_count": null,
   "metadata": {},
   "outputs": [],
   "source": []
  }
 ],
 "metadata": {
  "kernelspec": {
   "display_name": "Python 3",
   "language": "python",
   "name": "python3"
  },
  "language_info": {
   "codemirror_mode": {
    "name": "ipython",
    "version": 3
   },
   "file_extension": ".py",
   "mimetype": "text/x-python",
   "name": "python",
   "nbconvert_exporter": "python",
   "pygments_lexer": "ipython3",
   "version": "3.8.5"
  }
 },
 "nbformat": 4,
 "nbformat_minor": 2
}
