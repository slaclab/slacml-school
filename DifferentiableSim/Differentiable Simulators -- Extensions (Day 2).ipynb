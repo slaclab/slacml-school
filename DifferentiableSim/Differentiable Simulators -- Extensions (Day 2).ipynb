{
 "cells": [
  {
   "cell_type": "code",
   "execution_count": 1,
   "id": "5c5beb6d",
   "metadata": {},
   "outputs": [],
   "source": [
    "import torch\n",
    "import matplotlib.pyplot as plt\n",
    "from tqdm import tqdm"
   ]
  },
  {
   "cell_type": "markdown",
   "id": "8bc0cf5a",
   "metadata": {},
   "source": [
    "## Recall:\n",
    "Yesterday, we developed a simple differentiable forward model and demonstrated a simple fitting of this forward model: namely, using 100 timesteps along a given trajectory, we can use our physics model and gradient descent to fit the initial position, velocity, and acceleration.\n",
    "\n",
    "As a reminder: our forward model is one function"
   ]
  },
  {
   "cell_type": "code",
   "execution_count": 2,
   "id": "a58a205c",
   "metadata": {},
   "outputs": [],
   "source": [
    "def position(t, a, x0, v0):\n",
    "    return x0 + v0*t + 0.5*a*t**2"
   ]
  },
  {
   "cell_type": "markdown",
   "id": "150aa6b1",
   "metadata": {},
   "source": [
    "which takes in parameters and (measurement) time steps"
   ]
  },
  {
   "cell_type": "code",
   "execution_count": 3,
   "id": "c6ad6199",
   "metadata": {},
   "outputs": [],
   "source": [
    "#Acceleration due to gravity (-9.8 m/s^2 in negative y direction)\n",
    "a_target = torch.tensor([0, -9.8])[None, :]\n",
    "\n",
    "#Initial velocity for fun (m / s)\n",
    "v0_target = torch.tensor([5, 10])[None, :]\n",
    "\n",
    "#Start at (0,10) [m]\n",
    "x0_target = torch.tensor([0,10])[None, :]\n",
    "\n",
    "#Data taken at 100 known timesteps from 0 to 5 s\n",
    "time_steps = torch.linspace(0, 5, 100)[:, None]"
   ]
  },
  {
   "cell_type": "code",
   "execution_count": 4,
   "id": "0dc40f4c",
   "metadata": {},
   "outputs": [],
   "source": [
    "trajectory_target = position(time_steps, a_target, x0_target, v0_target)"
   ]
  },
  {
   "cell_type": "markdown",
   "id": "b8fc0531",
   "metadata": {},
   "source": [
    "## Today: Who needs differentiable simulators, anyway?\n",
    "\n",
    "Rather than doing a parameter fitting with a differentiable forward model, we can also frame this fitting as a data-driven regression problem: namely given known trajectories $X$, corresponding parameters $\\theta$, learn a model $f$ such that:\n",
    "\n",
    "\\begin{equation}\n",
    "f(X) = \\theta\n",
    "\\end{equation}"
   ]
  },
  {
   "cell_type": "markdown",
   "id": "ede50cac",
   "metadata": {},
   "source": [
    "This is a fairly straightforward supervised learning problem -- let's try this out with a simple multi-layer perceptron (MLP). With PyTorch, we can make this as follows:"
   ]
  },
  {
   "cell_type": "code",
   "execution_count": 5,
   "id": "980085a8",
   "metadata": {},
   "outputs": [],
   "source": [
    "from torch import nn\n",
    "\n",
    "class MLP(nn.Module):\n",
    "    def __init__(self):\n",
    "        super().__init__()\n",
    "        \n",
    "        # Define layers -- we include 1 hidden layer for fun\n",
    "        self.layers = nn.Sequential(\n",
    "                          nn.Flatten(),\n",
    "                          nn.Linear(200, 50),\n",
    "                          nn.ReLU(),\n",
    "                          nn.Linear(50, 6)\n",
    "                        )\n",
    "\n",
    "\n",
    "    def forward(self, x):\n",
    "        out = self.layers(x)\n",
    "        out = out.reshape((-1, 3, 2))\n",
    "        return out"
   ]
  },
  {
   "cell_type": "markdown",
   "id": "9a84f990",
   "metadata": {},
   "source": [
    "We can then set up inputs and targets with appropriate dimensions. Let's do a single point to show that it works, but we'll add a new array dimension to allow for multiple trajectories (the \"batch dimension\")."
   ]
  },
  {
   "cell_type": "code",
   "execution_count": 6,
   "id": "997443b5",
   "metadata": {},
   "outputs": [],
   "source": [
    "inputs = trajectory_target[None, :, :]\n",
    "targets = torch.stack([a_target, x0_target, v0_target]).squeeze()[None, ...]"
   ]
  },
  {
   "cell_type": "markdown",
   "id": "d865792b",
   "metadata": {},
   "source": [
    "The training loop should look pretty familiar from yesterday:"
   ]
  },
  {
   "cell_type": "code",
   "execution_count": 7,
   "id": "4f20931d",
   "metadata": {
    "scrolled": false
   },
   "outputs": [
    {
     "name": "stderr",
     "output_type": "stream",
     "text": [
      "100%|██████████████████████████████████████████████████████████████████████████████████████████████████████████████████████████████████████████████████████| 1000/1000 [00:00<00:00, 1870.87it/s]\n"
     ]
    }
   ],
   "source": [
    "# Initialize the MLP\n",
    "mlp = MLP()\n",
    "\n",
    "# Define the loss function and optimizer\n",
    "loss_fn = nn.MSELoss()\n",
    "optimizer = torch.optim.Adam(mlp.parameters(), lr=1e-4)\n",
    "\n",
    "# Run the training loop\n",
    "for epoch in tqdm(range(1000)): \n",
    "\n",
    "    # Zero the gradients\n",
    "    optimizer.zero_grad()\n",
    "\n",
    "    # Perform forward pass\n",
    "    outputs = mlp(inputs)\n",
    "\n",
    "    # Compute loss\n",
    "    loss = loss_fn(outputs, targets)\n",
    "\n",
    "    # Perform backward pass\n",
    "    loss.backward()\n",
    "\n",
    "    # Perform optimization\n",
    "    optimizer.step()"
   ]
  },
  {
   "cell_type": "markdown",
   "id": "865ea2eb",
   "metadata": {},
   "source": [
    "and it converges, as we expect"
   ]
  },
  {
   "cell_type": "code",
   "execution_count": 8,
   "id": "0339ba25",
   "metadata": {
    "scrolled": true
   },
   "outputs": [
    {
     "data": {
      "text/plain": [
       "(tensor([[[ 9.5367e-07, -9.8000e+00],\n",
       "          [ 1.1176e-06,  1.0000e+01],\n",
       "          [ 5.0000e+00,  1.0000e+01]]], grad_fn=<ReshapeAliasBackward0>),\n",
       " tensor([[[ 0.0000, -9.8000],\n",
       "          [ 0.0000, 10.0000],\n",
       "          [ 5.0000, 10.0000]]]))"
      ]
     },
     "execution_count": 8,
     "metadata": {},
     "output_type": "execute_result"
    }
   ],
   "source": [
    "outputs, targets"
   ]
  },
  {
   "cell_type": "markdown",
   "id": "536260b2",
   "metadata": {},
   "source": [
    "We can try a not as silly example with some set of trajectories to learn some meaningful parameter estimation -- let's just do a range of different accelerations for simplicity, and include a validation set just to check"
   ]
  },
  {
   "cell_type": "markdown",
   "id": "c54230c9",
   "metadata": {},
   "source": [
    "v0 and x0 is the same for everything, we use torch.tile to repeat it a relevant number of times"
   ]
  },
  {
   "cell_type": "code",
   "execution_count": 9,
   "id": "2603fbd0",
   "metadata": {},
   "outputs": [],
   "source": [
    "train_size = 50\n",
    "valid_size = 50\n",
    "\n",
    "#Initial velocity for fun (m / s)\n",
    "v0s = torch.tile(torch.tensor([5., 10.])[None, :], (train_size+valid_size, 1, 1))\n",
    "\n",
    "#Start at (0,10) [m]\n",
    "x0s = torch.tile(torch.tensor([0.,10.])[None, :], (train_size+valid_size, 1, 1))\n",
    "\n",
    "#Data taken at 100 known timesteps from 0 to 5 s\n",
    "time_steps = torch.linspace(0, 5, 100)[None, :, None]"
   ]
  },
  {
   "cell_type": "markdown",
   "id": "6baad4a4",
   "metadata": {},
   "source": [
    "Take some range of y-accelerations"
   ]
  },
  {
   "cell_type": "code",
   "execution_count": 10,
   "id": "93d84e4b",
   "metadata": {},
   "outputs": [],
   "source": [
    "acc_range = torch.linspace(-12, 12, train_size+valid_size)"
   ]
  },
  {
   "cell_type": "markdown",
   "id": "b805deae",
   "metadata": {},
   "source": [
    "and then construct training and validation sets (seeding for reproducibility)"
   ]
  },
  {
   "cell_type": "code",
   "execution_count": 11,
   "id": "84060485",
   "metadata": {},
   "outputs": [],
   "source": [
    "torch.manual_seed(0)\n",
    "rand_idxs = torch.randperm(train_size+valid_size)\n",
    "train_idxs = rand_idxs[:train_size]\n",
    "valid_idxs = rand_idxs[valid_size:]"
   ]
  },
  {
   "cell_type": "code",
   "execution_count": 12,
   "id": "3ba30182",
   "metadata": {},
   "outputs": [],
   "source": [
    "accs_train = torch.zeros(size=(train_size, 1, 2))\n",
    "accs_train[:, :, 1] = acc_range[train_idxs][:, None]\n",
    "\n",
    "v0s_train =  v0s[train_idxs]\n",
    "x0s_train = x0s[train_idxs]\n",
    "\n",
    "trajectories_target_train = position(time_steps, accs_train, x0s_train, v0s_train)"
   ]
  },
  {
   "cell_type": "code",
   "execution_count": 13,
   "id": "e4225525",
   "metadata": {},
   "outputs": [],
   "source": [
    "accs_valid = torch.zeros(size=(valid_size, 1, 2))\n",
    "accs_valid[:, :, 1] = acc_range[valid_idxs][:, None]\n",
    "\n",
    "v0s_valid =  v0s[valid_idxs]\n",
    "x0s_valid = x0s[valid_idxs]\n",
    "\n",
    "trajectories_target_valid = position(time_steps, accs_valid, x0s_valid, v0s_valid)"
   ]
  },
  {
   "cell_type": "markdown",
   "id": "f3ed4672",
   "metadata": {},
   "source": [
    "Package into appropriate shape"
   ]
  },
  {
   "cell_type": "code",
   "execution_count": 14,
   "id": "2fc95a74",
   "metadata": {},
   "outputs": [],
   "source": [
    "inputs = trajectories_target_train\n",
    "targets = torch.cat((accs_train, x0s_train, v0s_train), dim=1)\n",
    "\n",
    "inputs_val = trajectories_target_valid\n",
    "targets_val = torch.cat((accs_valid, x0s_valid, v0s_valid), dim=1)"
   ]
  },
  {
   "cell_type": "markdown",
   "id": "b4ed369c",
   "metadata": {},
   "source": [
    "And then train real quick"
   ]
  },
  {
   "cell_type": "code",
   "execution_count": 15,
   "id": "dc6773bf",
   "metadata": {},
   "outputs": [
    {
     "name": "stderr",
     "output_type": "stream",
     "text": [
      "100%|████████████████████████████████████████████████████████████████████████████████████████████████████████████████████████████████████████████████████| 20000/20000 [00:12<00:00, 1575.41it/s]\n"
     ]
    }
   ],
   "source": [
    "# Initialize the MLP\n",
    "mlp = MLP()\n",
    "\n",
    "# Define the loss function and optimizer\n",
    "loss_fn = nn.MSELoss()\n",
    "optimizer = torch.optim.Adam(mlp.parameters(), lr=1e-5)\n",
    "\n",
    "losses = []\n",
    "losses_val = []\n",
    "# Run the training loop\n",
    "for epoch in tqdm(range(20000)): \n",
    "\n",
    "    # Zero the gradients\n",
    "    optimizer.zero_grad()\n",
    "\n",
    "    # Perform forward pass\n",
    "    outputs = mlp(inputs)\n",
    "\n",
    "    # Compute loss\n",
    "    loss = loss_fn(outputs, targets)\n",
    "    \n",
    "    with torch.no_grad():\n",
    "        out_valid = mlp(inputs_val)\n",
    "        loss_valid = loss_fn(out_valid, targets_val)\n",
    "        losses_val.append(loss_valid)\n",
    "\n",
    "    # Perform backward pass\n",
    "    loss.backward()\n",
    "\n",
    "    # Perform optimization\n",
    "    optimizer.step()\n",
    "    \n",
    "    losses.append(loss.item())"
   ]
  },
  {
   "cell_type": "code",
   "execution_count": 16,
   "id": "9e11f836",
   "metadata": {
    "scrolled": true
   },
   "outputs": [
    {
     "data": {
      "image/png": "[encoded data removed]",
      "text/plain": [
       "<Figure size 432x288 with 1 Axes>"
      ]
     },
     "metadata": {
      "needs_background": "light"
     },
     "output_type": "display_data"
    }
   ],
   "source": [
    "plt.plot(losses, label='Training Loss')\n",
    "plt.plot(losses_val, label='Validation Loss')\n",
    "plt.yscale('log')\n",
    "plt.legend()\n",
    "plt.xlabel('Training Iteration')\n",
    "plt.ylabel('Loss')\n",
    "plt.show()"
   ]
  },
  {
   "cell_type": "markdown",
   "id": "5d2c414b",
   "metadata": {},
   "source": [
    "Let's test the MLP prediction by a) sampling more finely and b) expanding the range of acceleration values considered"
   ]
  },
  {
   "cell_type": "code",
   "execution_count": 17,
   "id": "33fb1074",
   "metadata": {},
   "outputs": [],
   "source": [
    "n_test = 300\n",
    "#Acceleration due to gravity (-9.8 m/s^2 in negative y direction)\n",
    "accs_test = torch.zeros(size=(n_test, 1, 2))\n",
    "accs_test[:, :, 1] = torch.linspace(-13, 13, n_test)[:, None]\n",
    "\n",
    "#Initial velocity for fun (m / s)\n",
    "v0s = torch.tile(torch.tensor([5, 10])[None, :], (n_test, 1, 1))\n",
    "\n",
    "#Start at (0,10) [m]\n",
    "x0s = torch.tile(torch.tensor([0,10])[None, :], (n_test, 1, 1))\n",
    "\n",
    "#Data taken at n_test known timesteps from 0 to 5 s\n",
    "time_steps = torch.linspace(0, 5, 100)[None, :, None]\n",
    "\n",
    "trajectories_test = position(time_steps, accs_test, x0s, v0s)"
   ]
  },
  {
   "cell_type": "code",
   "execution_count": 18,
   "id": "52b7aee4",
   "metadata": {},
   "outputs": [],
   "source": [
    "pred = mlp(trajectories_test).detach()\n",
    "ax_test = pred[:, 0, 0]\n",
    "ay_test = pred[:, 0, 1]"
   ]
  },
  {
   "cell_type": "code",
   "execution_count": 19,
   "id": "2b76a53b",
   "metadata": {},
   "outputs": [
    {
     "data": {
      "image/png": "[encoded data removed]",
      "text/plain": [
       "<Figure size 432x288 with 1 Axes>"
      ]
     },
     "metadata": {
      "needs_background": "light"
     },
     "output_type": "display_data"
    }
   ],
   "source": [
    "plt.plot(ax_test, ay_test, label='Test MLP Prediction')\n",
    "plt.plot(accs_test[:, 0, 0], accs_test[:, 0, 1], label='True Values')\n",
    "plt.xlabel('$a_{x}$ [m / $s^2$]')\n",
    "plt.ylabel('$a_{y}$ [m / $s^2$]')\n",
    "plt.legend()\n",
    "#plt.xlim(-0.1, 0.1)\n",
    "plt.show()"
   ]
  },
  {
   "cell_type": "markdown",
   "id": "c6404838",
   "metadata": {},
   "source": [
    "Plotting the training points can be revealing:"
   ]
  },
  {
   "cell_type": "code",
   "execution_count": 20,
   "id": "dc7043d9",
   "metadata": {},
   "outputs": [
    {
     "data": {
      "image/png": "[encoded data removed]",
      "text/plain": [
       "<Figure size 432x288 with 1 Axes>"
      ]
     },
     "metadata": {
      "needs_background": "light"
     },
     "output_type": "display_data"
    }
   ],
   "source": [
    "plt.plot(ax_test, ay_test, label='Test MLP Prediction')\n",
    "plt.plot(accs_test[:, 0, 0], accs_test[:, 0, 1], label='True Values')\n",
    "plt.scatter(accs_train[:, 0, 0], accs_train[:, 0, 1], label='Training Values')\n",
    "plt.xlabel('$a_{x}$ [m / $s^2$]')\n",
    "plt.ylabel('$a_{y}$ [m / $s^2$]')\n",
    "plt.legend()\n",
    "#plt.xlim(-0.1, 0.1)\n",
    "plt.show()"
   ]
  },
  {
   "cell_type": "markdown",
   "id": "614a6f21",
   "metadata": {},
   "source": [
    "The MLP predictions for acceleration are very close to true values within the training range, but diverge as we go away from the training points -- we can, of course, make better models, but this emphasizes a point -- the MLP is fitting to training data, but has no explicit knowledge of the physics. \n",
    "\n",
    "But -- we've learned a (very simple) data-driven model for parameter estimation"
   ]
  },
  {
   "cell_type": "markdown",
   "id": "d284f333",
   "metadata": {},
   "source": [
    "## Why is this useful? \n",
    "\n",
    "Yesterday, we showed that given (1) a physics model (our differentiable forward model) and (2) a target trajectory, we could use gradient descent to learn the parameters of the target. \n",
    "\n",
    "In symbols, we have a simulator $\\Phi$ that maps from parameters $\\theta$ to trajectories $X$, or:\n",
    "\n",
    "\\begin{equation}\n",
    "\\Phi(\\theta) = X.\n",
    "\\end{equation}\n",
    "\n",
    "We can solve for the parameters of an arbitrary trajectory by _explicitly_ iterating on input parameters: namely comparing the output trajectory from some initial parameter guess and using backpropagation/gradient descent to update this parameter guess.\n",
    "\n",
    "\n",
    "Today, we have demonstrated that with no physics model, but with a set of trajectories and parameters, we can do a supervised training of a neural network to create a map from trajectories to parameters, namely, calling this map $f$, we learn\n",
    "\n",
    "\\begin{equation}\n",
    "f(X) = \\theta.\n",
    "\\end{equation}\n",
    "\n",
    "\n",
    "\n",
    "\n",
    "This supervised training is nice, and it works, but what if we only have the simulator and some data? Can we still learn f? It turns out, yes! We can do so with what we'll call a cycle-consistent loss, namely, if we chain together f and $\\Phi$, we get a mapping:\n",
    "\n",
    "\\begin{equation}\n",
    "\\Phi\\circ f: X \\rightarrow \\theta \\rightarrow X'.\n",
    "\\end{equation}\n",
    "\n",
    "In words, if we pass a set of trajectories through both $f$ and $\\Phi$, we get a new set of trajectories. Since $\\Phi$ is differentiable, we can backpropagate to update the parameters of $f$. In particular, if we define the loss such that $\\Phi\\circ f$ tries to reconstruct the input trajectories ($\\Phi\\circ f(X) = X$), we should _implicitly_ learn a mapping from $X$ to $\\theta$. That was a lot of words, so let's try it!"
   ]
  },
  {
   "cell_type": "markdown",
   "id": "29335e97",
   "metadata": {},
   "source": [
    "### Exercise:\n",
    "\n",
    "Using the existing `MLP` class from above and our differentiable simulator (the `position` function), write a chunk of code that goes from trajectories to parameters and back to trajectories. Don't worry about training just yet! Skeleton to help:"
   ]
  },
  {
   "cell_type": "code",
   "execution_count": 21,
   "id": "0fed0b62",
   "metadata": {},
   "outputs": [],
   "source": [
    "# Keep time steps fixed\n",
    "timesteps = torch.linspace(0, 5, 100)[:, None]\n",
    "\n",
    "# Initialize MLP (we'll train it later)\n",
    "mlp = MLP()\n",
    "\n",
    "# Go from inputs to parameters (output tensor shape n_batch x n_params x 2 spatial dims)\n",
    "\n",
    "\n",
    "# Reshape to extract individual params. Big hint:\n",
    "\n",
    "# Adds extra dim at position 1 (shape n_batch x filler timestep dim x n_params x 2 spatial dims)\n",
    "# parameters = torch.unsqueeze(parameters, 1)\n",
    "\n",
    "# Unpack to individual params (a is shape n_batch x 1 x 2, e.g.)\n",
    "#a = parameters[:, :, 0]\n",
    "#v0 = parameters[:, :, 1]\n",
    "#x0 = parameters[:, :, 2]\n",
    "\n",
    "# Go from parameters to trajectories \n",
    "\n"
   ]
  },
  {
   "cell_type": "markdown",
   "id": "dd756c4a",
   "metadata": {},
   "source": [
    "### Answer:"
   ]
  },
  {
   "cell_type": "code",
   "execution_count": 22,
   "id": "cb53133f",
   "metadata": {},
   "outputs": [],
   "source": [
    "# Keep time steps fixed\n",
    "timesteps = torch.linspace(0, 5, 100)[:, None]\n",
    "\n",
    "# Initialize MLP (we'll train it later)\n",
    "mlp = MLP()\n",
    "\n",
    "# Use MLP to map from inputs to parameters\n",
    "parameters = mlp(inputs)\n",
    "\n",
    "# We need to match up shapes:\n",
    "\n",
    "# Adds extra dim at position 1 (\"timestep\" dimension)\n",
    "parameters = torch.unsqueeze(parameters, 1)\n",
    "\n",
    "# Unpack to individual params\n",
    "a = parameters[:, :, 0]\n",
    "v0 = parameters[:, :, 1]\n",
    "x0 = parameters[:, :, 2]\n",
    "\n",
    "# Pass through forward model\n",
    "trajectories = position(timesteps, a, v0, x0)"
   ]
  },
  {
   "cell_type": "markdown",
   "id": "a9fc765b",
   "metadata": {},
   "source": [
    "We can think of _encoding_ trajectories into a parameter space using the MLP, and then _decoding_ the parameters to trajectories with our forward model. This type of structure is known as an _autoencoder_. Let's make this explicit by repackaging the example within the MLP class: "
   ]
  },
  {
   "cell_type": "code",
   "execution_count": 23,
   "id": "ea0a200d",
   "metadata": {},
   "outputs": [],
   "source": [
    "class MLP_autoencoder(nn.Module):\n",
    "    def __init__(self):\n",
    "        super().__init__()\n",
    "        \n",
    "        # Same MLP from above\n",
    "        self.layers = nn.Sequential(\n",
    "                          nn.Flatten(),\n",
    "                          nn.Linear(200, 50),\n",
    "                          nn.ReLU(),\n",
    "                          nn.Linear(50, 6)\n",
    "                        )\n",
    "        \n",
    "        # We're keeping time steps fixed for this tutorial\n",
    "        self.timesteps = torch.linspace(0, 5, 100)[:, None]\n",
    "\n",
    "    # Map from trajectories to parameters by applying the MLP\n",
    "    def encode(self, x):\n",
    "        out = self.layers(x)\n",
    "        out = out.reshape((-1, 3, 2))\n",
    "        return out\n",
    "    \n",
    "    # Reshape and map from parameters to trajectories\n",
    "    def decode(self, params):\n",
    "        params = torch.unsqueeze(params, 1)\n",
    "        a = params[:, :, 0]\n",
    "        v0 = params[:, :, 1]\n",
    "        x0 = params[:, :, 2]\n",
    "        return position(self.timesteps, a, v0, x0)\n",
    "    \n",
    "    # Forward run is decode(encode(x))\n",
    "    def forward(self, x):\n",
    "        enc = self.encode(x)\n",
    "        dec = self.decode(enc)\n",
    "        return dec"
   ]
  },
  {
   "cell_type": "markdown",
   "id": "0ab14762",
   "metadata": {},
   "source": [
    "The fun thing with this tutorial is that **only the encoder is learnable** -- the decoder is fixed, and given by the forward model. \n",
    "\n",
    "Crucially, however, our decoder is differentiable, otherwise we wouldn't be able to train this autoencoder via backpropagation!"
   ]
  },
  {
   "cell_type": "markdown",
   "id": "f473a151",
   "metadata": {},
   "source": [
    "Speaking of training, let's look at the same training set as before:"
   ]
  },
  {
   "cell_type": "code",
   "execution_count": 24,
   "id": "44734052",
   "metadata": {},
   "outputs": [],
   "source": [
    "train_size = 50\n",
    "valid_size = 50\n",
    "\n",
    "#Initial velocity for fun (m / s)\n",
    "v0s = torch.tile(torch.tensor([5., 10.])[None, :], (train_size+valid_size, 1, 1))\n",
    "\n",
    "#Start at (0,10) [m]\n",
    "x0s = torch.tile(torch.tensor([0.,10.])[None, :], (train_size+valid_size, 1, 1))\n",
    "\n",
    "#Data taken at 100 known timesteps from 0 to 5 s\n",
    "time_steps = torch.linspace(0, 5, 100)[None, :, None]"
   ]
  },
  {
   "cell_type": "markdown",
   "id": "a2d9677a",
   "metadata": {},
   "source": [
    "Take some range of y-accelerations"
   ]
  },
  {
   "cell_type": "code",
   "execution_count": 25,
   "id": "6b7d5bef",
   "metadata": {},
   "outputs": [],
   "source": [
    "acc_range = torch.linspace(-12, 12, train_size+valid_size)"
   ]
  },
  {
   "cell_type": "markdown",
   "id": "50b1f9c8",
   "metadata": {},
   "source": [
    "and then construct training and validation sets (seeding for reproducibility)"
   ]
  },
  {
   "cell_type": "code",
   "execution_count": 26,
   "id": "8ad8c104",
   "metadata": {},
   "outputs": [],
   "source": [
    "torch.manual_seed(0)\n",
    "rand_idxs = torch.randperm(train_size+valid_size)\n",
    "train_idxs = rand_idxs[:train_size]\n",
    "valid_idxs = rand_idxs[valid_size:]"
   ]
  },
  {
   "cell_type": "code",
   "execution_count": 27,
   "id": "cd00f748",
   "metadata": {},
   "outputs": [],
   "source": [
    "accs_train = torch.zeros(size=(train_size, 1, 2))\n",
    "accs_train[:, :, 1] = acc_range[train_idxs][:, None]\n",
    "\n",
    "v0s_train =  v0s[train_idxs]\n",
    "x0s_train = x0s[train_idxs]\n",
    "\n",
    "trajectories_target_train = position(time_steps, accs_train, x0s_train, v0s_train)"
   ]
  },
  {
   "cell_type": "code",
   "execution_count": 28,
   "id": "2181acd2",
   "metadata": {},
   "outputs": [],
   "source": [
    "accs_valid = torch.zeros(size=(valid_size, 1, 2))\n",
    "accs_valid[:, :, 1] = acc_range[valid_idxs][:, None]\n",
    "\n",
    "v0s_valid =  v0s[valid_idxs]\n",
    "x0s_valid = x0s[valid_idxs]\n",
    "\n",
    "trajectories_target_valid = position(time_steps, accs_valid, x0s_valid, v0s_valid)"
   ]
  },
  {
   "cell_type": "markdown",
   "id": "eeecd6f7",
   "metadata": {},
   "source": [
    "Package into appropriate shape"
   ]
  },
  {
   "cell_type": "code",
   "execution_count": 29,
   "id": "da81b695",
   "metadata": {},
   "outputs": [],
   "source": [
    "inputs = trajectories_target_train\n",
    "targets = torch.cat((accs_train, x0s_train, v0s_train), dim=1)\n",
    "\n",
    "inputs_val = trajectories_target_valid\n",
    "targets_val = torch.cat((accs_valid, x0s_valid, v0s_valid), dim=1)"
   ]
  },
  {
   "cell_type": "markdown",
   "id": "0a8345af",
   "metadata": {},
   "source": [
    "Now we have something very interesting! We can learn the encoder in a supervised way (as we did above), but, we also no longer need explict labels! Namely, since the autoencoder maps from trajectories to trajectories, we only ever need to compare trajectories!\n",
    "\n",
    "\n",
    "A particularly useful case is when we set our targets to learn:\n",
    "\n",
    "\\begin{equation}\n",
    "\\Phi \\circ f(X) = X\n",
    "\\end{equation}\n",
    "\n",
    "namely, we try to reconstruct the inputs. We can then _implicitly_ learn trajectory parameters. The training loop looks like:"
   ]
  },
  {
   "cell_type": "code",
   "execution_count": 30,
   "id": "2ff41724",
   "metadata": {},
   "outputs": [
    {
     "name": "stderr",
     "output_type": "stream",
     "text": [
      "100%|█████████████████████████████████████████████████████████████████████████████████████████████████████████████████████████████████████████████████████| 20000/20000 [00:25<00:00, 779.93it/s]\n"
     ]
    }
   ],
   "source": [
    "# Initialize the MLP\n",
    "mlp_auto = MLP_autoencoder()\n",
    "\n",
    "# Define the loss function and optimizer\n",
    "loss_fn = nn.MSELoss()\n",
    "optimizer = torch.optim.Adam(mlp_auto.parameters(), lr=1e-5)\n",
    "\n",
    "losses = []\n",
    "losses = []\n",
    "losses_val = []\n",
    "# Run the training loop\n",
    "for epoch in tqdm(range(20000)): \n",
    "\n",
    "    # Zero the gradients\n",
    "    optimizer.zero_grad()\n",
    "    \n",
    "    outputs = mlp_auto(inputs)\n",
    "    \n",
    "    # Compute loss\n",
    "    loss = loss_fn(outputs, inputs)\n",
    "    \n",
    "    with torch.no_grad():\n",
    "        out_valid = mlp_auto(inputs_val)\n",
    "        loss_valid = loss_fn(out_valid, inputs_val)\n",
    "        losses_val.append(loss_valid)\n",
    "\n",
    "    # Perform backward pass\n",
    "    loss.backward()\n",
    "\n",
    "    # Perform optimization\n",
    "    optimizer.step()\n",
    "    \n",
    "    losses.append(loss.item())"
   ]
  },
  {
   "cell_type": "code",
   "execution_count": 31,
   "id": "1ca3640c",
   "metadata": {
    "scrolled": true
   },
   "outputs": [
    {
     "data": {
      "image/png": "[encoded data removed]",
      "text/plain": [
       "<Figure size 432x288 with 1 Axes>"
      ]
     },
     "metadata": {
      "needs_background": "light"
     },
     "output_type": "display_data"
    }
   ],
   "source": [
    "plt.plot(losses, label='Training Loss')\n",
    "plt.plot(losses_val, label='Validation Loss')\n",
    "plt.yscale('log')\n",
    "plt.legend()\n",
    "plt.xlabel('Training Iteration')\n",
    "plt.ylabel('Loss')\n",
    "plt.show()"
   ]
  },
  {
   "cell_type": "markdown",
   "id": "df0b3b85",
   "metadata": {},
   "source": [
    "Let's test the MLP prediction by a) sampling more finely and b) expanding the range of acceleration values considered"
   ]
  },
  {
   "cell_type": "code",
   "execution_count": 32,
   "id": "d197d50f",
   "metadata": {},
   "outputs": [],
   "source": [
    "#Acceleration due to gravity (-9.8 m/s^2 in negative y direction)\n",
    "accs_test = torch.zeros(size=(100, 1, 2))\n",
    "accs_test[:, :, 1] = torch.linspace(-14, 14, 100)[:, None]\n",
    "\n",
    "#Initial velocity for fun (m / s)\n",
    "v0s = torch.tile(torch.tensor([5, 10])[None, :], (100, 1, 1))\n",
    "\n",
    "#Start at (0,10) [m]\n",
    "x0s = torch.tile(torch.tensor([0,10])[None, :], (100, 1, 1))\n",
    "\n",
    "#Data taken at 100 known timesteps from 0 to 5 s\n",
    "time_steps = torch.linspace(0, 5, 100)[None, :, None]\n",
    "\n",
    "trajectories_test = position(time_steps, accs_test, x0s, v0s)"
   ]
  },
  {
   "cell_type": "code",
   "execution_count": 33,
   "id": "6eabedc3",
   "metadata": {},
   "outputs": [],
   "source": [
    "pred = mlp_auto.encode(trajectories_test).detach()\n",
    "ax_test = pred[:, 0, 0]\n",
    "ay_test = pred[:, 0, 1]"
   ]
  },
  {
   "cell_type": "code",
   "execution_count": 34,
   "id": "3d308e2a",
   "metadata": {},
   "outputs": [
    {
     "data": {
      "image/png": "[encoded data removed]",
      "text/plain": [
       "<Figure size 432x288 with 1 Axes>"
      ]
     },
     "metadata": {
      "needs_background": "light"
     },
     "output_type": "display_data"
    }
   ],
   "source": [
    "plt.plot(ax_test, ay_test, label='Test MLP Prediction')\n",
    "plt.plot(accs_test[:, 0, 0], accs_test[:, 0, 1], label='True Values')\n",
    "plt.xlabel('$a_{x}$ [m / $s^2$]')\n",
    "plt.ylabel('$a_{y}$ [m / $s^2$]')\n",
    "plt.legend()\n",
    "#plt.xlim(-0.1, 0.1)\n",
    "plt.show()"
   ]
  },
  {
   "cell_type": "markdown",
   "id": "94ec2f86",
   "metadata": {},
   "source": [
    "It works! And with the training points:"
   ]
  },
  {
   "cell_type": "code",
   "execution_count": 35,
   "id": "fa7a40ae",
   "metadata": {},
   "outputs": [
    {
     "data": {
      "image/png": "[encoded data removed]",
      "text/plain": [
       "<Figure size 432x288 with 1 Axes>"
      ]
     },
     "metadata": {
      "needs_background": "light"
     },
     "output_type": "display_data"
    }
   ],
   "source": [
    "plt.plot(ax_test, ay_test, label='Test MLP Prediction')\n",
    "plt.plot(accs_test[:, 0, 0], accs_test[:, 0, 1], label='True Values')\n",
    "plt.scatter(accs_train[:, 0, 0], accs_train[:, 0, 1], label='Training Values')\n",
    "plt.xlabel('$a_{x}$ [m / $s^2$]')\n",
    "plt.ylabel('$a_{y}$ [m / $s^2$]')\n",
    "plt.legend()\n",
    "#plt.xlim(-0.1, 0.1)\n",
    "plt.show()"
   ]
  },
  {
   "cell_type": "markdown",
   "id": "01d1244d",
   "metadata": {},
   "source": [
    "The fully supervised setting and this unsupervised parameter learning do not have to be distinct! We can use this physics model decoding as a _regularizer_ in a fully supervised setting."
   ]
  },
  {
   "cell_type": "markdown",
   "id": "fbf2079d",
   "metadata": {},
   "source": [
    "### Exercise: \n",
    "Using the MLP autoencoder class, write down a loss that is the sum of the fully supervised loss and the unsupervised autoencoder loss. Use `inputs` as the input trajectories, `targets` as the parameter targets. Skeleton:"
   ]
  },
  {
   "cell_type": "code",
   "execution_count": 36,
   "id": "47cdbaa4",
   "metadata": {},
   "outputs": [],
   "source": [
    "# Initialize\n",
    "mlp_auto = MLP_autoencoder()\n",
    "\n",
    "# Use MSE loss for both\n",
    "loss_fn = nn.MSELoss()\n",
    "\n",
    "# Calculate predicted parameters given input trajectories (encode)\n",
    "\n",
    "# Calculate predicted trajectories given input trajectories\n",
    "\n",
    "# Calculate loss between predicted parameters and target\n",
    "\n",
    "# Calculate loss between predicted trajectories and inputs\n",
    "\n",
    "# Sum them up for total loss -- introduce a regularization strength on the autoencoder loss\n",
    "\n"
   ]
  },
  {
   "cell_type": "markdown",
   "id": "28034980",
   "metadata": {},
   "source": [
    "### Answer (in a training loop)"
   ]
  },
  {
   "cell_type": "code",
   "execution_count": 38,
   "id": "25bfd570",
   "metadata": {},
   "outputs": [
    {
     "name": "stderr",
     "output_type": "stream",
     "text": [
      "100%|█████████████████████████████████████████████████████████████████████████████████████████████████████████████████████████████████████████████████████| 20000/20000 [00:29<00:00, 667.44it/s]\n"
     ]
    }
   ],
   "source": [
    "# Initialize the MLP\n",
    "mlp_auto = MLP_autoencoder()\n",
    "\n",
    "# Define the loss function and optimizer\n",
    "loss_fn = nn.MSELoss()\n",
    "optimizer = torch.optim.Adam(mlp_auto.parameters(), lr=1e-5)\n",
    "reg = 0.8\n",
    "\n",
    "losses = []\n",
    "losses_val = []\n",
    "# Run the training loop\n",
    "for epoch in tqdm(range(20000)): \n",
    "\n",
    "    # Zero the gradients\n",
    "    optimizer.zero_grad()\n",
    "    \n",
    "    output_params = mlp_auto.encode(inputs)\n",
    "    output_traj = mlp_auto(inputs)\n",
    "    \n",
    "    # Compute loss\n",
    "    loss = loss_fn(output_params, targets) + reg*loss_fn(output_traj, inputs)\n",
    "    \n",
    "    with torch.no_grad():\n",
    "        output_params_val = mlp_auto.encode(inputs_val)\n",
    "        output_traj_val = mlp_auto(inputs_val)\n",
    "        loss_valid = loss_fn(output_params_val, targets_val)+ reg*loss_fn(output_traj_val, inputs_val)\n",
    "        losses_val.append(loss_valid)\n",
    "\n",
    "    # Perform backward pass\n",
    "    loss.backward()\n",
    "\n",
    "    # Perform optimization\n",
    "    optimizer.step()\n",
    "    \n",
    "    losses.append(loss.item())"
   ]
  },
  {
   "cell_type": "code",
   "execution_count": 39,
   "id": "942c6d89",
   "metadata": {},
   "outputs": [
    {
     "data": {
      "image/png": "[encoded data removed]",
      "text/plain": [
       "<Figure size 432x288 with 1 Axes>"
      ]
     },
     "metadata": {
      "needs_background": "light"
     },
     "output_type": "display_data"
    }
   ],
   "source": [
    "plt.plot(losses, label='Training Loss')\n",
    "plt.plot(losses_val, label='Validation Loss')\n",
    "plt.yscale('log')\n",
    "plt.legend()\n",
    "plt.xlabel('Training Iteration')\n",
    "plt.ylabel('Loss')\n",
    "plt.show()"
   ]
  },
  {
   "cell_type": "code",
   "execution_count": 40,
   "id": "7b8576a2",
   "metadata": {},
   "outputs": [],
   "source": [
    "pred = mlp_auto.encode(trajectories_test).detach()\n",
    "ax_test = pred[:, 0, 0]\n",
    "ay_test = pred[:, 0, 1]"
   ]
  },
  {
   "cell_type": "code",
   "execution_count": 41,
   "id": "f1329902",
   "metadata": {},
   "outputs": [
    {
     "data": {
      "image/png": "[encoded data removed]",
      "text/plain": [
       "<Figure size 432x288 with 1 Axes>"
      ]
     },
     "metadata": {
      "needs_background": "light"
     },
     "output_type": "display_data"
    }
   ],
   "source": [
    "plt.plot(ax_test, ay_test, label='Test MLP Prediction')\n",
    "plt.plot(accs_test[:, 0, 0], accs_test[:, 0, 1], label='True Values')\n",
    "plt.scatter(accs_train[:, 0, 0], accs_train[:, 0, 1], label='Training Values')\n",
    "plt.xlabel('$a_{x}$ [m / $s^2$]')\n",
    "plt.ylabel('$a_{y}$ [m / $s^2$]')\n",
    "plt.legend()\n",
    "#plt.xlim(-0.1, 0.1)\n",
    "plt.show()"
   ]
  },
  {
   "cell_type": "markdown",
   "id": "43b667f9",
   "metadata": {},
   "source": [
    "In this simple case, we don't necessariy expect a big impact -- but it's a useful strategy to keep in mind!"
   ]
  },
  {
   "cell_type": "markdown",
   "id": "fa713d40",
   "metadata": {},
   "source": [
    "## Advantages of autoencoder setup vs standard MLP\n",
    "\n",
    "In the above autoencoder setup, we saw that we could achieve similar results as the fully supervised training. But our only input was trajectories! In that sense, our test set isn't super meaningful -- we have a setup that will fit to our data in much the same way as our autodiff solution from yesterday. If the reconstruction is good, we can be confident in our parameter values."
   ]
  },
  {
   "cell_type": "markdown",
   "id": "dc807c2d",
   "metadata": {},
   "source": [
    "Let's demonstrate this for a single trajectory. Training is much the same as usual:"
   ]
  },
  {
   "cell_type": "code",
   "execution_count": 42,
   "id": "a505771b",
   "metadata": {},
   "outputs": [],
   "source": [
    "inputs = trajectory_target[None, :, :]\n",
    "targets = torch.stack([a_target, x0_target, v0_target]).squeeze()[None, ...]"
   ]
  },
  {
   "cell_type": "code",
   "execution_count": 43,
   "id": "dfbe8f39",
   "metadata": {},
   "outputs": [
    {
     "name": "stderr",
     "output_type": "stream",
     "text": [
      "100%|██████████████████████████████████████████████████████████████████████████████████████████████████████████████████████████████████████████████████████| 5000/5000 [00:03<00:00, 1525.35it/s]\n"
     ]
    }
   ],
   "source": [
    "# Initialize the MLP\n",
    "mlp_auto = MLP_autoencoder()\n",
    "\n",
    "# Define the loss function and optimizer\n",
    "loss_fn = nn.MSELoss()\n",
    "optimizer = torch.optim.Adam(mlp_auto.parameters(), lr=1e-4)\n",
    "\n",
    "# Run the training loop\n",
    "for epoch in tqdm(range(5000)): \n",
    "\n",
    "    # Zero the gradients\n",
    "    optimizer.zero_grad()\n",
    "\n",
    "    # Perform forward pass\n",
    "    outputs = mlp_auto(inputs)\n",
    "\n",
    "    # Compute loss\n",
    "    loss = loss_fn(outputs, inputs)\n",
    "\n",
    "    # Perform backward pass\n",
    "    loss.backward()\n",
    "\n",
    "    # Perform optimization\n",
    "    optimizer.step()"
   ]
  },
  {
   "cell_type": "markdown",
   "id": "7628a7b3",
   "metadata": {},
   "source": [
    "And converges well -- input and output trajectories match:"
   ]
  },
  {
   "cell_type": "code",
   "execution_count": 44,
   "id": "30825765",
   "metadata": {
    "scrolled": true
   },
   "outputs": [
    {
     "data": {
      "image/png": "[encoded data removed]",
      "text/plain": [
       "<Figure size 432x288 with 1 Axes>"
      ]
     },
     "metadata": {
      "needs_background": "light"
     },
     "output_type": "display_data"
    }
   ],
   "source": [
    "plt.plot(outputs.detach().numpy()[0, :, 0], outputs.detach().numpy()[0, :, 1])\n",
    "plt.plot(inputs.numpy()[0, :, 0], inputs.numpy()[0, :, 1])\n",
    "plt.show()"
   ]
  },
  {
   "cell_type": "markdown",
   "id": "b64c5d1c",
   "metadata": {},
   "source": [
    "And the outputs of the encoder match the \"true\" parameters:"
   ]
  },
  {
   "cell_type": "code",
   "execution_count": 45,
   "id": "5bcc9bb2",
   "metadata": {},
   "outputs": [
    {
     "data": {
      "text/plain": [
       "(tensor([[[ 9.2387e-07, -9.8000e+00],\n",
       "          [ 3.2783e-07,  1.0000e+01],\n",
       "          [ 5.0000e+00,  1.0000e+01]]]),\n",
       " tensor([[[ 0.0000, -9.8000],\n",
       "          [ 0.0000, 10.0000],\n",
       "          [ 5.0000, 10.0000]]]))"
      ]
     },
     "execution_count": 45,
     "metadata": {},
     "output_type": "execute_result"
    }
   ],
   "source": [
    "mlp_auto.encode(inputs).detach(), targets"
   ]
  },
  {
   "cell_type": "markdown",
   "id": "39a8e437",
   "metadata": {},
   "source": [
    "This particular network doesn't generalize well:"
   ]
  },
  {
   "cell_type": "code",
   "execution_count": 46,
   "id": "01e0dc88",
   "metadata": {},
   "outputs": [],
   "source": [
    "pred = mlp_auto.encode(trajectories_test).detach()\n",
    "ax_test = pred[:, 0, 0]\n",
    "ay_test = pred[:, 0, 1]"
   ]
  },
  {
   "cell_type": "code",
   "execution_count": 47,
   "id": "27b2d62f",
   "metadata": {},
   "outputs": [
    {
     "data": {
      "image/png": "[encoded data removed]",
      "text/plain": [
       "<Figure size 432x288 with 1 Axes>"
      ]
     },
     "metadata": {
      "needs_background": "light"
     },
     "output_type": "display_data"
    }
   ],
   "source": [
    "plt.plot(ax_test, ay_test, label='Test MLP Prediction')\n",
    "plt.plot(accs_test[:, 0, 0], accs_test[:, 0, 1], label='True Values')\n",
    "plt.scatter(a_target[:, 0], a_target[:, 1], label='Training Value')\n",
    "plt.xlabel('$a_{x}$ [m / $s^2$]')\n",
    "plt.ylabel('$a_{y}$ [m / $s^2$]')\n",
    "plt.legend()\n",
    "#plt.xlim(-0.1, 0.1)\n",
    "plt.show()"
   ]
  },
  {
   "cell_type": "code",
   "execution_count": 48,
   "id": "3d724716",
   "metadata": {},
   "outputs": [
    {
     "data": {
      "text/plain": [
       "(torch.Size([100, 100, 2]), torch.Size([1, 100, 2]))"
      ]
     },
     "execution_count": 48,
     "metadata": {},
     "output_type": "execute_result"
    }
   ],
   "source": [
    "trajectories_test.shape, inputs.shape"
   ]
  },
  {
   "cell_type": "markdown",
   "id": "e3e3384e",
   "metadata": {},
   "source": [
    "But we don't expect it to! We have no dependence on the true labels, so there's no problem with running a fit for any arbitrary trajectory: "
   ]
  },
  {
   "cell_type": "code",
   "execution_count": 49,
   "id": "161949ce",
   "metadata": {},
   "outputs": [
    {
     "name": "stderr",
     "output_type": "stream",
     "text": [
      "100%|██████████████████████████████████████████████████████████████████████████████████████████████████████████████████████████████████████████████████████████████| 4/4 [00:12<00:00,  3.17s/it]\n"
     ]
    }
   ],
   "source": [
    "pred_a = []\n",
    "check_idxs = [0, 10, 50, 99]\n",
    "for traj in tqdm(trajectories_test[check_idxs]):\n",
    "    traj = torch.unsqueeze(traj, 0)\n",
    "    \n",
    "    # Initialize the MLP\n",
    "    mlp_auto = MLP_autoencoder()\n",
    "\n",
    "    # Define the loss function and optimizer\n",
    "    loss_fn = nn.MSELoss()\n",
    "    optimizer = torch.optim.Adam(mlp_auto.parameters(), lr=1e-4)\n",
    "\n",
    "    # Run the training loop\n",
    "    for epoch in range(5000): \n",
    "\n",
    "        # Zero the gradients\n",
    "        optimizer.zero_grad()\n",
    "\n",
    "        # Perform forward pass\n",
    "        outputs = mlp_auto(traj)\n",
    "\n",
    "        # Compute loss\n",
    "        loss = loss_fn(outputs, traj)\n",
    "\n",
    "        # Perform backward pass\n",
    "        loss.backward()\n",
    "\n",
    "        # Perform optimization\n",
    "        optimizer.step()\n",
    "    \n",
    "    pred_a.append(mlp_auto.encode(traj)[:, 0, :].detach())\n",
    "    \n",
    "pred_a = torch.stack(pred_a)"
   ]
  },
  {
   "cell_type": "code",
   "execution_count": 50,
   "id": "2ce3f594",
   "metadata": {},
   "outputs": [
    {
     "data": {
      "image/png": "[encoded data removed]",
      "text/plain": [
       "<Figure size 432x288 with 1 Axes>"
      ]
     },
     "metadata": {
      "needs_background": "light"
     },
     "output_type": "display_data"
    }
   ],
   "source": [
    "plt.plot(pred_a[:, 0, 0], pred_a[:, 0, 1], label='Test MLP Prediction')\n",
    "plt.plot(accs_test[:, 0, 0], accs_test[:, 0, 1], label='True Values')\n",
    "plt.xlabel('$a_{x}$ [m / $s^2$]')\n",
    "plt.ylabel('$a_{y}$ [m / $s^2$]')\n",
    "plt.legend()\n",
    "plt.xlim(-0.2, 0.2)\n",
    "plt.show()"
   ]
  },
  {
   "cell_type": "markdown",
   "id": "cd0a014f",
   "metadata": {},
   "source": [
    "## Why don't we just autodiff? Noisy inputs and encoding\n",
    "Now suppose we have some measurement noise, which we'll assume to be Gaussian for simplicity. We can make the same measurement multiple times, which gives us a bit more info:"
   ]
  },
  {
   "cell_type": "code",
   "execution_count": 51,
   "id": "d5fb9575",
   "metadata": {},
   "outputs": [],
   "source": [
    "noisy_target = trajectory_target + torch.normal(torch.zeros((500,)+trajectory_target.shape), \n",
    "                                                torch.ones((500,)+trajectory_target.shape)*0.2)"
   ]
  },
  {
   "cell_type": "code",
   "execution_count": 52,
   "id": "c72788e0",
   "metadata": {},
   "outputs": [
    {
     "data": {
      "text/plain": [
       "torch.Size([500, 100, 2])"
      ]
     },
     "execution_count": 52,
     "metadata": {},
     "output_type": "execute_result"
    }
   ],
   "source": [
    "noisy_target.shape"
   ]
  },
  {
   "cell_type": "code",
   "execution_count": 53,
   "id": "e6843b1f",
   "metadata": {},
   "outputs": [
    {
     "data": {
      "image/png": "[encoded data removed]",
      "text/plain": [
       "<Figure size 432x288 with 1 Axes>"
      ]
     },
     "metadata": {
      "needs_background": "light"
     },
     "output_type": "display_data"
    }
   ],
   "source": [
    "for i in range(len(noisy_target)):\n",
    "    plt.plot(noisy_target[i, :, 0], noisy_target[i, :, 1])\n",
    "plt.plot(trajectory_target[:, 0], trajectory_target[:, 1])\n",
    "plt.show()"
   ]
  },
  {
   "cell_type": "markdown",
   "id": "a3b8c3ff",
   "metadata": {},
   "source": [
    "We might expect noise on the input to translate into some uncertainty on the fitted trajectory parameters. How do we estimate this? A first naive thing to do is try to learn parameters for each measurement -- we'll do so with our autoencoder setup for now:"
   ]
  },
  {
   "cell_type": "code",
   "execution_count": 54,
   "id": "83611af4",
   "metadata": {},
   "outputs": [],
   "source": [
    "inputs = noisy_target.clone()"
   ]
  },
  {
   "cell_type": "code",
   "execution_count": 55,
   "id": "f6723d22",
   "metadata": {
    "scrolled": true
   },
   "outputs": [
    {
     "name": "stderr",
     "output_type": "stream",
     "text": [
      "100%|███████████████████████████████████████████████████████████████████████████████████████████████████████████████████████████████████████████████████████| 3000/3000 [00:07<00:00, 393.17it/s]\n"
     ]
    }
   ],
   "source": [
    "# Initialize the MLP\n",
    "mlp_auto = MLP_autoencoder()\n",
    "\n",
    "# Define the loss function and optimizer\n",
    "loss_fn = nn.MSELoss()\n",
    "optimizer = torch.optim.Adam(mlp_auto.parameters(), lr=1e-4)\n",
    "\n",
    "losses = []\n",
    "# Run the training loop\n",
    "for epoch in tqdm(range(3000)): \n",
    "\n",
    "    # Zero the gradients\n",
    "    optimizer.zero_grad()\n",
    "\n",
    "    # Perform forward pass\n",
    "    outputs = mlp_auto(inputs)\n",
    "\n",
    "    # Compute loss\n",
    "    loss = loss_fn(outputs, inputs)\n",
    "\n",
    "    # Perform backward pass\n",
    "    loss.backward()\n",
    "\n",
    "    # Perform optimization\n",
    "    optimizer.step()\n",
    "    \n",
    "    losses.append(loss.item())"
   ]
  },
  {
   "cell_type": "code",
   "execution_count": 56,
   "id": "841769e3",
   "metadata": {},
   "outputs": [
    {
     "data": {
      "image/png": "[encoded data removed]",
      "text/plain": [
       "<Figure size 432x288 with 1 Axes>"
      ]
     },
     "metadata": {
      "needs_background": "light"
     },
     "output_type": "display_data"
    }
   ],
   "source": [
    "plt.plot(losses)\n",
    "plt.yscale('log')"
   ]
  },
  {
   "cell_type": "markdown",
   "id": "de643baf",
   "metadata": {},
   "source": [
    "Then, let's take a look at our learned parameter values:"
   ]
  },
  {
   "cell_type": "code",
   "execution_count": 57,
   "id": "654043c5",
   "metadata": {},
   "outputs": [],
   "source": [
    "params = mlp_auto.encode(inputs).detach()"
   ]
  },
  {
   "cell_type": "code",
   "execution_count": 58,
   "id": "7944e69e",
   "metadata": {},
   "outputs": [],
   "source": [
    "a_vals = params[:, 0, :]\n",
    "x0_vals = params[:, 1, :]\n",
    "v0_vals = params[:, 2, :]"
   ]
  },
  {
   "cell_type": "code",
   "execution_count": 59,
   "id": "584b7006",
   "metadata": {},
   "outputs": [
    {
     "data": {
      "image/png": "[encoded data removed]",
      "text/plain": [
       "<Figure size 432x288 with 1 Axes>"
      ]
     },
     "metadata": {
      "needs_background": "light"
     },
     "output_type": "display_data"
    },
    {
     "data": {
      "image/png": "[encoded data removed]",
      "text/plain": [
       "<Figure size 432x288 with 1 Axes>"
      ]
     },
     "metadata": {
      "needs_background": "light"
     },
     "output_type": "display_data"
    },
    {
     "data": {
      "image/png": "[encoded data removed]",
      "text/plain": [
       "<Figure size 432x288 with 1 Axes>"
      ]
     },
     "metadata": {
      "needs_background": "light"
     },
     "output_type": "display_data"
    }
   ],
   "source": [
    "plt.scatter(a_vals[:, 0], a_vals[:, 1])\n",
    "plt.scatter(a_target[:, 0], a_target[:, 1], c='k')\n",
    "plt.xlabel('$a_x$ [m / s^2]') \n",
    "plt.ylabel('$a_y$ [m / $s^2$]')\n",
    "plt.show()\n",
    "\n",
    "\n",
    "plt.scatter(x0_vals[:, 0], x0_vals[:, 1])\n",
    "plt.scatter(x0_target[:, 0], x0_target[:, 1], c='k')\n",
    "plt.xlabel('$x_{0}$ [m]') \n",
    "plt.ylabel('$y_{0}$ [m]')\n",
    "plt.show()\n",
    "\n",
    "plt.scatter(v0_vals[:, 0], v0_vals[:, 1])\n",
    "plt.scatter(v0_target[:, 0], v0_target[:, 1], c='k')\n",
    "plt.xlabel('$v_{0}^{x}$ [m / s]') \n",
    "plt.ylabel('$v_{0}^{y}$ [m / s]')\n",
    "plt.show()"
   ]
  },
  {
   "cell_type": "markdown",
   "id": "d05cc4bc",
   "metadata": {},
   "source": [
    "The noise on the input results in some _distribution_ of fitted parameter values -- we now have a pipeline to automatically translate a distribution over trajectories into a distribution over parameters! Using this to naively get parameter values + an uncertainty (assuming diagonal Gaussian):"
   ]
  },
  {
   "cell_type": "code",
   "execution_count": 60,
   "id": "a1577829",
   "metadata": {},
   "outputs": [
    {
     "name": "stdout",
     "output_type": "stream",
     "text": [
      "x acceleration: -0.00 +/- 0.001 m / s^2\n",
      "y acceleration: -9.80 +/- 0.002 m / s^2\n"
     ]
    }
   ],
   "source": [
    "from math import sqrt\n",
    "mean_acc = torch.mean(a_vals, axis=0)\n",
    "\n",
    "#Std error has factor of 1/sqrt(N)\n",
    "N = len(a_vals)\n",
    "std_acc = torch.std(a_vals, axis=0)\n",
    "\n",
    "print(f'x acceleration: {mean_acc[0]:.2f} +/- {std_acc[0]/sqrt(N):.3f} m / s^2')\n",
    "print(f'y acceleration: {mean_acc[1]:.2f} +/- {std_acc[1]/sqrt(N):.3f} m / s^2')"
   ]
  },
  {
   "cell_type": "markdown",
   "id": "b263f6e5",
   "metadata": {},
   "source": [
    "Having a latent space distribution available opens up a variety of possibilities. One might consider, e.g., Variational Autoencoders, which impose some prior on the learned latent space via an additional KL divergence term in the loss. With a physically meaningful latent space, this can get a bit involved, so we leave this for future work. But, the structure is a fairly simple (few line) extension of the autoencoder we've developed above!"
   ]
  },
  {
   "cell_type": "markdown",
   "id": "0db304ab",
   "metadata": {},
   "source": [
    "## Conclusions:\n",
    " \n",
    "Differentiable physics simulators allow us to leverage the power of automatic differentiation within a physics motivated context. \n",
    "\n",
    "In day 1, we demonstrated that such simulators can be used for parameter fitting (e.g. calibration) and inverse problem solving via gradient descent.\n",
    "\n",
    "Today, we showed that this differentiability allows us to use physics models in conjunction with tools such as neural networks. This allows for physics based regularization of such networks, unsupervised learning of physical parameters, and access to corresponding physically meaningful latent spaces. \n",
    "\n",
    "The examples that we showed are simple, but hopefully will give a starting place for future work! Please feel free to reach out with any questions!"
   ]
  }
 ],
 "metadata": {
  "kernelspec": {
   "display_name": "Python 3 (ipykernel)",
   "language": "python",
   "name": "python3"
  },
  "language_info": {
   "codemirror_mode": {
    "name": "ipython",
    "version": 3
   },
   "file_extension": ".py",
   "mimetype": "text/x-python",
   "name": "python",
   "nbconvert_exporter": "python",
   "pygments_lexer": "ipython3",
   "version": "3.8.12"
  }
 },
 "nbformat": 4,
 "nbformat_minor": 5
}
