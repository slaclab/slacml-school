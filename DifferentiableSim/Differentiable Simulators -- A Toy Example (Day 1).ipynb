{
 "cells": [
  {
   "cell_type": "code",
   "execution_count": 1,
   "id": "eb9416bf",
   "metadata": {},
   "outputs": [],
   "source": [
    "import numpy as np\n",
    "import matplotlib.pyplot as plt\n",
    "from matplotlib.animation import FuncAnimation\n",
    "from tqdm import tqdm"
   ]
  },
  {
   "cell_type": "markdown",
   "id": "69556d54",
   "metadata": {},
   "source": [
    "## A simple physics model\n",
    "\n",
    "Suppose we want to simulate the motion of a ball. More specifically, for each time $t$, we would like to know the position, $\\vec{x}$ of an object, perhaps under some acceleration $\\vec{a}$.\n",
    "\n",
    "Kinematic equations tell us:\n",
    "\\begin{equation}\n",
    "\\vec{x}(t) = \\vec{x}_{0} + \\vec{v}_{0}t + \\frac{1}{2}\\vec{a}t^2\n",
    "\\end{equation}\n",
    "\n",
    "where $\\vec{x}_{0}$ and $\\vec{v}_{0}$ are the initial position/velocity."
   ]
  },
  {
   "cell_type": "markdown",
   "id": "e5fc0781",
   "metadata": {},
   "source": [
    "In code: "
   ]
  },
  {
   "cell_type": "code",
   "execution_count": 2,
   "id": "aa0fe037",
   "metadata": {},
   "outputs": [],
   "source": [
    "def position(t, a, x0, v0):\n",
    "    return x0 + v0*t + 0.5*a*t**2"
   ]
  },
  {
   "cell_type": "markdown",
   "id": "017c5cb2",
   "metadata": {},
   "source": [
    "Sticking to 2d for visualization purposes, we can run a simple simulation to get the trajectory of an object under the influence of gravity, namely:\n",
    "\n",
    "$\\vec{a}$ = (0, -9.8), in units of $m / s^2$"
   ]
  },
  {
   "cell_type": "code",
   "execution_count": 3,
   "id": "a0feb484",
   "metadata": {},
   "outputs": [],
   "source": [
    "#Acceleration due to gravity (-9.8 m/s^2 in negative y direction)\n",
    "a = np.asarray([0, -9.8])\n",
    "\n",
    "#Initial velocity for fun (m / s)\n",
    "v0 = np.asarray([5, 10])\n",
    "\n",
    "#Start at (0,10) [m]\n",
    "x0 = np.asarray([0,10])"
   ]
  },
  {
   "cell_type": "markdown",
   "id": "ccc1bcb3",
   "metadata": {},
   "source": [
    "We then can create a trajectory for the object by \"measuring\" position at a set of time steps"
   ]
  },
  {
   "cell_type": "code",
   "execution_count": 4,
   "id": "cf209491",
   "metadata": {},
   "outputs": [],
   "source": [
    "#Run the simulation: 100 timesteps\n",
    "time_steps = np.linspace(0, 5, 100)\n",
    "\n",
    "trajectory = []\n",
    "for t_step in time_steps:\n",
    "    xt = position(t_step, a, x0, v0)\n",
    "    trajectory.append(xt)\n",
    "    \n",
    "trajectory = np.asarray(trajectory)"
   ]
  },
  {
   "cell_type": "markdown",
   "id": "ea5dfc91",
   "metadata": {},
   "source": [
    "For fun, let's animate how this might look:"
   ]
  },
  {
   "cell_type": "code",
   "execution_count": 5,
   "id": "103278b2",
   "metadata": {},
   "outputs": [],
   "source": [
    "xlim = [trajectory[:, 0].min(), trajectory[:, 0].max()]\n",
    "ylim = [trajectory[:, 1].min(), trajectory[:, 1].max()]"
   ]
  },
  {
   "cell_type": "code",
   "execution_count": 6,
   "id": "2d351235",
   "metadata": {},
   "outputs": [
    {
     "data": {
      "application/javascript": [
       "/* Put everything inside the global mpl namespace */\n",
       "/* global mpl */\n",
       "window.mpl = {};\n",
       "\n",
       "mpl.get_websocket_type = function () {\n",
       "    if (typeof WebSocket !== 'undefined') {\n",
       "        return WebSocket;\n",
       "    } else if (typeof MozWebSocket !== 'undefined') {\n",
       "        return MozWebSocket;\n",
       "    } else {\n",
       "        alert(\n",
       "            'Your browser does not have WebSocket support. ' +\n",
       "                'Please try Chrome, Safari or Firefox ≥ 6. ' +\n",
       "                'Firefox 4 and 5 are also supported but you ' +\n",
       "                'have to enable WebSockets in about:config.'\n",
       "        );\n",
       "    }\n",
       "};\n",
       "\n",
       "mpl.figure = function (figure_id, websocket, ondownload, parent_element) {\n",
       "    this.id = figure_id;\n",
       "\n",
       "    this.ws = websocket;\n",
       "\n",
       "    this.supports_binary = this.ws.binaryType !== undefined;\n",
       "\n",
       "    if (!this.supports_binary) {\n",
       "        var warnings = document.getElementById('mpl-warnings');\n",
       "        if (warnings) {\n",
       "            warnings.style.display = 'block';\n",
       "            warnings.textContent =\n",
       "                'This browser does not support binary websocket messages. ' +\n",
       "                'Performance may be slow.';\n",
       "        }\n",
       "    }\n",
       "\n",
       "    this.imageObj = new Image();\n",
       "\n",
       "    this.context = undefined;\n",
       "    this.message = undefined;\n",
       "    this.canvas = undefined;\n",
       "    this.rubberband_canvas = undefined;\n",
       "    this.rubberband_context = undefined;\n",
       "    this.format_dropdown = undefined;\n",
       "\n",
       "    this.image_mode = 'full';\n",
       "\n",
       "    this.root = document.createElement('div');\n",
       "    this.root.setAttribute('style', 'display: inline-block');\n",
       "    this._root_extra_style(this.root);\n",
       "\n",
       "    parent_element.appendChild(this.root);\n",
       "\n",
       "    this._init_header(this);\n",
       "    this._init_canvas(this);\n",
       "    this._init_toolbar(this);\n",
       "\n",
       "    var fig = this;\n",
       "\n",
       "    this.waiting = false;\n",
       "\n",
       "    this.ws.onopen = function () {\n",
       "        fig.send_message('supports_binary', { value: fig.supports_binary });\n",
       "        fig.send_message('send_image_mode', {});\n",
       "        if (fig.ratio !== 1) {\n",
       "            fig.send_message('set_dpi_ratio', { dpi_ratio: fig.ratio });\n",
       "        }\n",
       "        fig.send_message('refresh', {});\n",
       "    };\n",
       "\n",
       "    this.imageObj.onload = function () {\n",
       "        if (fig.image_mode === 'full') {\n",
       "            // Full images could contain transparency (where diff images\n",
       "            // almost always do), so we need to clear the canvas so that\n",
       "            // there is no ghosting.\n",
       "            fig.context.clearRect(0, 0, fig.canvas.width, fig.canvas.height);\n",
       "        }\n",
       "        fig.context.drawImage(fig.imageObj, 0, 0);\n",
       "    };\n",
       "\n",
       "    this.imageObj.onunload = function () {\n",
       "        fig.ws.close();\n",
       "    };\n",
       "\n",
       "    this.ws.onmessage = this._make_on_message_function(this);\n",
       "\n",
       "    this.ondownload = ondownload;\n",
       "};\n",
       "\n",
       "mpl.figure.prototype._init_header = function () {\n",
       "    var titlebar = document.createElement('div');\n",
       "    titlebar.classList =\n",
       "        'ui-dialog-titlebar ui-widget-header ui-corner-all ui-helper-clearfix';\n",
       "    var titletext = document.createElement('div');\n",
       "    titletext.classList = 'ui-dialog-title';\n",
       "    titletext.setAttribute(\n",
       "        'style',\n",
       "        'width: 100%; text-align: center; padding: 3px;'\n",
       "    );\n",
       "    titlebar.appendChild(titletext);\n",
       "    this.root.appendChild(titlebar);\n",
       "    this.header = titletext;\n",
       "};\n",
       "\n",
       "mpl.figure.prototype._canvas_extra_style = function (_canvas_div) {};\n",
       "\n",
       "mpl.figure.prototype._root_extra_style = function (_canvas_div) {};\n",
       "\n",
       "mpl.figure.prototype._init_canvas = function () {\n",
       "    var fig = this;\n",
       "\n",
       "    var canvas_div = (this.canvas_div = document.createElement('div'));\n",
       "    canvas_div.setAttribute(\n",
       "        'style',\n",
       "        'border: 1px solid #ddd;' +\n",
       "            'box-sizing: content-box;' +\n",
       "            'clear: both;' +\n",
       "            'min-height: 1px;' +\n",
       "            'min-width: 1px;' +\n",
       "            'outline: 0;' +\n",
       "            'overflow: hidden;' +\n",
       "            'position: relative;' +\n",
       "            'resize: both;'\n",
       "    );\n",
       "\n",
       "    function on_keyboard_event_closure(name) {\n",
       "        return function (event) {\n",
       "            return fig.key_event(event, name);\n",
       "        };\n",
       "    }\n",
       "\n",
       "    canvas_div.addEventListener(\n",
       "        'keydown',\n",
       "        on_keyboard_event_closure('key_press')\n",
       "    );\n",
       "    canvas_div.addEventListener(\n",
       "        'keyup',\n",
       "        on_keyboard_event_closure('key_release')\n",
       "    );\n",
       "\n",
       "    this._canvas_extra_style(canvas_div);\n",
       "    this.root.appendChild(canvas_div);\n",
       "\n",
       "    var canvas = (this.canvas = document.createElement('canvas'));\n",
       "    canvas.classList.add('mpl-canvas');\n",
       "    canvas.setAttribute('style', 'box-sizing: content-box;');\n",
       "\n",
       "    this.context = canvas.getContext('2d');\n",
       "\n",
       "    var backingStore =\n",
       "        this.context.backingStorePixelRatio ||\n",
       "        this.context.webkitBackingStorePixelRatio ||\n",
       "        this.context.mozBackingStorePixelRatio ||\n",
       "        this.context.msBackingStorePixelRatio ||\n",
       "        this.context.oBackingStorePixelRatio ||\n",
       "        this.context.backingStorePixelRatio ||\n",
       "        1;\n",
       "\n",
       "    this.ratio = (window.devicePixelRatio || 1) / backingStore;\n",
       "\n",
       "    var rubberband_canvas = (this.rubberband_canvas = document.createElement(\n",
       "        'canvas'\n",
       "    ));\n",
       "    rubberband_canvas.setAttribute(\n",
       "        'style',\n",
       "        'box-sizing: content-box; position: absolute; left: 0; top: 0; z-index: 1;'\n",
       "    );\n",
       "\n",
       "    // Apply a ponyfill if ResizeObserver is not implemented by browser.\n",
       "    if (this.ResizeObserver === undefined) {\n",
       "        if (window.ResizeObserver !== undefined) {\n",
       "            this.ResizeObserver = window.ResizeObserver;\n",
       "        } else {\n",
       "            var obs = _JSXTOOLS_RESIZE_OBSERVER({});\n",
       "            this.ResizeObserver = obs.ResizeObserver;\n",
       "        }\n",
       "    }\n",
       "\n",
       "    this.resizeObserverInstance = new this.ResizeObserver(function (entries) {\n",
       "        var nentries = entries.length;\n",
       "        for (var i = 0; i < nentries; i++) {\n",
       "            var entry = entries[i];\n",
       "            var width, height;\n",
       "            if (entry.contentBoxSize) {\n",
       "                if (entry.contentBoxSize instanceof Array) {\n",
       "                    // Chrome 84 implements new version of spec.\n",
       "                    width = entry.contentBoxSize[0].inlineSize;\n",
       "                    height = entry.contentBoxSize[0].blockSize;\n",
       "                } else {\n",
       "                    // Firefox implements old version of spec.\n",
       "                    width = entry.contentBoxSize.inlineSize;\n",
       "                    height = entry.contentBoxSize.blockSize;\n",
       "                }\n",
       "            } else {\n",
       "                // Chrome <84 implements even older version of spec.\n",
       "                width = entry.contentRect.width;\n",
       "                height = entry.contentRect.height;\n",
       "            }\n",
       "\n",
       "            // Keep the size of the canvas and rubber band canvas in sync with\n",
       "            // the canvas container.\n",
       "            if (entry.devicePixelContentBoxSize) {\n",
       "                // Chrome 84 implements new version of spec.\n",
       "                canvas.setAttribute(\n",
       "                    'width',\n",
       "                    entry.devicePixelContentBoxSize[0].inlineSize\n",
       "                );\n",
       "                canvas.setAttribute(\n",
       "                    'height',\n",
       "                    entry.devicePixelContentBoxSize[0].blockSize\n",
       "                );\n",
       "            } else {\n",
       "                canvas.setAttribute('width', width * fig.ratio);\n",
       "                canvas.setAttribute('height', height * fig.ratio);\n",
       "            }\n",
       "            canvas.setAttribute(\n",
       "                'style',\n",
       "                'width: ' + width + 'px; height: ' + height + 'px;'\n",
       "            );\n",
       "\n",
       "            rubberband_canvas.setAttribute('width', width);\n",
       "            rubberband_canvas.setAttribute('height', height);\n",
       "\n",
       "            // And update the size in Python. We ignore the initial 0/0 size\n",
       "            // that occurs as the element is placed into the DOM, which should\n",
       "            // otherwise not happen due to the minimum size styling.\n",
       "            if (fig.ws.readyState == 1 && width != 0 && height != 0) {\n",
       "                fig.request_resize(width, height);\n",
       "            }\n",
       "        }\n",
       "    });\n",
       "    this.resizeObserverInstance.observe(canvas_div);\n",
       "\n",
       "    function on_mouse_event_closure(name) {\n",
       "        return function (event) {\n",
       "            return fig.mouse_event(event, name);\n",
       "        };\n",
       "    }\n",
       "\n",
       "    rubberband_canvas.addEventListener(\n",
       "        'mousedown',\n",
       "        on_mouse_event_closure('button_press')\n",
       "    );\n",
       "    rubberband_canvas.addEventListener(\n",
       "        'mouseup',\n",
       "        on_mouse_event_closure('button_release')\n",
       "    );\n",
       "    rubberband_canvas.addEventListener(\n",
       "        'dblclick',\n",
       "        on_mouse_event_closure('dblclick')\n",
       "    );\n",
       "    // Throttle sequential mouse events to 1 every 20ms.\n",
       "    rubberband_canvas.addEventListener(\n",
       "        'mousemove',\n",
       "        on_mouse_event_closure('motion_notify')\n",
       "    );\n",
       "\n",
       "    rubberband_canvas.addEventListener(\n",
       "        'mouseenter',\n",
       "        on_mouse_event_closure('figure_enter')\n",
       "    );\n",
       "    rubberband_canvas.addEventListener(\n",
       "        'mouseleave',\n",
       "        on_mouse_event_closure('figure_leave')\n",
       "    );\n",
       "\n",
       "    canvas_div.addEventListener('wheel', function (event) {\n",
       "        if (event.deltaY < 0) {\n",
       "            event.step = 1;\n",
       "        } else {\n",
       "            event.step = -1;\n",
       "        }\n",
       "        on_mouse_event_closure('scroll')(event);\n",
       "    });\n",
       "\n",
       "    canvas_div.appendChild(canvas);\n",
       "    canvas_div.appendChild(rubberband_canvas);\n",
       "\n",
       "    this.rubberband_context = rubberband_canvas.getContext('2d');\n",
       "    this.rubberband_context.strokeStyle = '#000000';\n",
       "\n",
       "    this._resize_canvas = function (width, height, forward) {\n",
       "        if (forward) {\n",
       "            canvas_div.style.width = width + 'px';\n",
       "            canvas_div.style.height = height + 'px';\n",
       "        }\n",
       "    };\n",
       "\n",
       "    // Disable right mouse context menu.\n",
       "    this.rubberband_canvas.addEventListener('contextmenu', function (_e) {\n",
       "        event.preventDefault();\n",
       "        return false;\n",
       "    });\n",
       "\n",
       "    function set_focus() {\n",
       "        canvas.focus();\n",
       "        canvas_div.focus();\n",
       "    }\n",
       "\n",
       "    window.setTimeout(set_focus, 100);\n",
       "};\n",
       "\n",
       "mpl.figure.prototype._init_toolbar = function () {\n",
       "    var fig = this;\n",
       "\n",
       "    var toolbar = document.createElement('div');\n",
       "    toolbar.classList = 'mpl-toolbar';\n",
       "    this.root.appendChild(toolbar);\n",
       "\n",
       "    function on_click_closure(name) {\n",
       "        return function (_event) {\n",
       "            return fig.toolbar_button_onclick(name);\n",
       "        };\n",
       "    }\n",
       "\n",
       "    function on_mouseover_closure(tooltip) {\n",
       "        return function (event) {\n",
       "            if (!event.currentTarget.disabled) {\n",
       "                return fig.toolbar_button_onmouseover(tooltip);\n",
       "            }\n",
       "        };\n",
       "    }\n",
       "\n",
       "    fig.buttons = {};\n",
       "    var buttonGroup = document.createElement('div');\n",
       "    buttonGroup.classList = 'mpl-button-group';\n",
       "    for (var toolbar_ind in mpl.toolbar_items) {\n",
       "        var name = mpl.toolbar_items[toolbar_ind][0];\n",
       "        var tooltip = mpl.toolbar_items[toolbar_ind][1];\n",
       "        var image = mpl.toolbar_items[toolbar_ind][2];\n",
       "        var method_name = mpl.toolbar_items[toolbar_ind][3];\n",
       "\n",
       "        if (!name) {\n",
       "            /* Instead of a spacer, we start a new button group. */\n",
       "            if (buttonGroup.hasChildNodes()) {\n",
       "                toolbar.appendChild(buttonGroup);\n",
       "            }\n",
       "            buttonGroup = document.createElement('div');\n",
       "            buttonGroup.classList = 'mpl-button-group';\n",
       "            continue;\n",
       "        }\n",
       "\n",
       "        var button = (fig.buttons[name] = document.createElement('button'));\n",
       "        button.classList = 'mpl-widget';\n",
       "        button.setAttribute('role', 'button');\n",
       "        button.setAttribute('aria-disabled', 'false');\n",
       "        button.addEventListener('click', on_click_closure(method_name));\n",
       "        button.addEventListener('mouseover', on_mouseover_closure(tooltip));\n",
       "\n",
       "        var icon_img = document.createElement('img');\n",
       "        icon_img.src = '_images/' + image + '.png';\n",
       "        icon_img.srcset = '_images/' + image + '_large.png 2x';\n",
       "        icon_img.alt = tooltip;\n",
       "        button.appendChild(icon_img);\n",
       "\n",
       "        buttonGroup.appendChild(button);\n",
       "    }\n",
       "\n",
       "    if (buttonGroup.hasChildNodes()) {\n",
       "        toolbar.appendChild(buttonGroup);\n",
       "    }\n",
       "\n",
       "    var fmt_picker = document.createElement('select');\n",
       "    fmt_picker.classList = 'mpl-widget';\n",
       "    toolbar.appendChild(fmt_picker);\n",
       "    this.format_dropdown = fmt_picker;\n",
       "\n",
       "    for (var ind in mpl.extensions) {\n",
       "        var fmt = mpl.extensions[ind];\n",
       "        var option = document.createElement('option');\n",
       "        option.selected = fmt === mpl.default_extension;\n",
       "        option.innerHTML = fmt;\n",
       "        fmt_picker.appendChild(option);\n",
       "    }\n",
       "\n",
       "    var status_bar = document.createElement('span');\n",
       "    status_bar.classList = 'mpl-message';\n",
       "    toolbar.appendChild(status_bar);\n",
       "    this.message = status_bar;\n",
       "};\n",
       "\n",
       "mpl.figure.prototype.request_resize = function (x_pixels, y_pixels) {\n",
       "    // Request matplotlib to resize the figure. Matplotlib will then trigger a resize in the client,\n",
       "    // which will in turn request a refresh of the image.\n",
       "    this.send_message('resize', { width: x_pixels, height: y_pixels });\n",
       "};\n",
       "\n",
       "mpl.figure.prototype.send_message = function (type, properties) {\n",
       "    properties['type'] = type;\n",
       "    properties['figure_id'] = this.id;\n",
       "    this.ws.send(JSON.stringify(properties));\n",
       "};\n",
       "\n",
       "mpl.figure.prototype.send_draw_message = function () {\n",
       "    if (!this.waiting) {\n",
       "        this.waiting = true;\n",
       "        this.ws.send(JSON.stringify({ type: 'draw', figure_id: this.id }));\n",
       "    }\n",
       "};\n",
       "\n",
       "mpl.figure.prototype.handle_save = function (fig, _msg) {\n",
       "    var format_dropdown = fig.format_dropdown;\n",
       "    var format = format_dropdown.options[format_dropdown.selectedIndex].value;\n",
       "    fig.ondownload(fig, format);\n",
       "};\n",
       "\n",
       "mpl.figure.prototype.handle_resize = function (fig, msg) {\n",
       "    var size = msg['size'];\n",
       "    if (size[0] !== fig.canvas.width || size[1] !== fig.canvas.height) {\n",
       "        fig._resize_canvas(size[0], size[1], msg['forward']);\n",
       "        fig.send_message('refresh', {});\n",
       "    }\n",
       "};\n",
       "\n",
       "mpl.figure.prototype.handle_rubberband = function (fig, msg) {\n",
       "    var x0 = msg['x0'] / fig.ratio;\n",
       "    var y0 = (fig.canvas.height - msg['y0']) / fig.ratio;\n",
       "    var x1 = msg['x1'] / fig.ratio;\n",
       "    var y1 = (fig.canvas.height - msg['y1']) / fig.ratio;\n",
       "    x0 = Math.floor(x0) + 0.5;\n",
       "    y0 = Math.floor(y0) + 0.5;\n",
       "    x1 = Math.floor(x1) + 0.5;\n",
       "    y1 = Math.floor(y1) + 0.5;\n",
       "    var min_x = Math.min(x0, x1);\n",
       "    var min_y = Math.min(y0, y1);\n",
       "    var width = Math.abs(x1 - x0);\n",
       "    var height = Math.abs(y1 - y0);\n",
       "\n",
       "    fig.rubberband_context.clearRect(\n",
       "        0,\n",
       "        0,\n",
       "        fig.canvas.width / fig.ratio,\n",
       "        fig.canvas.height / fig.ratio\n",
       "    );\n",
       "\n",
       "    fig.rubberband_context.strokeRect(min_x, min_y, width, height);\n",
       "};\n",
       "\n",
       "mpl.figure.prototype.handle_figure_label = function (fig, msg) {\n",
       "    // Updates the figure title.\n",
       "    fig.header.textContent = msg['label'];\n",
       "};\n",
       "\n",
       "mpl.figure.prototype.handle_cursor = function (fig, msg) {\n",
       "    var cursor = msg['cursor'];\n",
       "    switch (cursor) {\n",
       "        case 0:\n",
       "            cursor = 'pointer';\n",
       "            break;\n",
       "        case 1:\n",
       "            cursor = 'default';\n",
       "            break;\n",
       "        case 2:\n",
       "            cursor = 'crosshair';\n",
       "            break;\n",
       "        case 3:\n",
       "            cursor = 'move';\n",
       "            break;\n",
       "    }\n",
       "    fig.rubberband_canvas.style.cursor = cursor;\n",
       "};\n",
       "\n",
       "mpl.figure.prototype.handle_message = function (fig, msg) {\n",
       "    fig.message.textContent = msg['message'];\n",
       "};\n",
       "\n",
       "mpl.figure.prototype.handle_draw = function (fig, _msg) {\n",
       "    // Request the server to send over a new figure.\n",
       "    fig.send_draw_message();\n",
       "};\n",
       "\n",
       "mpl.figure.prototype.handle_image_mode = function (fig, msg) {\n",
       "    fig.image_mode = msg['mode'];\n",
       "};\n",
       "\n",
       "mpl.figure.prototype.handle_history_buttons = function (fig, msg) {\n",
       "    for (var key in msg) {\n",
       "        if (!(key in fig.buttons)) {\n",
       "            continue;\n",
       "        }\n",
       "        fig.buttons[key].disabled = !msg[key];\n",
       "        fig.buttons[key].setAttribute('aria-disabled', !msg[key]);\n",
       "    }\n",
       "};\n",
       "\n",
       "mpl.figure.prototype.handle_navigate_mode = function (fig, msg) {\n",
       "    if (msg['mode'] === 'PAN') {\n",
       "        fig.buttons['Pan'].classList.add('active');\n",
       "        fig.buttons['Zoom'].classList.remove('active');\n",
       "    } else if (msg['mode'] === 'ZOOM') {\n",
       "        fig.buttons['Pan'].classList.remove('active');\n",
       "        fig.buttons['Zoom'].classList.add('active');\n",
       "    } else {\n",
       "        fig.buttons['Pan'].classList.remove('active');\n",
       "        fig.buttons['Zoom'].classList.remove('active');\n",
       "    }\n",
       "};\n",
       "\n",
       "mpl.figure.prototype.updated_canvas_event = function () {\n",
       "    // Called whenever the canvas gets updated.\n",
       "    this.send_message('ack', {});\n",
       "};\n",
       "\n",
       "// A function to construct a web socket function for onmessage handling.\n",
       "// Called in the figure constructor.\n",
       "mpl.figure.prototype._make_on_message_function = function (fig) {\n",
       "    return function socket_on_message(evt) {\n",
       "        if (evt.data instanceof Blob) {\n",
       "            var img = evt.data;\n",
       "            if (img.type !== 'image/png') {\n",
       "                /* FIXME: We get \"Resource interpreted as Image but\n",
       "                 * transferred with MIME type text/plain:\" errors on\n",
       "                 * Chrome.  But how to set the MIME type?  It doesn't seem\n",
       "                 * to be part of the websocket stream */\n",
       "                img.type = 'image/png';\n",
       "            }\n",
       "\n",
       "            /* Free the memory for the previous frames */\n",
       "            if (fig.imageObj.src) {\n",
       "                (window.URL || window.webkitURL).revokeObjectURL(\n",
       "                    fig.imageObj.src\n",
       "                );\n",
       "            }\n",
       "\n",
       "            fig.imageObj.src = (window.URL || window.webkitURL).createObjectURL(\n",
       "                img\n",
       "            );\n",
       "            fig.updated_canvas_event();\n",
       "            fig.waiting = false;\n",
       "            return;\n",
       "        } else if (\n",
       "            typeof evt.data === 'string' &&\n",
       "            evt.data.slice(0, 21) === 'data:image/png;base64'\n",
       "        ) {\n",
       "            fig.imageObj.src = evt.data;\n",
       "            fig.updated_canvas_event();\n",
       "            fig.waiting = false;\n",
       "            return;\n",
       "        }\n",
       "\n",
       "        var msg = JSON.parse(evt.data);\n",
       "        var msg_type = msg['type'];\n",
       "\n",
       "        // Call the  \"handle_{type}\" callback, which takes\n",
       "        // the figure and JSON message as its only arguments.\n",
       "        try {\n",
       "            var callback = fig['handle_' + msg_type];\n",
       "        } catch (e) {\n",
       "            console.log(\n",
       "                \"No handler for the '\" + msg_type + \"' message type: \",\n",
       "                msg\n",
       "            );\n",
       "            return;\n",
       "        }\n",
       "\n",
       "        if (callback) {\n",
       "            try {\n",
       "                // console.log(\"Handling '\" + msg_type + \"' message: \", msg);\n",
       "                callback(fig, msg);\n",
       "            } catch (e) {\n",
       "                console.log(\n",
       "                    \"Exception inside the 'handler_\" + msg_type + \"' callback:\",\n",
       "                    e,\n",
       "                    e.stack,\n",
       "                    msg\n",
       "                );\n",
       "            }\n",
       "        }\n",
       "    };\n",
       "};\n",
       "\n",
       "// from http://stackoverflow.com/questions/1114465/getting-mouse-location-in-canvas\n",
       "mpl.findpos = function (e) {\n",
       "    //this section is from http://www.quirksmode.org/js/events_properties.html\n",
       "    var targ;\n",
       "    if (!e) {\n",
       "        e = window.event;\n",
       "    }\n",
       "    if (e.target) {\n",
       "        targ = e.target;\n",
       "    } else if (e.srcElement) {\n",
       "        targ = e.srcElement;\n",
       "    }\n",
       "    if (targ.nodeType === 3) {\n",
       "        // defeat Safari bug\n",
       "        targ = targ.parentNode;\n",
       "    }\n",
       "\n",
       "    // pageX,Y are the mouse positions relative to the document\n",
       "    var boundingRect = targ.getBoundingClientRect();\n",
       "    var x = e.pageX - (boundingRect.left + document.body.scrollLeft);\n",
       "    var y = e.pageY - (boundingRect.top + document.body.scrollTop);\n",
       "\n",
       "    return { x: x, y: y };\n",
       "};\n",
       "\n",
       "/*\n",
       " * return a copy of an object with only non-object keys\n",
       " * we need this to avoid circular references\n",
       " * http://stackoverflow.com/a/24161582/3208463\n",
       " */\n",
       "function simpleKeys(original) {\n",
       "    return Object.keys(original).reduce(function (obj, key) {\n",
       "        if (typeof original[key] !== 'object') {\n",
       "            obj[key] = original[key];\n",
       "        }\n",
       "        return obj;\n",
       "    }, {});\n",
       "}\n",
       "\n",
       "mpl.figure.prototype.mouse_event = function (event, name) {\n",
       "    var canvas_pos = mpl.findpos(event);\n",
       "\n",
       "    if (name === 'button_press') {\n",
       "        this.canvas.focus();\n",
       "        this.canvas_div.focus();\n",
       "    }\n",
       "\n",
       "    var x = canvas_pos.x * this.ratio;\n",
       "    var y = canvas_pos.y * this.ratio;\n",
       "\n",
       "    this.send_message(name, {\n",
       "        x: x,\n",
       "        y: y,\n",
       "        button: event.button,\n",
       "        step: event.step,\n",
       "        guiEvent: simpleKeys(event),\n",
       "    });\n",
       "\n",
       "    /* This prevents the web browser from automatically changing to\n",
       "     * the text insertion cursor when the button is pressed.  We want\n",
       "     * to control all of the cursor setting manually through the\n",
       "     * 'cursor' event from matplotlib */\n",
       "    event.preventDefault();\n",
       "    return false;\n",
       "};\n",
       "\n",
       "mpl.figure.prototype._key_event_extra = function (_event, _name) {\n",
       "    // Handle any extra behaviour associated with a key event\n",
       "};\n",
       "\n",
       "mpl.figure.prototype.key_event = function (event, name) {\n",
       "    // Prevent repeat events\n",
       "    if (name === 'key_press') {\n",
       "        if (event.key === this._key) {\n",
       "            return;\n",
       "        } else {\n",
       "            this._key = event.key;\n",
       "        }\n",
       "    }\n",
       "    if (name === 'key_release') {\n",
       "        this._key = null;\n",
       "    }\n",
       "\n",
       "    var value = '';\n",
       "    if (event.ctrlKey && event.key !== 'Control') {\n",
       "        value += 'ctrl+';\n",
       "    }\n",
       "    else if (event.altKey && event.key !== 'Alt') {\n",
       "        value += 'alt+';\n",
       "    }\n",
       "    else if (event.shiftKey && event.key !== 'Shift') {\n",
       "        value += 'shift+';\n",
       "    }\n",
       "\n",
       "    value += 'k' + event.key;\n",
       "\n",
       "    this._key_event_extra(event, name);\n",
       "\n",
       "    this.send_message(name, { key: value, guiEvent: simpleKeys(event) });\n",
       "    return false;\n",
       "};\n",
       "\n",
       "mpl.figure.prototype.toolbar_button_onclick = function (name) {\n",
       "    if (name === 'download') {\n",
       "        this.handle_save(this, null);\n",
       "    } else {\n",
       "        this.send_message('toolbar_button', { name: name });\n",
       "    }\n",
       "};\n",
       "\n",
       "mpl.figure.prototype.toolbar_button_onmouseover = function (tooltip) {\n",
       "    this.message.textContent = tooltip;\n",
       "};\n",
       "\n",
       "///////////////// REMAINING CONTENT GENERATED BY embed_js.py /////////////////\n",
       "// prettier-ignore\n",
       "var _JSXTOOLS_RESIZE_OBSERVER=function(A){var t,i=new WeakMap,n=new WeakMap,a=new WeakMap,r=new WeakMap,o=new Set;function s(e){if(!(this instanceof s))throw new TypeError(\"Constructor requires 'new' operator\");i.set(this,e)}function h(){throw new TypeError(\"Function is not a constructor\")}function c(e,t,i,n){e=0 in arguments?Number(arguments[0]):0,t=1 in arguments?Number(arguments[1]):0,i=2 in arguments?Number(arguments[2]):0,n=3 in arguments?Number(arguments[3]):0,this.right=(this.x=this.left=e)+(this.width=i),this.bottom=(this.y=this.top=t)+(this.height=n),Object.freeze(this)}function d(){t=requestAnimationFrame(d);var s=new WeakMap,p=new Set;o.forEach((function(t){r.get(t).forEach((function(i){var r=t instanceof window.SVGElement,o=a.get(t),d=r?0:parseFloat(o.paddingTop),f=r?0:parseFloat(o.paddingRight),l=r?0:parseFloat(o.paddingBottom),u=r?0:parseFloat(o.paddingLeft),g=r?0:parseFloat(o.borderTopWidth),m=r?0:parseFloat(o.borderRightWidth),w=r?0:parseFloat(o.borderBottomWidth),b=u+f,F=d+l,v=(r?0:parseFloat(o.borderLeftWidth))+m,W=g+w,y=r?0:t.offsetHeight-W-t.clientHeight,E=r?0:t.offsetWidth-v-t.clientWidth,R=b+v,z=F+W,M=r?t.width:parseFloat(o.width)-R-E,O=r?t.height:parseFloat(o.height)-z-y;if(n.has(t)){var k=n.get(t);if(k[0]===M&&k[1]===O)return}n.set(t,[M,O]);var S=Object.create(h.prototype);S.target=t,S.contentRect=new c(u,d,M,O),s.has(i)||(s.set(i,[]),p.add(i)),s.get(i).push(S)}))})),p.forEach((function(e){i.get(e).call(e,s.get(e),e)}))}return s.prototype.observe=function(i){if(i instanceof window.Element){r.has(i)||(r.set(i,new Set),o.add(i),a.set(i,window.getComputedStyle(i)));var n=r.get(i);n.has(this)||n.add(this),cancelAnimationFrame(t),t=requestAnimationFrame(d)}},s.prototype.unobserve=function(i){if(i instanceof window.Element&&r.has(i)){var n=r.get(i);n.has(this)&&(n.delete(this),n.size||(r.delete(i),o.delete(i))),n.size||r.delete(i),o.size||cancelAnimationFrame(t)}},A.DOMRectReadOnly=c,A.ResizeObserver=s,A.ResizeObserverEntry=h,A}; // eslint-disable-line\n",
       "mpl.toolbar_items = [[\"Home\", \"Reset original view\", \"fa fa-home icon-home\", \"home\"], [\"Back\", \"Back to previous view\", \"fa fa-arrow-left icon-arrow-left\", \"back\"], [\"Forward\", \"Forward to next view\", \"fa fa-arrow-right icon-arrow-right\", \"forward\"], [\"\", \"\", \"\", \"\"], [\"Pan\", \"Left button pans, Right button zooms\\nx/y fixes axis, CTRL fixes aspect\", \"fa fa-arrows icon-move\", \"pan\"], [\"Zoom\", \"Zoom to rectangle\\nx/y fixes axis, CTRL fixes aspect\", \"fa fa-square-o icon-check-empty\", \"zoom\"], [\"\", \"\", \"\", \"\"], [\"Download\", \"Download plot\", \"fa fa-floppy-o icon-save\", \"download\"]];\n",
       "\n",
       "mpl.extensions = [\"eps\", \"jpeg\", \"pgf\", \"pdf\", \"png\", \"ps\", \"raw\", \"svg\", \"tif\"];\n",
       "\n",
       "mpl.default_extension = \"png\";/* global mpl */\n",
       "\n",
       "var comm_websocket_adapter = function (comm) {\n",
       "    // Create a \"websocket\"-like object which calls the given IPython comm\n",
       "    // object with the appropriate methods. Currently this is a non binary\n",
       "    // socket, so there is still some room for performance tuning.\n",
       "    var ws = {};\n",
       "\n",
       "    ws.binaryType = comm.kernel.ws.binaryType;\n",
       "    ws.readyState = comm.kernel.ws.readyState;\n",
       "    function updateReadyState(_event) {\n",
       "        if (comm.kernel.ws) {\n",
       "            ws.readyState = comm.kernel.ws.readyState;\n",
       "        } else {\n",
       "            ws.readyState = 3; // Closed state.\n",
       "        }\n",
       "    }\n",
       "    comm.kernel.ws.addEventListener('open', updateReadyState);\n",
       "    comm.kernel.ws.addEventListener('close', updateReadyState);\n",
       "    comm.kernel.ws.addEventListener('error', updateReadyState);\n",
       "\n",
       "    ws.close = function () {\n",
       "        comm.close();\n",
       "    };\n",
       "    ws.send = function (m) {\n",
       "        //console.log('sending', m);\n",
       "        comm.send(m);\n",
       "    };\n",
       "    // Register the callback with on_msg.\n",
       "    comm.on_msg(function (msg) {\n",
       "        //console.log('receiving', msg['content']['data'], msg);\n",
       "        var data = msg['content']['data'];\n",
       "        if (data['blob'] !== undefined) {\n",
       "            data = {\n",
       "                data: new Blob(msg['buffers'], { type: data['blob'] }),\n",
       "            };\n",
       "        }\n",
       "        // Pass the mpl event to the overridden (by mpl) onmessage function.\n",
       "        ws.onmessage(data);\n",
       "    });\n",
       "    return ws;\n",
       "};\n",
       "\n",
       "mpl.mpl_figure_comm = function (comm, msg) {\n",
       "    // This is the function which gets called when the mpl process\n",
       "    // starts-up an IPython Comm through the \"matplotlib\" channel.\n",
       "\n",
       "    var id = msg.content.data.id;\n",
       "    // Get hold of the div created by the display call when the Comm\n",
       "    // socket was opened in Python.\n",
       "    var element = document.getElementById(id);\n",
       "    var ws_proxy = comm_websocket_adapter(comm);\n",
       "\n",
       "    function ondownload(figure, _format) {\n",
       "        window.open(figure.canvas.toDataURL());\n",
       "    }\n",
       "\n",
       "    var fig = new mpl.figure(id, ws_proxy, ondownload, element);\n",
       "\n",
       "    // Call onopen now - mpl needs it, as it is assuming we've passed it a real\n",
       "    // web socket which is closed, not our websocket->open comm proxy.\n",
       "    ws_proxy.onopen();\n",
       "\n",
       "    fig.parent_element = element;\n",
       "    fig.cell_info = mpl.find_output_cell(\"<div id='\" + id + \"'></div>\");\n",
       "    if (!fig.cell_info) {\n",
       "        console.error('Failed to find cell for figure', id, fig);\n",
       "        return;\n",
       "    }\n",
       "    fig.cell_info[0].output_area.element.on(\n",
       "        'cleared',\n",
       "        { fig: fig },\n",
       "        fig._remove_fig_handler\n",
       "    );\n",
       "};\n",
       "\n",
       "mpl.figure.prototype.handle_close = function (fig, msg) {\n",
       "    var width = fig.canvas.width / fig.ratio;\n",
       "    fig.cell_info[0].output_area.element.off(\n",
       "        'cleared',\n",
       "        fig._remove_fig_handler\n",
       "    );\n",
       "    fig.resizeObserverInstance.unobserve(fig.canvas_div);\n",
       "\n",
       "    // Update the output cell to use the data from the current canvas.\n",
       "    fig.push_to_output();\n",
       "    var dataURL = fig.canvas.toDataURL();\n",
       "    // Re-enable the keyboard manager in IPython - without this line, in FF,\n",
       "    // the notebook keyboard shortcuts fail.\n",
       "    IPython.keyboard_manager.enable();\n",
       "    fig.parent_element.innerHTML =\n",
       "        '<img src=\"' + dataURL + '\" width=\"' + width + '\">';\n",
       "    fig.close_ws(fig, msg);\n",
       "};\n",
       "\n",
       "mpl.figure.prototype.close_ws = function (fig, msg) {\n",
       "    fig.send_message('closing', msg);\n",
       "    // fig.ws.close()\n",
       "};\n",
       "\n",
       "mpl.figure.prototype.push_to_output = function (_remove_interactive) {\n",
       "    // Turn the data on the canvas into data in the output cell.\n",
       "    var width = this.canvas.width / this.ratio;\n",
       "    var dataURL = this.canvas.toDataURL();\n",
       "    this.cell_info[1]['text/html'] =\n",
       "        '<img src=\"' + dataURL + '\" width=\"' + width + '\">';\n",
       "};\n",
       "\n",
       "mpl.figure.prototype.updated_canvas_event = function () {\n",
       "    // Tell IPython that the notebook contents must change.\n",
       "    IPython.notebook.set_dirty(true);\n",
       "    this.send_message('ack', {});\n",
       "    var fig = this;\n",
       "    // Wait a second, then push the new image to the DOM so\n",
       "    // that it is saved nicely (might be nice to debounce this).\n",
       "    setTimeout(function () {\n",
       "        fig.push_to_output();\n",
       "    }, 1000);\n",
       "};\n",
       "\n",
       "mpl.figure.prototype._init_toolbar = function () {\n",
       "    var fig = this;\n",
       "\n",
       "    var toolbar = document.createElement('div');\n",
       "    toolbar.classList = 'btn-toolbar';\n",
       "    this.root.appendChild(toolbar);\n",
       "\n",
       "    function on_click_closure(name) {\n",
       "        return function (_event) {\n",
       "            return fig.toolbar_button_onclick(name);\n",
       "        };\n",
       "    }\n",
       "\n",
       "    function on_mouseover_closure(tooltip) {\n",
       "        return function (event) {\n",
       "            if (!event.currentTarget.disabled) {\n",
       "                return fig.toolbar_button_onmouseover(tooltip);\n",
       "            }\n",
       "        };\n",
       "    }\n",
       "\n",
       "    fig.buttons = {};\n",
       "    var buttonGroup = document.createElement('div');\n",
       "    buttonGroup.classList = 'btn-group';\n",
       "    var button;\n",
       "    for (var toolbar_ind in mpl.toolbar_items) {\n",
       "        var name = mpl.toolbar_items[toolbar_ind][0];\n",
       "        var tooltip = mpl.toolbar_items[toolbar_ind][1];\n",
       "        var image = mpl.toolbar_items[toolbar_ind][2];\n",
       "        var method_name = mpl.toolbar_items[toolbar_ind][3];\n",
       "\n",
       "        if (!name) {\n",
       "            /* Instead of a spacer, we start a new button group. */\n",
       "            if (buttonGroup.hasChildNodes()) {\n",
       "                toolbar.appendChild(buttonGroup);\n",
       "            }\n",
       "            buttonGroup = document.createElement('div');\n",
       "            buttonGroup.classList = 'btn-group';\n",
       "            continue;\n",
       "        }\n",
       "\n",
       "        button = fig.buttons[name] = document.createElement('button');\n",
       "        button.classList = 'btn btn-default';\n",
       "        button.href = '#';\n",
       "        button.title = name;\n",
       "        button.innerHTML = '<i class=\"fa ' + image + ' fa-lg\"></i>';\n",
       "        button.addEventListener('click', on_click_closure(method_name));\n",
       "        button.addEventListener('mouseover', on_mouseover_closure(tooltip));\n",
       "        buttonGroup.appendChild(button);\n",
       "    }\n",
       "\n",
       "    if (buttonGroup.hasChildNodes()) {\n",
       "        toolbar.appendChild(buttonGroup);\n",
       "    }\n",
       "\n",
       "    // Add the status bar.\n",
       "    var status_bar = document.createElement('span');\n",
       "    status_bar.classList = 'mpl-message pull-right';\n",
       "    toolbar.appendChild(status_bar);\n",
       "    this.message = status_bar;\n",
       "\n",
       "    // Add the close button to the window.\n",
       "    var buttongrp = document.createElement('div');\n",
       "    buttongrp.classList = 'btn-group inline pull-right';\n",
       "    button = document.createElement('button');\n",
       "    button.classList = 'btn btn-mini btn-primary';\n",
       "    button.href = '#';\n",
       "    button.title = 'Stop Interaction';\n",
       "    button.innerHTML = '<i class=\"fa fa-power-off icon-remove icon-large\"></i>';\n",
       "    button.addEventListener('click', function (_evt) {\n",
       "        fig.handle_close(fig, {});\n",
       "    });\n",
       "    button.addEventListener(\n",
       "        'mouseover',\n",
       "        on_mouseover_closure('Stop Interaction')\n",
       "    );\n",
       "    buttongrp.appendChild(button);\n",
       "    var titlebar = this.root.querySelector('.ui-dialog-titlebar');\n",
       "    titlebar.insertBefore(buttongrp, titlebar.firstChild);\n",
       "};\n",
       "\n",
       "mpl.figure.prototype._remove_fig_handler = function (event) {\n",
       "    var fig = event.data.fig;\n",
       "    if (event.target !== this) {\n",
       "        // Ignore bubbled events from children.\n",
       "        return;\n",
       "    }\n",
       "    fig.close_ws(fig, {});\n",
       "};\n",
       "\n",
       "mpl.figure.prototype._root_extra_style = function (el) {\n",
       "    el.style.boxSizing = 'content-box'; // override notebook setting of border-box.\n",
       "};\n",
       "\n",
       "mpl.figure.prototype._canvas_extra_style = function (el) {\n",
       "    // this is important to make the div 'focusable\n",
       "    el.setAttribute('tabindex', 0);\n",
       "    // reach out to IPython and tell the keyboard manager to turn it's self\n",
       "    // off when our div gets focus\n",
       "\n",
       "    // location in version 3\n",
       "    if (IPython.notebook.keyboard_manager) {\n",
       "        IPython.notebook.keyboard_manager.register_events(el);\n",
       "    } else {\n",
       "        // location in version 2\n",
       "        IPython.keyboard_manager.register_events(el);\n",
       "    }\n",
       "};\n",
       "\n",
       "mpl.figure.prototype._key_event_extra = function (event, _name) {\n",
       "    var manager = IPython.notebook.keyboard_manager;\n",
       "    if (!manager) {\n",
       "        manager = IPython.keyboard_manager;\n",
       "    }\n",
       "\n",
       "    // Check for shift+enter\n",
       "    if (event.shiftKey && event.which === 13) {\n",
       "        this.canvas_div.blur();\n",
       "        // select the cell after this one\n",
       "        var index = IPython.notebook.find_cell_index(this.cell_info[0]);\n",
       "        IPython.notebook.select(index + 1);\n",
       "    }\n",
       "};\n",
       "\n",
       "mpl.figure.prototype.handle_save = function (fig, _msg) {\n",
       "    fig.ondownload(fig, null);\n",
       "};\n",
       "\n",
       "mpl.find_output_cell = function (html_output) {\n",
       "    // Return the cell and output element which can be found *uniquely* in the notebook.\n",
       "    // Note - this is a bit hacky, but it is done because the \"notebook_saving.Notebook\"\n",
       "    // IPython event is triggered only after the cells have been serialised, which for\n",
       "    // our purposes (turning an active figure into a static one), is too late.\n",
       "    var cells = IPython.notebook.get_cells();\n",
       "    var ncells = cells.length;\n",
       "    for (var i = 0; i < ncells; i++) {\n",
       "        var cell = cells[i];\n",
       "        if (cell.cell_type === 'code') {\n",
       "            for (var j = 0; j < cell.output_area.outputs.length; j++) {\n",
       "                var data = cell.output_area.outputs[j];\n",
       "                if (data.data) {\n",
       "                    // IPython >= 3 moved mimebundle to data attribute of output\n",
       "                    data = data.data;\n",
       "                }\n",
       "                if (data['text/html'] === html_output) {\n",
       "                    return [cell, data, j];\n",
       "                }\n",
       "            }\n",
       "        }\n",
       "    }\n",
       "};\n",
       "\n",
       "// Register the function which deals with the matplotlib target/channel.\n",
       "// The kernel may be null if the page has been refreshed.\n",
       "if (IPython.notebook.kernel !== null) {\n",
       "    IPython.notebook.kernel.comm_manager.register_target(\n",
       "        'matplotlib',\n",
       "        mpl.mpl_figure_comm\n",
       "    );\n",
       "}\n"
      ],
      "text/plain": [
       "<IPython.core.display.Javascript object>"
      ]
     },
     "metadata": {},
     "output_type": "display_data"
    },
    {
     "data": {
      "text/html": [
       "<img src=\"data:image/png;base64,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\" width=\"640\">"
      ],
      "text/plain": [
       "<IPython.core.display.HTML object>"
      ]
     },
     "metadata": {},
     "output_type": "display_data"
    }
   ],
   "source": [
    "%matplotlib notebook\n",
    "\n",
    "fig, ax = plt.subplots()\n",
    "\n",
    "dot, = ax.plot([x0[0]], [x0[1]], 'ro')\n",
    "ax.set_xlim(xlim)\n",
    "ax.set_ylim(ylim)\n",
    "ax.set_xlabel('x [m]')\n",
    "ax.set_ylabel('y [m]')\n",
    "\n",
    "def animate(time_step):\n",
    "    dot.set_data(trajectory[time_step, 0], trajectory[time_step, 1])\n",
    "    return dot,\n",
    "\n",
    "anim = FuncAnimation(fig, animate, frames=len(time_steps), interval=25, repeat=True, blit=True)\n",
    "plt.show()"
   ]
  },
  {
   "cell_type": "markdown",
   "id": "5a16db82",
   "metadata": {},
   "source": [
    "Or, just plotting all time steps:"
   ]
  },
  {
   "cell_type": "code",
   "execution_count": 7,
   "id": "c3a6e9ba",
   "metadata": {},
   "outputs": [
    {
     "data": {
      "image/png": "[encoded data removed]",
      "text/plain": [
       "<Figure size 432x288 with 1 Axes>"
      ]
     },
     "metadata": {
      "needs_background": "light"
     },
     "output_type": "display_data"
    }
   ],
   "source": [
    "%matplotlib inline\n",
    "plt.plot(trajectory[:, 0], trajectory[:, 1])\n",
    "plt.xlabel('x [m]')\n",
    "plt.ylabel('y [m]')\n",
    "plt.show()"
   ]
  },
  {
   "cell_type": "markdown",
   "id": "41aff399",
   "metadata": {},
   "source": [
    "We now have a physics simulator (albeit a simple one)! \n",
    "\n",
    "### Terminology: \n",
    "In the ML context, we call the above simulator our **forward model**, namely: we start from some set of conditions, and we use the forward model to get some result.\n",
    "\n",
    "### Today: \n",
    "Imagine we know the forward model, and we have some dataset. In a real context, this could correspond to experimental data, where the forward model is the physics simulation. How can we use the forward model to gain insight into the experimental data? More particularly, can we use the forward model to extract physical parameters from the real dataset? This is where differentiable simulation can be useful! Notable examples: detector calibration, physics reconstruction.\n",
    "\n",
    "### In our case:\n",
    "Suppose we're given some kinematic trajectory, but we don't know the initial velocity? Or the acceleration? Or the initial position? A differentiable kinematics simulator provides an easy tool to extract these parameters. Let's see how this works."
   ]
  },
  {
   "cell_type": "markdown",
   "id": "da097769",
   "metadata": {},
   "source": [
    "## Step 1: Differentiable forward model\n",
    "\n",
    "We'll use PyTorch here, but the same concepts apply to any framework"
   ]
  },
  {
   "cell_type": "code",
   "execution_count": 8,
   "id": "612a0c72",
   "metadata": {},
   "outputs": [],
   "source": [
    "import torch"
   ]
  },
  {
   "cell_type": "markdown",
   "id": "b55e485a",
   "metadata": {},
   "source": [
    "### Convenience step: Vectorization\n",
    "In principle, for loops are ok! In practice, it's often more convenient to repackage.\n",
    "\n",
    "Our data: single 2D kinematic trajectory with measurements at `n_steps` time steps $\\implies$ the output of the simulation should have shape `(n_steps, 2)`."
   ]
  },
  {
   "cell_type": "code",
   "execution_count": 9,
   "id": "0c39dabe",
   "metadata": {},
   "outputs": [
    {
     "data": {
      "text/plain": [
       "(100, 2)"
      ]
     },
     "execution_count": 9,
     "metadata": {},
     "output_type": "execute_result"
    }
   ],
   "source": [
    "trajectory.shape"
   ]
  },
  {
   "cell_type": "markdown",
   "id": "12d7353e",
   "metadata": {},
   "source": [
    "Repeating here for clarity, but: position function can stay the same!"
   ]
  },
  {
   "cell_type": "code",
   "execution_count": 10,
   "id": "54826b4e",
   "metadata": {},
   "outputs": [],
   "source": [
    "def position(t, a, x0, v0):\n",
    "    return x0 + v0*t + 0.5*a*t**2"
   ]
  },
  {
   "cell_type": "markdown",
   "id": "69b596fa",
   "metadata": {},
   "source": [
    "However, we need to adjust the shapes to work.\n",
    "\n",
    "Think of time as the zeroth dimension, spatial coordinates as the first dimension. Then, if we define our parameters as:"
   ]
  },
  {
   "cell_type": "code",
   "execution_count": 11,
   "id": "dfda7059",
   "metadata": {},
   "outputs": [],
   "source": [
    "#Acceleration due to gravity (-9.8 m/s^2 in negative y direction)\n",
    "a = torch.tensor([0, -9.8])[None, :]\n",
    "\n",
    "#Initial velocity for fun (m / s)\n",
    "v0 = torch.tensor([5, 10])[None, :]\n",
    "\n",
    "#Start at (0,10) [m]\n",
    "x0 = torch.tensor([0,10])[None, :]"
   ]
  },
  {
   "cell_type": "code",
   "execution_count": 12,
   "id": "7847d062",
   "metadata": {},
   "outputs": [
    {
     "data": {
      "text/plain": [
       "torch.Size([1, 2])"
      ]
     },
     "execution_count": 12,
     "metadata": {},
     "output_type": "execute_result"
    }
   ],
   "source": [
    "a.shape"
   ]
  },
  {
   "cell_type": "markdown",
   "id": "ef25a459",
   "metadata": {},
   "source": [
    "and our timesteps as:"
   ]
  },
  {
   "cell_type": "code",
   "execution_count": 13,
   "id": "6b5e6b35",
   "metadata": {},
   "outputs": [],
   "source": [
    "#Run the simulation: 100 timesteps\n",
    "time_steps = torch.linspace(0, 5, 100)[:, None]"
   ]
  },
  {
   "cell_type": "code",
   "execution_count": 14,
   "id": "ea60cc08",
   "metadata": {
    "scrolled": true
   },
   "outputs": [
    {
     "data": {
      "text/plain": [
       "torch.Size([100, 1])"
      ]
     },
     "execution_count": 14,
     "metadata": {},
     "output_type": "execute_result"
    }
   ],
   "source": [
    "time_steps.shape"
   ]
  },
  {
   "cell_type": "markdown",
   "id": "c92143c9",
   "metadata": {},
   "source": [
    "Broadcasting will then give us the desired shape"
   ]
  },
  {
   "cell_type": "code",
   "execution_count": 15,
   "id": "8a0e42d2",
   "metadata": {},
   "outputs": [],
   "source": [
    "trajectory = position(time_steps, a, x0, v0)"
   ]
  },
  {
   "cell_type": "code",
   "execution_count": 16,
   "id": "a21b6527",
   "metadata": {},
   "outputs": [
    {
     "name": "stdout",
     "output_type": "stream",
     "text": [
      "torch.Size([100, 2])\n"
     ]
    }
   ],
   "source": [
    "print(trajectory.shape)"
   ]
  },
  {
   "cell_type": "markdown",
   "id": "8643652e",
   "metadata": {},
   "source": [
    "and we haven't changed any values, so the output should be identical"
   ]
  },
  {
   "cell_type": "code",
   "execution_count": 17,
   "id": "c775b39d",
   "metadata": {},
   "outputs": [
    {
     "data": {
      "image/png": "[encoded data removed]",
      "text/plain": [
       "<Figure size 432x288 with 1 Axes>"
      ]
     },
     "metadata": {
      "needs_background": "light"
     },
     "output_type": "display_data"
    }
   ],
   "source": [
    "%matplotlib inline\n",
    "plt.plot(trajectory[:, 0], trajectory[:, 1])\n",
    "plt.xlabel('x [m]')\n",
    "plt.ylabel('y [m]')\n",
    "plt.show()"
   ]
  },
  {
   "cell_type": "markdown",
   "id": "b99acc61",
   "metadata": {},
   "source": [
    "### Summary: \n",
    "\n",
    "Things are easy for us today! Our forward model is a single function, `position`, which takes in measurement times, acceleration, initial position, and initial velocity, and returns a trajectory ($x$ and $y$ positions at each time step).\n",
    "\n",
    "Note that this is trivially differentiable -- we only use addition and multiplication! A more complicated simulation might require more tricks, but let's leave that for another day"
   ]
  },
  {
   "cell_type": "markdown",
   "id": "5a5b4daa",
   "metadata": {},
   "source": [
    "## Step 2: \"Take\" some data\n",
    "\n",
    "For today, we'll be using a single trajectory with some given parameter values as our target. This is the most perfect case -- our forward model is exact and we know the true parameter values. Real life is more complicated, but everybody starts somewhere!\n",
    "\n",
    "Let's use the same trajectory as above, but recording for posterity:"
   ]
  },
  {
   "cell_type": "code",
   "execution_count": 18,
   "id": "6377c28a",
   "metadata": {},
   "outputs": [],
   "source": [
    "#Acceleration due to gravity (-9.8 m/s^2 in negative y direction)\n",
    "a_target = torch.tensor([0, -9.8])[None, :]\n",
    "\n",
    "#Initial velocity for fun (m / s)\n",
    "v0_target = torch.tensor([5, 10])[None, :]\n",
    "\n",
    "#Start at (0,10) [m]\n",
    "x0_target = torch.tensor([0,10])[None, :]\n",
    "\n",
    "#Data taken at 100 known timesteps from 0 to 5 s\n",
    "time_steps = torch.linspace(0, 5, 100)[:, None]"
   ]
  },
  {
   "cell_type": "markdown",
   "id": "99f348ac",
   "metadata": {},
   "source": [
    "Target is the corresponding trajectory"
   ]
  },
  {
   "cell_type": "code",
   "execution_count": 19,
   "id": "17d73dfe",
   "metadata": {},
   "outputs": [],
   "source": [
    "trajectory_target = position(time_steps, a_target, x0_target, v0_target)"
   ]
  },
  {
   "cell_type": "markdown",
   "id": "f156ade4",
   "metadata": {},
   "source": [
    "## Step 3: Set up parameter gradients"
   ]
  },
  {
   "cell_type": "markdown",
   "id": "a18405d9",
   "metadata": {},
   "source": [
    "To start, let's try to solve for the initial velocity. We need to set up a new forward model with an initial guess. We can then iterate over the new model parameters.\n",
    "\n",
    "\n",
    "We assume only v0 changes for now, so everything else is the same"
   ]
  },
  {
   "cell_type": "code",
   "execution_count": 20,
   "id": "9269d90e",
   "metadata": {},
   "outputs": [],
   "source": [
    "#Acceleration due to gravity (-9.8 m/s^2 in negative y direction)\n",
    "a_guess = torch.tensor([0, -9.8])[None, :]\n",
    "\n",
    "#Start at (0,10) [m]\n",
    "x0_guess = torch.tensor([0.,10.])[None, :]\n",
    "\n",
    "#Run the simulation: 100 timesteps\n",
    "time_steps = torch.linspace(0, 5, 100)[:, None]"
   ]
  },
  {
   "cell_type": "markdown",
   "id": "5a029c29",
   "metadata": {},
   "source": [
    "And we don't know v0, so let's initialize to (0, 0)"
   ]
  },
  {
   "cell_type": "code",
   "execution_count": 21,
   "id": "60624e06",
   "metadata": {},
   "outputs": [],
   "source": [
    "#Initial velocity for fun (m / s)\n",
    "v0_guess = torch.tensor([0., 0.])[None, :]"
   ]
  },
  {
   "cell_type": "markdown",
   "id": "e5a544ea",
   "metadata": {},
   "source": [
    "Now we need a training loop. There are two important pieces:\n",
    "\n",
    "1. A **loss function**: in this case the easiest is just the Mean Squared Error between the output of the \"guess\" forward model and the target trajectory.\n",
    "\n",
    "2. An **optimizer**: how do we change parameters to try to fit the trajectory? Let's start with a simple gradient descent."
   ]
  },
  {
   "cell_type": "markdown",
   "id": "acad774a",
   "metadata": {},
   "source": [
    "Recall that gradient descent for some parameter (or vector of parameters) $\\theta$ at training step $i$ has update rule:\n",
    "\n",
    "\\begin{equation}\n",
    "\\theta_{i+1} = \\theta_{i} - \\eta\\cdot\\nabla_{\\theta}f(\\theta_i)\n",
    "\\end{equation}\n",
    "\n",
    "where $f$ is our objective function, and $\\eta$ is a _learning rate_ which controls the size of the gradient step. "
   ]
  },
  {
   "cell_type": "markdown",
   "id": "b53c5eb5",
   "metadata": {},
   "source": [
    "To do gradient descent, we need to keep track of gradients. In PyTorch this is done with setting `requires_grad = True` for the relevant parameters, either as an argument to `torch.tensor` in the initialization, or after the fact, like:"
   ]
  },
  {
   "cell_type": "code",
   "execution_count": 22,
   "id": "b1ddb226",
   "metadata": {},
   "outputs": [],
   "source": [
    "v0_guess.requires_grad = True"
   ]
  },
  {
   "cell_type": "markdown",
   "id": "8eb63d7c",
   "metadata": {},
   "source": [
    "Gradients of `v0_guess` are accessible via the attribute `v0_guess.grad`. Right now, `v0_guess` hasn't interacted with the physics model, so this is not filled."
   ]
  },
  {
   "cell_type": "code",
   "execution_count": 23,
   "id": "eff8f551",
   "metadata": {},
   "outputs": [
    {
     "name": "stdout",
     "output_type": "stream",
     "text": [
      "None\n"
     ]
    }
   ],
   "source": [
    "print(v0_guess.grad)"
   ]
  },
  {
   "cell_type": "markdown",
   "id": "85b5394d",
   "metadata": {},
   "source": [
    "## The training loop\n",
    "\n",
    "There are a few steps in the typical autodiff training loop. First, we need to initialize the parameters we want to fit -- we already did this above, but just to keep everything together, let's repeat."
   ]
  },
  {
   "cell_type": "markdown",
   "id": "664eedbc",
   "metadata": {},
   "source": [
    "### Fixed parameters:"
   ]
  },
  {
   "cell_type": "code",
   "execution_count": 24,
   "id": "bd8ae5c9",
   "metadata": {},
   "outputs": [],
   "source": [
    "#Acceleration due to gravity (-9.8 m/s^2 in negative y direction)\n",
    "a_guess = torch.tensor([0, -9.8])[None, :]\n",
    "\n",
    "#Start at (0,10) [m]\n",
    "x0_guess = torch.tensor([0.,10.])[None, :]\n",
    "\n",
    "#Run the simulation: 100 timesteps\n",
    "time_steps = torch.linspace(0, 5, 100)[:, None]"
   ]
  },
  {
   "cell_type": "markdown",
   "id": "139eb437",
   "metadata": {},
   "source": [
    "### Not fixed parameters:\n",
    "We want to solve for `v0_guess`"
   ]
  },
  {
   "cell_type": "code",
   "execution_count": 25,
   "id": "6b543d1b",
   "metadata": {},
   "outputs": [],
   "source": [
    "#Initial velocity for fun (m / s)\n",
    "v0_guess = torch.tensor([0., 0.])[None, :]\n",
    "v0_guess.requires_grad = True"
   ]
  },
  {
   "cell_type": "markdown",
   "id": "ae70ba51",
   "metadata": {},
   "source": [
    "Then we make a guess with the initial parameters. This is done with a simple pass through the forward model"
   ]
  },
  {
   "cell_type": "code",
   "execution_count": 26,
   "id": "c599e42c",
   "metadata": {},
   "outputs": [],
   "source": [
    "trajectory_guess = position(time_steps, a_guess, x0_guess, v0_guess)"
   ]
  },
  {
   "cell_type": "markdown",
   "id": "e7b021b3",
   "metadata": {},
   "source": [
    "Then compute the loss between the guessed trajectory and the target"
   ]
  },
  {
   "cell_type": "code",
   "execution_count": 27,
   "id": "f2ddb20e",
   "metadata": {},
   "outputs": [],
   "source": [
    "loss = ((trajectory_target - trajectory_guess)**2).mean()"
   ]
  },
  {
   "cell_type": "markdown",
   "id": "450e2767",
   "metadata": {},
   "source": [
    "and let PyTorch accumulate gradients with a backward pass. Note that the backward pass starts at the loss calculation -- this is the thing we want to minimize with gradient descent."
   ]
  },
  {
   "cell_type": "code",
   "execution_count": 28,
   "id": "340e81b3",
   "metadata": {},
   "outputs": [],
   "source": [
    "loss.backward()"
   ]
  },
  {
   "cell_type": "markdown",
   "id": "90c75e69",
   "metadata": {},
   "source": [
    "`v0_guess` now has an associated gradient"
   ]
  },
  {
   "cell_type": "code",
   "execution_count": 29,
   "id": "fe02e7dc",
   "metadata": {},
   "outputs": [
    {
     "name": "stdout",
     "output_type": "stream",
     "text": [
      "tensor([[-41.8771, -83.7542]])\n"
     ]
    }
   ],
   "source": [
    "print(v0_guess.grad)"
   ]
  },
  {
   "cell_type": "markdown",
   "id": "38f3c36d",
   "metadata": {},
   "source": [
    "and we expect a velocity of order 10, so let's define a learning rate so that our updates are of appropriate size"
   ]
  },
  {
   "cell_type": "code",
   "execution_count": 30,
   "id": "606d7fa8",
   "metadata": {},
   "outputs": [],
   "source": [
    "lr = 0.1"
   ]
  },
  {
   "cell_type": "markdown",
   "id": "9f286349",
   "metadata": {},
   "source": [
    "This allows us to actually do the update of `v0_guess`. We don't want to keep track of gradients through this update, so we wrap this in a `with torch.no_grad()`"
   ]
  },
  {
   "cell_type": "code",
   "execution_count": 31,
   "id": "0dfdb5c4",
   "metadata": {},
   "outputs": [],
   "source": [
    "with torch.no_grad():\n",
    "    v0_guess -= lr*v0_guess.grad"
   ]
  },
  {
   "cell_type": "markdown",
   "id": "6cb51e9b",
   "metadata": {},
   "source": [
    "`v0_guess` now has an updated value, so we can repeat"
   ]
  },
  {
   "cell_type": "code",
   "execution_count": 32,
   "id": "b1cceeea",
   "metadata": {},
   "outputs": [
    {
     "name": "stdout",
     "output_type": "stream",
     "text": [
      "tensor([[4.1877, 8.3754]], requires_grad=True)\n"
     ]
    }
   ],
   "source": [
    "print(v0_guess)"
   ]
  },
  {
   "cell_type": "markdown",
   "id": "f4430a02",
   "metadata": {},
   "source": [
    "In a loop:"
   ]
  },
  {
   "cell_type": "code",
   "execution_count": 33,
   "id": "d7d93580",
   "metadata": {},
   "outputs": [
    {
     "name": "stdout",
     "output_type": "stream",
     "text": [
      "Iter 0, Loss: 523.4638061523438\n",
      "Iter 1, Loss: 13.815546989440918\n",
      "Iter 2, Loss: 344.420166015625\n",
      "Iter 3, Loss: 639.60791015625\n",
      "Iter 4, Loss: 117.51748657226562\n",
      "Iter 5, Loss: 161.00543212890625\n",
      "Iter 6, Loss: 654.8856201171875\n",
      "Iter 7, Loss: 291.0216979980469\n",
      "Iter 8, Loss: 33.176998138427734\n",
      "Iter 9, Loss: 564.3025512695312\n"
     ]
    }
   ],
   "source": [
    "# Initialize training parameters\n",
    "v0_guess = torch.tensor([0., 0.])[None, :]\n",
    "v0_guess.requires_grad = True\n",
    "\n",
    "# Learning rate -- controls the size of the optimization step\n",
    "lr = 0.1\n",
    "\n",
    "# Keep track of training and losses \n",
    "training_path = []\n",
    "losses = []\n",
    "\n",
    "# Do 10 parameter updates\n",
    "for epoch in range(10):  \n",
    "    # Guess with current parameters\n",
    "    trajectory_guess = position(time_steps, a_guess, x0_guess, v0_guess)\n",
    "    \n",
    "    # Calculate loss\n",
    "    loss = ((trajectory_target - trajectory_guess)**2).mean()\n",
    "    \n",
    "    # Compute gradients\n",
    "    loss.backward()\n",
    "\n",
    "    # Update for next loop\n",
    "    with torch.no_grad():\n",
    "        v0_guess -= lr*v0_guess.grad\n",
    "        \n",
    "    print(f\"Iter {epoch}, Loss: {loss.detach().item()}\")\n",
    "    training_path.append(trajectory_guess.detach())\n",
    "    losses.append(loss.detach())"
   ]
  },
  {
   "cell_type": "code",
   "execution_count": 34,
   "id": "cbd99f25",
   "metadata": {},
   "outputs": [
    {
     "data": {
      "image/png": "[encoded data removed]",
      "text/plain": [
       "<Figure size 432x288 with 1 Axes>"
      ]
     },
     "metadata": {
      "needs_background": "light"
     },
     "output_type": "display_data"
    }
   ],
   "source": [
    "plt.plot(losses)\n",
    "plt.xlabel('Training Iteration')\n",
    "plt.ylabel('MSE Loss')\n",
    "plt.show()"
   ]
  },
  {
   "cell_type": "markdown",
   "id": "6f49fb3f",
   "metadata": {},
   "source": [
    "### Uh oh! Something went wrong! The loss should be going down!\n",
    "\n",
    "But not really -- PyTorch requires you to zero out the gradients after each update, otherwise they accumulate (get summed). This is easily done with:"
   ]
  },
  {
   "cell_type": "code",
   "execution_count": 35,
   "id": "3367e355",
   "metadata": {},
   "outputs": [
    {
     "data": {
      "text/plain": [
       "tensor([[0., 0.]])"
      ]
     },
     "execution_count": 35,
     "metadata": {},
     "output_type": "execute_result"
    }
   ],
   "source": [
    "v0_guess.grad.zero_()"
   ]
  },
  {
   "cell_type": "markdown",
   "id": "0c69aa3f",
   "metadata": {},
   "source": [
    "so that the gradient stored in `v0_guess.grad` corresponds only to each individual forward/backward pass. In the loop, this should be done after every update -- something simple, but a common \"first look at autograd\" bug!\n",
    "\n",
    "The proper training loop is then:"
   ]
  },
  {
   "cell_type": "code",
   "execution_count": 36,
   "id": "0353ce6a",
   "metadata": {
    "scrolled": true
   },
   "outputs": [
    {
     "name": "stdout",
     "output_type": "stream",
     "text": [
      "Iter 0, Loss: 523.4638061523438\n",
      "Iter 1, Loss: 13.815546989440918\n",
      "Iter 2, Loss: 0.3646276891231537\n",
      "Iter 3, Loss: 0.009623640216886997\n",
      "Iter 4, Loss: 0.00025398950674571097\n",
      "Iter 5, Loss: 6.708151886414271e-06\n",
      "Iter 6, Loss: 1.7744775959727122e-07\n",
      "Iter 7, Loss: 4.587823898560828e-09\n",
      "Iter 8, Loss: 1.2351669687049593e-10\n",
      "Iter 9, Loss: 5.973075332954547e-12\n"
     ]
    }
   ],
   "source": [
    "# Initialize training parameters\n",
    "v0_guess = torch.tensor([0., 0.])[None, :]\n",
    "v0_guess.requires_grad = True\n",
    "\n",
    "# Learning rate -- controls the size of the optimization step\n",
    "lr = 0.1\n",
    "\n",
    "# Keep track of training and losses \n",
    "v0_steps = [v0_guess.detach().clone()]\n",
    "training_path = []\n",
    "losses = []\n",
    "\n",
    "# Do 10 parameter updates\n",
    "for epoch in range(10):   \n",
    "    # Guess with current parameters\n",
    "    trajectory_guess = position(time_steps, a_guess, x0_guess, v0_guess)\n",
    "    \n",
    "    # Calculate loss\n",
    "    loss = ((trajectory_target - trajectory_guess)**2).mean()\n",
    "    \n",
    "    # Compute gradients\n",
    "    loss.backward()\n",
    "\n",
    "    print(f\"Iter {epoch}, Loss: {loss.detach().item()}\")\n",
    "    \n",
    "    # Update for next loop\n",
    "    with torch.no_grad():\n",
    "        v0_guess -= lr*v0_guess.grad\n",
    "        \n",
    "    # Zero out the gradients\n",
    "    v0_guess.grad.zero_()\n",
    "\n",
    "    # Store training history.\n",
    "    training_path.append(trajectory_guess.detach())\n",
    "    losses.append(loss.detach())\n",
    "    v0_steps.append(v0_guess.detach().clone())"
   ]
  },
  {
   "cell_type": "code",
   "execution_count": 37,
   "id": "5b387b97",
   "metadata": {},
   "outputs": [
    {
     "data": {
      "image/png": "[encoded data removed]",
      "text/plain": [
       "<Figure size 432x288 with 1 Axes>"
      ]
     },
     "metadata": {
      "needs_background": "light"
     },
     "output_type": "display_data"
    }
   ],
   "source": [
    "plt.plot(losses)\n",
    "plt.xlabel('Training Iteration')\n",
    "plt.ylabel('MSE Loss')\n",
    "plt.show()"
   ]
  },
  {
   "cell_type": "markdown",
   "id": "d2d09799",
   "metadata": {},
   "source": [
    "Converges quickly (and looks much healthier)!\n",
    "\n",
    "Let's look quickly at the training path:"
   ]
  },
  {
   "cell_type": "code",
   "execution_count": 38,
   "id": "94d5e3bc",
   "metadata": {},
   "outputs": [
    {
     "data": {
      "image/png": "[encoded data removed]",
      "text/plain": [
       "<Figure size 432x288 with 1 Axes>"
      ]
     },
     "metadata": {
      "needs_background": "light"
     },
     "output_type": "display_data"
    }
   ],
   "source": [
    "%matplotlib inline\n",
    "for step, traj in enumerate(training_path):\n",
    "    plt.plot(traj[:, 0], traj[:, 1], label=f'Guess {step}')\n",
    "plt.plot(trajectory_target[:, 0], trajectory_target[:, 1], c='k', label='Target')\n",
    "plt.legend(loc='upper left')\n",
    "plt.xlabel('x [m]')\n",
    "plt.ylabel('y [m]')\n",
    "plt.show()"
   ]
  },
  {
   "cell_type": "markdown",
   "id": "bdacbd27",
   "metadata": {},
   "source": [
    "As expected from the loss, we get closer to the target trajectory with each iteration. Looking at the values of v0:"
   ]
  },
  {
   "cell_type": "code",
   "execution_count": 39,
   "id": "c23e23fc",
   "metadata": {},
   "outputs": [
    {
     "data": {
      "image/png": "[encoded data removed]",
      "text/plain": [
       "<Figure size 432x288 with 1 Axes>"
      ]
     },
     "metadata": {
      "needs_background": "light"
     },
     "output_type": "display_data"
    }
   ],
   "source": [
    "for i_step, step in enumerate(v0_steps):\n",
    "    plt.scatter(step[:, 0], step[:, 1], label=f'Step {i_step}')\n",
    "plt.scatter(5, 10, c='k', label='Target')\n",
    "plt.legend(loc='upper left')\n",
    "plt.xlabel('$v_{0}^{x}$ [m / s]')\n",
    "plt.ylabel('$v_{0}^{y}$ [m / s]')\n",
    "plt.show()"
   ]
  },
  {
   "cell_type": "markdown",
   "id": "ff894570",
   "metadata": {},
   "source": [
    "we recover the target parameters."
   ]
  },
  {
   "cell_type": "markdown",
   "id": "5075a730",
   "metadata": {},
   "source": [
    "## Slightly more complicated -- more parameters!"
   ]
  },
  {
   "cell_type": "markdown",
   "id": "352f0d5c",
   "metadata": {},
   "source": [
    "### Exercise:\n",
    "\n",
    "Let's go crazy and try to fit all parameters: a, x0, and v0. The training loop is basically the same (with a couple of tweaks), just with more things, skeleton provided below:"
   ]
  },
  {
   "cell_type": "code",
   "execution_count": 40,
   "id": "0f017c4d",
   "metadata": {},
   "outputs": [
    {
     "name": "stderr",
     "output_type": "stream",
     "text": [
      "100%|████████████████████████████████████████████████████████████████████████████████████████████████████████████████████████████████████████████████████| 10000/10000 [00:01<00:00, 5645.80it/s]\n"
     ]
    }
   ],
   "source": [
    "# Initialize training parameters. This time we want gradients for a, x0, and v0\n",
    "# Fill in here -- feel free to init to [0, 0]\n",
    "v0_guess = torch.tensor([0., 0.])[None, :]\n",
    "\n",
    "# Fill in here\n",
    "v0_guess.requires_grad = True\n",
    "\n",
    "# Learning rate -- controls the size of the optimization step\n",
    "# note, we've decreased it to 0.01 -- more on that in a bit!\n",
    "lr = 0.01\n",
    "\n",
    "# Keep track of training and losses \n",
    "training_path = []\n",
    "losses = []\n",
    "\n",
    "# Do 10000 parameter updates -- do a progress bar to decrease verbosity\n",
    "# Note that longer training time is needed because we have a smaller learning rate\n",
    "for epoch in tqdm(range(10000)):  \n",
    "    # Guess with current parameters\n",
    "    trajectory_guess = position(time_steps, a_guess, x0_guess, v0_guess)\n",
    "    \n",
    "    # Calculate loss\n",
    "    loss = ((trajectory_target - trajectory_guess)**2).mean()\n",
    "    \n",
    "    # Compute gradients\n",
    "    loss.backward()\n",
    "\n",
    "    #print(f\"Iter {epoch}, Loss: {loss.detach().item()}\")\n",
    "    \n",
    "    # Update for next loop -- simultaneous update of all three\n",
    "    with torch.no_grad():\n",
    "        v0_guess -= lr*v0_guess.grad\n",
    "        # Fill in here: update x0_guess and a_guess with gradient desecent\n",
    "\n",
    "    # Zero out the gradients\n",
    "    v0_guess.grad.zero_()\n",
    "    # Fill in here: need to zero out gradients for x0_guess and a_guess too\n",
    "\n",
    "\n",
    "    # Store training history.\n",
    "    training_path.append(trajectory_guess.detach())\n",
    "    losses.append(loss.detach())"
   ]
  },
  {
   "cell_type": "markdown",
   "id": "0a9e90e4",
   "metadata": {},
   "source": [
    "### Answer:"
   ]
  },
  {
   "cell_type": "code",
   "execution_count": 41,
   "id": "7f8e7513",
   "metadata": {},
   "outputs": [
    {
     "name": "stderr",
     "output_type": "stream",
     "text": [
      "100%|████████████████████████████████████████████████████████████████████████████████████████████████████████████████████████████████████████████████████| 10000/10000 [00:01<00:00, 5176.41it/s]\n"
     ]
    }
   ],
   "source": [
    "# Initialize training parameters. This time we want gradients for a, x0, and v0\n",
    "a_guess = torch.tensor([0., 0.])[None, :]\n",
    "x0_guess = torch.tensor([0.,0.])[None, :]\n",
    "v0_guess = torch.tensor([0., 0.])[None, :]\n",
    "\n",
    "a_guess.requires_grad = True\n",
    "x0_guess.requires_grad = True\n",
    "v0_guess.requires_grad = True\n",
    "\n",
    "# Learning rate -- controls the size of the optimization step\n",
    "lr = 0.01\n",
    "\n",
    "# Keep track of training and losses \n",
    "training_path = []\n",
    "losses = []\n",
    "\n",
    "# Do 10000 parameter updates -- do a progress bar to decrease verbosity\n",
    "for epoch in tqdm(range(10000)):  \n",
    "    # Guess with current parameters\n",
    "    trajectory_guess = position(time_steps, a_guess, x0_guess, v0_guess)\n",
    "    \n",
    "    # Calculate loss\n",
    "    loss = ((trajectory_target - trajectory_guess)**2).mean()\n",
    "    \n",
    "    # Compute gradients\n",
    "    loss.backward()\n",
    "\n",
    "    #print(f\"Iter {epoch}, Loss: {loss.detach().item()}\")\n",
    "    \n",
    "    # Update for next loop -- simultaneous update of all three\n",
    "    with torch.no_grad():\n",
    "        v0_guess -= lr*v0_guess.grad\n",
    "        x0_guess -= lr*x0_guess.grad\n",
    "        a_guess -= lr*a_guess.grad\n",
    "\n",
    "    # Zero out the gradients\n",
    "    v0_guess.grad.zero_()\n",
    "    x0_guess.grad.zero_()\n",
    "    a_guess.grad.zero_()\n",
    "\n",
    "\n",
    "    # Store training history.\n",
    "    training_path.append(trajectory_guess.detach())\n",
    "    losses.append(loss.detach())"
   ]
  },
  {
   "cell_type": "code",
   "execution_count": 42,
   "id": "3e5452a8",
   "metadata": {},
   "outputs": [
    {
     "data": {
      "image/png": "[encoded data removed]",
      "text/plain": [
       "<Figure size 432x288 with 1 Axes>"
      ]
     },
     "metadata": {
      "needs_background": "light"
     },
     "output_type": "display_data"
    }
   ],
   "source": [
    "plt.plot(losses)\n",
    "plt.xlabel('Training Iteration')\n",
    "plt.ylabel('MSE Loss')\n",
    "plt.show()"
   ]
  },
  {
   "cell_type": "code",
   "execution_count": 43,
   "id": "76b60f51",
   "metadata": {},
   "outputs": [
    {
     "data": {
      "image/png": "[encoded data removed]",
      "text/plain": [
       "<Figure size 432x288 with 1 Axes>"
      ]
     },
     "metadata": {
      "needs_background": "light"
     },
     "output_type": "display_data"
    }
   ],
   "source": [
    "%matplotlib inline\n",
    "for step, traj in enumerate(training_path):\n",
    "    if step % 10 == 0:\n",
    "        plt.plot(traj[:, 0], traj[:, 1], label=f'Guess {step}')\n",
    "plt.plot(trajectory_target[:, 0], trajectory_target[:, 1], c='k', label='Target')\n",
    "#plt.legend()\n",
    "plt.xlabel('x [m]')\n",
    "plt.ylabel('y [m]')\n",
    "plt.show()"
   ]
  },
  {
   "cell_type": "code",
   "execution_count": 44,
   "id": "8ae2a884",
   "metadata": {},
   "outputs": [
    {
     "data": {
      "image/png": "[encoded data removed]",
      "text/plain": [
       "<Figure size 432x288 with 1 Axes>"
      ]
     },
     "metadata": {
      "needs_background": "light"
     },
     "output_type": "display_data"
    }
   ],
   "source": [
    "plt.plot(training_path[-1][:, 0], training_path[-1][:, 1], label='Final Iter')\n",
    "plt.plot(trajectory_target[:, 0], trajectory_target[:, 1], c='k', label='Target')\n",
    "plt.legend()\n",
    "plt.xlabel('x [m]')\n",
    "plt.ylabel('y [m]')\n",
    "plt.show()"
   ]
  },
  {
   "cell_type": "code",
   "execution_count": 45,
   "id": "e0aa75b3",
   "metadata": {},
   "outputs": [
    {
     "name": "stdout",
     "output_type": "stream",
     "text": [
      "Final v0: tensor([4.9961, 9.9978]), Target: tensor([ 5, 10])\n",
      "Final x0: tensor([4.1952e-03, 1.0002e+01]), Target: tensor([ 0, 10])\n",
      "Final a: tensor([ 1.3894e-03, -9.7992e+00]), Target: tensor([ 0.0000, -9.8000])\n"
     ]
    }
   ],
   "source": [
    "print(f'Final v0: {v0_guess.detach()[0]}, Target: {v0_target[0]}')\n",
    "print(f'Final x0: {x0_guess.detach()[0]}, Target: {x0_target[0]}')\n",
    "print(f'Final a: {a_guess.detach()[0]}, Target: {a_target[0]}')"
   ]
  },
  {
   "cell_type": "markdown",
   "id": "7a93e58f",
   "metadata": {},
   "source": [
    "## Learning rates and convergence\n",
    "\n",
    "Let's try using the learning rate that we started out with. The loop:"
   ]
  },
  {
   "cell_type": "code",
   "execution_count": 46,
   "id": "3978ee41",
   "metadata": {},
   "outputs": [
    {
     "name": "stdout",
     "output_type": "stream",
     "text": [
      "Iter 0, Loss: 389.73809814453125\n",
      "Iter 1, Loss: 2653.564697265625\n",
      "Iter 2, Loss: 23547.7734375\n",
      "Iter 3, Loss: 215280.046875\n",
      "Iter 4, Loss: 1973734.125\n",
      "Iter 5, Loss: 18100422.0\n",
      "Iter 6, Loss: 165996688.0\n",
      "Iter 7, Loss: 1522338304.0\n",
      "Iter 8, Loss: 13961207808.0\n",
      "Iter 9, Loss: 128036773888.0\n"
     ]
    }
   ],
   "source": [
    "# Initialize training parameters. This time we want gradients for a, x0, and v0\n",
    "a_guess = torch.tensor([0., 0.])[None, :]\n",
    "x0_guess = torch.tensor([0.,0.])[None, :]\n",
    "v0_guess = torch.tensor([0., 0.])[None, :]\n",
    "\n",
    "a_guess.requires_grad = True\n",
    "x0_guess.requires_grad = True\n",
    "v0_guess.requires_grad = True\n",
    "\n",
    "# Learning rate -- back up to 0.1\n",
    "lr = 0.1\n",
    "\n",
    "# Keep track of training and losses \n",
    "training_path = []\n",
    "losses = []\n",
    "\n",
    "# Back to 10 updates\n",
    "for epoch in range(10):   \n",
    "    # Guess with current parameters\n",
    "    trajectory_guess = position(time_steps, a_guess, x0_guess, v0_guess)\n",
    "    \n",
    "    # Calculate loss\n",
    "    loss = ((trajectory_target - trajectory_guess)**2).mean()\n",
    "    \n",
    "    # Compute gradients\n",
    "    loss.backward()\n",
    "\n",
    "    print(f\"Iter {epoch}, Loss: {loss.detach().item()}\")\n",
    "    \n",
    "    # Update for next loop -- simultaneous update of all three\n",
    "    with torch.no_grad():\n",
    "        v0_guess -= lr*v0_guess.grad\n",
    "        x0_guess -= lr*x0_guess.grad\n",
    "        a_guess -= lr*a_guess.grad\n",
    "\n",
    "    # Zero out the gradients\n",
    "    v0_guess.grad.zero_()\n",
    "    x0_guess.grad.zero_()\n",
    "    a_guess.grad.zero_()\n",
    "\n",
    "\n",
    "    # Store training history.\n",
    "    training_path.append(trajectory_guess.detach())\n",
    "    losses.append(loss.detach())"
   ]
  },
  {
   "cell_type": "code",
   "execution_count": 47,
   "id": "fc8f7e56",
   "metadata": {},
   "outputs": [
    {
     "data": {
      "image/png": "[encoded data removed]",
      "text/plain": [
       "<Figure size 432x288 with 1 Axes>"
      ]
     },
     "metadata": {
      "needs_background": "light"
     },
     "output_type": "display_data"
    }
   ],
   "source": [
    "plt.plot(losses)\n",
    "plt.xlabel('Training Iteration')\n",
    "plt.ylabel('MSE Loss')\n",
    "plt.show()"
   ]
  },
  {
   "cell_type": "markdown",
   "id": "de2795a8",
   "metadata": {},
   "source": [
    "### Uh oh, the loss should be going down!\n",
    "\n",
    "Usually when this happens, the learning rate is too big -- the optimization procedure doesn't converge to a minimum because we're \"bouncing around\" the parameter space.\n",
    "\n",
    "#### Solutions:\n",
    "1. Guess and check: try decreasing learning rate. Often helpful to look at the magnitude of the corresponding gradients to get an idea of appropriate magnitudes\n",
    "2. Use a better optimizer (e.g. something adaptive like Adam)\n",
    "\n",
    "In our case, guessing should be sufficient. Note that _decreasing_ the size of our update steps means that we should _increase_ the number of training iterations."
   ]
  },
  {
   "cell_type": "markdown",
   "id": "97c43e91",
   "metadata": {},
   "source": [
    "## Cleaning up\n",
    "We've manually defined our loss function and optimizer, but using built in PyTorch stuff generalizes much better! Rewriting:"
   ]
  },
  {
   "cell_type": "code",
   "execution_count": 48,
   "id": "33f48832",
   "metadata": {},
   "outputs": [
    {
     "name": "stderr",
     "output_type": "stream",
     "text": [
      "100%|████████████████████████████████████████████████████████████████████████████████████████████████████████████████████████████████████████████████████| 10000/10000 [00:02<00:00, 4765.43it/s]\n"
     ]
    }
   ],
   "source": [
    "# Same MSE loss from PyTorch\n",
    "loss_fn = torch.nn.MSELoss()\n",
    "\n",
    "# If we want to initialize at 0's we should use torch.zeros\n",
    "a_guess = torch.zeros((1, 2), requires_grad=True)\n",
    "x0_guess = torch.zeros((1, 2), requires_grad=True)\n",
    "v0_guess = torch.zeros((1, 2), requires_grad=True)\n",
    "\n",
    "# Torch has a bunch of built in optimizers. Stick with gradient descent.\n",
    "optimizer = torch.optim.SGD([a_guess, x0_guess, v0_guess], lr=0.01)\n",
    "\n",
    "# Same simple history tracking\n",
    "training_path = []\n",
    "losses = []\n",
    "for epoch in tqdm(range(10000)):\n",
    "    # This line replaces the per-parameter gradient zeroing\n",
    "    optimizer.zero_grad()\n",
    "    \n",
    "    # Forward model done the same way\n",
    "    trajectory_guess = position(time_steps, a_guess, x0_guess, v0_guess)\n",
    "    \n",
    "    # Pass to loss function\n",
    "    loss = loss_fn(trajectory_target, trajectory_guess)\n",
    "    \n",
    "    # Backward pass done the same way\n",
    "    loss.backward()\n",
    "\n",
    "    # The optimizer takes care of the gradient steps\n",
    "    optimizer.step()\n",
    "        \n",
    "    losses.append(loss.detach())\n",
    "    training_path.append(trajectory_guess.detach())"
   ]
  },
  {
   "cell_type": "markdown",
   "id": "2e698d2e",
   "metadata": {},
   "source": [
    "Results are completely identical"
   ]
  },
  {
   "cell_type": "code",
   "execution_count": 49,
   "id": "492f9d98",
   "metadata": {},
   "outputs": [
    {
     "data": {
      "image/png": "[encoded data removed]",
      "text/plain": [
       "<Figure size 432x288 with 1 Axes>"
      ]
     },
     "metadata": {
      "needs_background": "light"
     },
     "output_type": "display_data"
    }
   ],
   "source": [
    "plt.plot(losses)\n",
    "plt.xlabel('Training Iteration')\n",
    "plt.ylabel('MSE Loss')\n",
    "plt.show()"
   ]
  },
  {
   "cell_type": "code",
   "execution_count": 50,
   "id": "9bfd766d",
   "metadata": {},
   "outputs": [
    {
     "name": "stdout",
     "output_type": "stream",
     "text": [
      "tensor(1.4415e-06)\n"
     ]
    }
   ],
   "source": [
    "print(losses[-1])"
   ]
  },
  {
   "cell_type": "code",
   "execution_count": 51,
   "id": "657e97c2",
   "metadata": {},
   "outputs": [
    {
     "data": {
      "image/png": "[encoded data removed]",
      "text/plain": [
       "<Figure size 432x288 with 1 Axes>"
      ]
     },
     "metadata": {
      "needs_background": "light"
     },
     "output_type": "display_data"
    }
   ],
   "source": [
    "%matplotlib inline\n",
    "for step, traj in enumerate(training_path):\n",
    "    if step % 10 == 0:\n",
    "        plt.plot(traj[:, 0], traj[:, 1], label=f'Guess {step}')\n",
    "plt.plot(trajectory_target[:, 0], trajectory_target[:, 1], c='k', label='Target')\n",
    "#plt.legend()\n",
    "plt.xlabel('x [m]')\n",
    "plt.ylabel('y [m]')\n",
    "plt.show()"
   ]
  },
  {
   "cell_type": "code",
   "execution_count": 52,
   "id": "f258e8a2",
   "metadata": {},
   "outputs": [
    {
     "data": {
      "image/png": "[encoded data removed]",
      "text/plain": [
       "<Figure size 432x288 with 1 Axes>"
      ]
     },
     "metadata": {
      "needs_background": "light"
     },
     "output_type": "display_data"
    }
   ],
   "source": [
    "plt.plot(training_path[-1][:, 0], training_path[-1][:, 1], label='Final Iter')\n",
    "plt.plot(trajectory_target[:, 0], trajectory_target[:, 1], c='k', label='Target')\n",
    "plt.legend()\n",
    "plt.xlabel('x [m]')\n",
    "plt.ylabel('y [m]')\n",
    "plt.show()"
   ]
  },
  {
   "cell_type": "code",
   "execution_count": 53,
   "id": "17a441ef",
   "metadata": {},
   "outputs": [
    {
     "name": "stdout",
     "output_type": "stream",
     "text": [
      "Final v0: tensor([4.9961, 9.9978]), Target: tensor([ 5, 10])\n",
      "Final x0: tensor([4.1952e-03, 1.0002e+01]), Target: tensor([ 0, 10])\n",
      "Final a: tensor([ 1.3894e-03, -9.7992e+00]), Target: tensor([ 0.0000, -9.8000])\n"
     ]
    }
   ],
   "source": [
    "print(f'Final v0: {v0_guess.detach()[0]}, Target: {v0_target[0]}')\n",
    "print(f'Final x0: {x0_guess.detach()[0]}, Target: {x0_target[0]}')\n",
    "print(f'Final a: {a_guess.detach()[0]}, Target: {a_target[0]}')"
   ]
  },
  {
   "cell_type": "markdown",
   "id": "54613bd1",
   "metadata": {},
   "source": [
    "## Conclusions:\n",
    "\n",
    "We have constructed a simple physics model with PyTorch and used automatic differentiation to fit parameters of that model via gradient descent, given target data. The model we use here is very simple, but a very similar training loop can be used for much more complex physics models and many more parameters -- the important thing is the differentiability!\n",
    "\n",
    "\n",
    "### Context:\n",
    "\n",
    "The problem that we solved today can be viewed in two ways:\n",
    "1. The forward model, $\\Phi$ is a map from parameters $\\theta$ to trajectories $X$. We can use automatic differentiation to invert this map: given $X$ and $\\Phi$, we can reconstruct $\\theta$.\n",
    "2. Our initial parameters are parameters of our simulation, and are our best guesses at what the parameters are in real life. We've now been given some data that we believe obeys the physics of our model. We can then fit the model parameters to _calibrate_ the simulation to the data.\n",
    "\n",
    "Keep these two contexts in mind for your experiments! The approach we demonstrated above works for both :)"
   ]
  }
 ],
 "metadata": {
  "kernelspec": {
   "display_name": "Python 3 (ipykernel)",
   "language": "python",
   "name": "python3"
  },
  "language_info": {
   "codemirror_mode": {
    "name": "ipython",
    "version": 3
   },
   "file_extension": ".py",
   "mimetype": "text/x-python",
   "name": "python",
   "nbconvert_exporter": "python",
   "pygments_lexer": "ipython3",
   "version": "3.8.12"
  }
 },
 "nbformat": 4,
 "nbformat_minor": 5
}
