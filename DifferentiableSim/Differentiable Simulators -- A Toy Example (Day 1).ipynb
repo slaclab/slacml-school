{
 "cells": [
  {
   "cell_type": "code",
   "execution_count": 1,
   "id": "eb9416bf",
   "metadata": {},
   "outputs": [],
   "source": [
    "import numpy as np\n",
    "import matplotlib.pyplot as plt\n",
    "from matplotlib.animation import FuncAnimation\n",
    "from tqdm import tqdm"
   ]
  },
  {
   "cell_type": "markdown",
   "id": "69556d54",
   "metadata": {},
   "source": [
    "## A simple physics model\n",
    "\n",
    "Suppose we want to simulate the motion of a ball. More specifically, for each time $t$, we would like to know the position, $\\vec{x}$ of an object, perhaps under some acceleration $\\vec{a}$.\n",
    "\n",
    "Kinematic equations tell us:\n",
    "\\begin{equation}\n",
    "\\vec{x}(t) = \\vec{x}_{0} + \\vec{v}_{0}t + \\frac{1}{2}\\vec{a}t^2\n",
    "\\end{equation}\n",
    "\n",
    "where $\\vec{x}_{0}$ and $\\vec{v}_{0}$ are the initial position/velocity."
   ]
  },
  {
   "cell_type": "markdown",
   "id": "e5fc0781",
   "metadata": {},
   "source": [
    "In code: "
   ]
  },
  {
   "cell_type": "code",
   "execution_count": 2,
   "id": "aa0fe037",
   "metadata": {},
   "outputs": [],
   "source": [
    "def position(t, a, x0, v0):\n",
    "    return x0 + v0*t + 0.5*a*t**2"
   ]
  },
  {
   "cell_type": "markdown",
   "id": "017c5cb2",
   "metadata": {},
   "source": [
    "Sticking to 2d for visualization purposes, we can run a simple simulation to get the trajectory of an object under the influence of gravity, namely:\n",
    "\n",
    "$\\vec{a}$ = (0, -9.8), in units of $m / s^2$"
   ]
  },
  {
   "cell_type": "code",
   "execution_count": 3,
   "id": "a0feb484",
   "metadata": {},
   "outputs": [],
   "source": [
    "#Acceleration due to gravity (-9.8 m/s^2 in negative y direction)\n",
    "a = np.asarray([0, -9.8])\n",
    "\n",
    "#Initial velocity for fun (m / s)\n",
    "v0 = np.asarray([5, 10])\n",
    "\n",
    "#Start at (0,10) [m]\n",
    "x0 = np.asarray([0,10])"
   ]
  },
  {
   "cell_type": "markdown",
   "id": "ccc1bcb3",
   "metadata": {},
   "source": [
    "We then can create a trajectory for the object by \"measuring\" position at a set of time steps"
   ]
  },
  {
   "cell_type": "code",
   "execution_count": 4,
   "id": "cf209491",
   "metadata": {},
   "outputs": [],
   "source": [
    "#Run the simulation: 100 timesteps\n",
    "time_steps = np.linspace(0, 5, 100)\n",
    "\n",
    "trajectory = []\n",
    "for t_step in time_steps:\n",
    "    xt = position(t_step, a, x0, v0)\n",
    "    trajectory.append(xt)\n",
    "    \n",
    "trajectory = np.asarray(trajectory)"
   ]
  },
  {
   "cell_type": "markdown",
   "id": "ea5dfc91",
   "metadata": {},
   "source": [
    "For fun, let's animate how this might look:"
   ]
  },
  {
   "cell_type": "code",
   "execution_count": 5,
   "id": "103278b2",
   "metadata": {},
   "outputs": [],
   "source": [
    "xlim = [trajectory[:, 0].min(), trajectory[:, 0].max()]\n",
    "ylim = [trajectory[:, 1].min(), trajectory[:, 1].max()]"
   ]
  },
  {
   "cell_type": "code",
   "execution_count": 7,
   "id": "2d351235",
   "metadata": {},
   "outputs": [
    {
     "data": {
      "application/javascript": [
       "/* Put everything inside the global mpl namespace */\n",
       "/* global mpl */\n",
       "window.mpl = {};\n",
       "\n",
       "mpl.get_websocket_type = function () {\n",
       "    if (typeof WebSocket !== 'undefined') {\n",
       "        return WebSocket;\n",
       "    } else if (typeof MozWebSocket !== 'undefined') {\n",
       "        return MozWebSocket;\n",
       "    } else {\n",
       "        alert(\n",
       "            'Your browser does not have WebSocket support. ' +\n",
       "                'Please try Chrome, Safari or Firefox ≥ 6. ' +\n",
       "                'Firefox 4 and 5 are also supported but you ' +\n",
       "                'have to enable WebSockets in about:config.'\n",
       "        );\n",
       "    }\n",
       "};\n",
       "\n",
       "mpl.figure = function (figure_id, websocket, ondownload, parent_element) {\n",
       "    this.id = figure_id;\n",
       "\n",
       "    this.ws = websocket;\n",
       "\n",
       "    this.supports_binary = this.ws.binaryType !== undefined;\n",
       "\n",
       "    if (!this.supports_binary) {\n",
       "        var warnings = document.getElementById('mpl-warnings');\n",
       "        if (warnings) {\n",
       "            warnings.style.display = 'block';\n",
       "            warnings.textContent =\n",
       "                'This browser does not support binary websocket messages. ' +\n",
       "                'Performance may be slow.';\n",
       "        }\n",
       "    }\n",
       "\n",
       "    this.imageObj = new Image();\n",
       "\n",
       "    this.context = undefined;\n",
       "    this.message = undefined;\n",
       "    this.canvas = undefined;\n",
       "    this.rubberband_canvas = undefined;\n",
       "    this.rubberband_context = undefined;\n",
       "    this.format_dropdown = undefined;\n",
       "\n",
       "    this.image_mode = 'full';\n",
       "\n",
       "    this.root = document.createElement('div');\n",
       "    this.root.setAttribute('style', 'display: inline-block');\n",
       "    this._root_extra_style(this.root);\n",
       "\n",
       "    parent_element.appendChild(this.root);\n",
       "\n",
       "    this._init_header(this);\n",
       "    this._init_canvas(this);\n",
       "    this._init_toolbar(this);\n",
       "\n",
       "    var fig = this;\n",
       "\n",
       "    this.waiting = false;\n",
       "\n",
       "    this.ws.onopen = function () {\n",
       "        fig.send_message('supports_binary', { value: fig.supports_binary });\n",
       "        fig.send_message('send_image_mode', {});\n",
       "        if (mpl.ratio !== 1) {\n",
       "            fig.send_message('set_dpi_ratio', { dpi_ratio: mpl.ratio });\n",
       "        }\n",
       "        fig.send_message('refresh', {});\n",
       "    };\n",
       "\n",
       "    this.imageObj.onload = function () {\n",
       "        if (fig.image_mode === 'full') {\n",
       "            // Full images could contain transparency (where diff images\n",
       "            // almost always do), so we need to clear the canvas so that\n",
       "            // there is no ghosting.\n",
       "            fig.context.clearRect(0, 0, fig.canvas.width, fig.canvas.height);\n",
       "        }\n",
       "        fig.context.drawImage(fig.imageObj, 0, 0);\n",
       "    };\n",
       "\n",
       "    this.imageObj.onunload = function () {\n",
       "        fig.ws.close();\n",
       "    };\n",
       "\n",
       "    this.ws.onmessage = this._make_on_message_function(this);\n",
       "\n",
       "    this.ondownload = ondownload;\n",
       "};\n",
       "\n",
       "mpl.figure.prototype._init_header = function () {\n",
       "    var titlebar = document.createElement('div');\n",
       "    titlebar.classList =\n",
       "        'ui-dialog-titlebar ui-widget-header ui-corner-all ui-helper-clearfix';\n",
       "    var titletext = document.createElement('div');\n",
       "    titletext.classList = 'ui-dialog-title';\n",
       "    titletext.setAttribute(\n",
       "        'style',\n",
       "        'width: 100%; text-align: center; padding: 3px;'\n",
       "    );\n",
       "    titlebar.appendChild(titletext);\n",
       "    this.root.appendChild(titlebar);\n",
       "    this.header = titletext;\n",
       "};\n",
       "\n",
       "mpl.figure.prototype._canvas_extra_style = function (_canvas_div) {};\n",
       "\n",
       "mpl.figure.prototype._root_extra_style = function (_canvas_div) {};\n",
       "\n",
       "mpl.figure.prototype._init_canvas = function () {\n",
       "    var fig = this;\n",
       "\n",
       "    var canvas_div = (this.canvas_div = document.createElement('div'));\n",
       "    canvas_div.setAttribute(\n",
       "        'style',\n",
       "        'border: 1px solid #ddd;' +\n",
       "            'box-sizing: content-box;' +\n",
       "            'clear: both;' +\n",
       "            'min-height: 1px;' +\n",
       "            'min-width: 1px;' +\n",
       "            'outline: 0;' +\n",
       "            'overflow: hidden;' +\n",
       "            'position: relative;' +\n",
       "            'resize: both;'\n",
       "    );\n",
       "\n",
       "    function on_keyboard_event_closure(name) {\n",
       "        return function (event) {\n",
       "            return fig.key_event(event, name);\n",
       "        };\n",
       "    }\n",
       "\n",
       "    canvas_div.addEventListener(\n",
       "        'keydown',\n",
       "        on_keyboard_event_closure('key_press')\n",
       "    );\n",
       "    canvas_div.addEventListener(\n",
       "        'keyup',\n",
       "        on_keyboard_event_closure('key_release')\n",
       "    );\n",
       "\n",
       "    this._canvas_extra_style(canvas_div);\n",
       "    this.root.appendChild(canvas_div);\n",
       "\n",
       "    var canvas = (this.canvas = document.createElement('canvas'));\n",
       "    canvas.classList.add('mpl-canvas');\n",
       "    canvas.setAttribute('style', 'box-sizing: content-box;');\n",
       "\n",
       "    this.context = canvas.getContext('2d');\n",
       "\n",
       "    var backingStore =\n",
       "        this.context.backingStorePixelRatio ||\n",
       "        this.context.webkitBackingStorePixelRatio ||\n",
       "        this.context.mozBackingStorePixelRatio ||\n",
       "        this.context.msBackingStorePixelRatio ||\n",
       "        this.context.oBackingStorePixelRatio ||\n",
       "        this.context.backingStorePixelRatio ||\n",
       "        1;\n",
       "\n",
       "    mpl.ratio = (window.devicePixelRatio || 1) / backingStore;\n",
       "\n",
       "    var rubberband_canvas = (this.rubberband_canvas = document.createElement(\n",
       "        'canvas'\n",
       "    ));\n",
       "    rubberband_canvas.setAttribute(\n",
       "        'style',\n",
       "        'box-sizing: content-box; position: absolute; left: 0; top: 0; z-index: 1;'\n",
       "    );\n",
       "\n",
       "    var resizeObserver = new ResizeObserver(function (entries) {\n",
       "        var nentries = entries.length;\n",
       "        for (var i = 0; i < nentries; i++) {\n",
       "            var entry = entries[i];\n",
       "            var width, height;\n",
       "            if (entry.contentBoxSize) {\n",
       "                if (entry.contentBoxSize instanceof Array) {\n",
       "                    // Chrome 84 implements new version of spec.\n",
       "                    width = entry.contentBoxSize[0].inlineSize;\n",
       "                    height = entry.contentBoxSize[0].blockSize;\n",
       "                } else {\n",
       "                    // Firefox implements old version of spec.\n",
       "                    width = entry.contentBoxSize.inlineSize;\n",
       "                    height = entry.contentBoxSize.blockSize;\n",
       "                }\n",
       "            } else {\n",
       "                // Chrome <84 implements even older version of spec.\n",
       "                width = entry.contentRect.width;\n",
       "                height = entry.contentRect.height;\n",
       "            }\n",
       "\n",
       "            // Keep the size of the canvas and rubber band canvas in sync with\n",
       "            // the canvas container.\n",
       "            if (entry.devicePixelContentBoxSize) {\n",
       "                // Chrome 84 implements new version of spec.\n",
       "                canvas.setAttribute(\n",
       "                    'width',\n",
       "                    entry.devicePixelContentBoxSize[0].inlineSize\n",
       "                );\n",
       "                canvas.setAttribute(\n",
       "                    'height',\n",
       "                    entry.devicePixelContentBoxSize[0].blockSize\n",
       "                );\n",
       "            } else {\n",
       "                canvas.setAttribute('width', width * mpl.ratio);\n",
       "                canvas.setAttribute('height', height * mpl.ratio);\n",
       "            }\n",
       "            canvas.setAttribute(\n",
       "                'style',\n",
       "                'width: ' + width + 'px; height: ' + height + 'px;'\n",
       "            );\n",
       "\n",
       "            rubberband_canvas.setAttribute('width', width);\n",
       "            rubberband_canvas.setAttribute('height', height);\n",
       "\n",
       "            // And update the size in Python. We ignore the initial 0/0 size\n",
       "            // that occurs as the element is placed into the DOM, which should\n",
       "            // otherwise not happen due to the minimum size styling.\n",
       "            if (width != 0 && height != 0) {\n",
       "                fig.request_resize(width, height);\n",
       "            }\n",
       "        }\n",
       "    });\n",
       "    resizeObserver.observe(canvas_div);\n",
       "\n",
       "    function on_mouse_event_closure(name) {\n",
       "        return function (event) {\n",
       "            return fig.mouse_event(event, name);\n",
       "        };\n",
       "    }\n",
       "\n",
       "    rubberband_canvas.addEventListener(\n",
       "        'mousedown',\n",
       "        on_mouse_event_closure('button_press')\n",
       "    );\n",
       "    rubberband_canvas.addEventListener(\n",
       "        'mouseup',\n",
       "        on_mouse_event_closure('button_release')\n",
       "    );\n",
       "    // Throttle sequential mouse events to 1 every 20ms.\n",
       "    rubberband_canvas.addEventListener(\n",
       "        'mousemove',\n",
       "        on_mouse_event_closure('motion_notify')\n",
       "    );\n",
       "\n",
       "    rubberband_canvas.addEventListener(\n",
       "        'mouseenter',\n",
       "        on_mouse_event_closure('figure_enter')\n",
       "    );\n",
       "    rubberband_canvas.addEventListener(\n",
       "        'mouseleave',\n",
       "        on_mouse_event_closure('figure_leave')\n",
       "    );\n",
       "\n",
       "    canvas_div.addEventListener('wheel', function (event) {\n",
       "        if (event.deltaY < 0) {\n",
       "            event.step = 1;\n",
       "        } else {\n",
       "            event.step = -1;\n",
       "        }\n",
       "        on_mouse_event_closure('scroll')(event);\n",
       "    });\n",
       "\n",
       "    canvas_div.appendChild(canvas);\n",
       "    canvas_div.appendChild(rubberband_canvas);\n",
       "\n",
       "    this.rubberband_context = rubberband_canvas.getContext('2d');\n",
       "    this.rubberband_context.strokeStyle = '#000000';\n",
       "\n",
       "    this._resize_canvas = function (width, height, forward) {\n",
       "        if (forward) {\n",
       "            canvas_div.style.width = width + 'px';\n",
       "            canvas_div.style.height = height + 'px';\n",
       "        }\n",
       "    };\n",
       "\n",
       "    // Disable right mouse context menu.\n",
       "    this.rubberband_canvas.addEventListener('contextmenu', function (_e) {\n",
       "        event.preventDefault();\n",
       "        return false;\n",
       "    });\n",
       "\n",
       "    function set_focus() {\n",
       "        canvas.focus();\n",
       "        canvas_div.focus();\n",
       "    }\n",
       "\n",
       "    window.setTimeout(set_focus, 100);\n",
       "};\n",
       "\n",
       "mpl.figure.prototype._init_toolbar = function () {\n",
       "    var fig = this;\n",
       "\n",
       "    var toolbar = document.createElement('div');\n",
       "    toolbar.classList = 'mpl-toolbar';\n",
       "    this.root.appendChild(toolbar);\n",
       "\n",
       "    function on_click_closure(name) {\n",
       "        return function (_event) {\n",
       "            return fig.toolbar_button_onclick(name);\n",
       "        };\n",
       "    }\n",
       "\n",
       "    function on_mouseover_closure(tooltip) {\n",
       "        return function (event) {\n",
       "            if (!event.currentTarget.disabled) {\n",
       "                return fig.toolbar_button_onmouseover(tooltip);\n",
       "            }\n",
       "        };\n",
       "    }\n",
       "\n",
       "    fig.buttons = {};\n",
       "    var buttonGroup = document.createElement('div');\n",
       "    buttonGroup.classList = 'mpl-button-group';\n",
       "    for (var toolbar_ind in mpl.toolbar_items) {\n",
       "        var name = mpl.toolbar_items[toolbar_ind][0];\n",
       "        var tooltip = mpl.toolbar_items[toolbar_ind][1];\n",
       "        var image = mpl.toolbar_items[toolbar_ind][2];\n",
       "        var method_name = mpl.toolbar_items[toolbar_ind][3];\n",
       "\n",
       "        if (!name) {\n",
       "            /* Instead of a spacer, we start a new button group. */\n",
       "            if (buttonGroup.hasChildNodes()) {\n",
       "                toolbar.appendChild(buttonGroup);\n",
       "            }\n",
       "            buttonGroup = document.createElement('div');\n",
       "            buttonGroup.classList = 'mpl-button-group';\n",
       "            continue;\n",
       "        }\n",
       "\n",
       "        var button = (fig.buttons[name] = document.createElement('button'));\n",
       "        button.classList = 'mpl-widget';\n",
       "        button.setAttribute('role', 'button');\n",
       "        button.setAttribute('aria-disabled', 'false');\n",
       "        button.addEventListener('click', on_click_closure(method_name));\n",
       "        button.addEventListener('mouseover', on_mouseover_closure(tooltip));\n",
       "\n",
       "        var icon_img = document.createElement('img');\n",
       "        icon_img.src = '_images/' + image + '.png';\n",
       "        icon_img.srcset = '_images/' + image + '_large.png 2x';\n",
       "        icon_img.alt = tooltip;\n",
       "        button.appendChild(icon_img);\n",
       "\n",
       "        buttonGroup.appendChild(button);\n",
       "    }\n",
       "\n",
       "    if (buttonGroup.hasChildNodes()) {\n",
       "        toolbar.appendChild(buttonGroup);\n",
       "    }\n",
       "\n",
       "    var fmt_picker = document.createElement('select');\n",
       "    fmt_picker.classList = 'mpl-widget';\n",
       "    toolbar.appendChild(fmt_picker);\n",
       "    this.format_dropdown = fmt_picker;\n",
       "\n",
       "    for (var ind in mpl.extensions) {\n",
       "        var fmt = mpl.extensions[ind];\n",
       "        var option = document.createElement('option');\n",
       "        option.selected = fmt === mpl.default_extension;\n",
       "        option.innerHTML = fmt;\n",
       "        fmt_picker.appendChild(option);\n",
       "    }\n",
       "\n",
       "    var status_bar = document.createElement('span');\n",
       "    status_bar.classList = 'mpl-message';\n",
       "    toolbar.appendChild(status_bar);\n",
       "    this.message = status_bar;\n",
       "};\n",
       "\n",
       "mpl.figure.prototype.request_resize = function (x_pixels, y_pixels) {\n",
       "    // Request matplotlib to resize the figure. Matplotlib will then trigger a resize in the client,\n",
       "    // which will in turn request a refresh of the image.\n",
       "    this.send_message('resize', { width: x_pixels, height: y_pixels });\n",
       "};\n",
       "\n",
       "mpl.figure.prototype.send_message = function (type, properties) {\n",
       "    properties['type'] = type;\n",
       "    properties['figure_id'] = this.id;\n",
       "    this.ws.send(JSON.stringify(properties));\n",
       "};\n",
       "\n",
       "mpl.figure.prototype.send_draw_message = function () {\n",
       "    if (!this.waiting) {\n",
       "        this.waiting = true;\n",
       "        this.ws.send(JSON.stringify({ type: 'draw', figure_id: this.id }));\n",
       "    }\n",
       "};\n",
       "\n",
       "mpl.figure.prototype.handle_save = function (fig, _msg) {\n",
       "    var format_dropdown = fig.format_dropdown;\n",
       "    var format = format_dropdown.options[format_dropdown.selectedIndex].value;\n",
       "    fig.ondownload(fig, format);\n",
       "};\n",
       "\n",
       "mpl.figure.prototype.handle_resize = function (fig, msg) {\n",
       "    var size = msg['size'];\n",
       "    if (size[0] !== fig.canvas.width || size[1] !== fig.canvas.height) {\n",
       "        fig._resize_canvas(size[0], size[1], msg['forward']);\n",
       "        fig.send_message('refresh', {});\n",
       "    }\n",
       "};\n",
       "\n",
       "mpl.figure.prototype.handle_rubberband = function (fig, msg) {\n",
       "    var x0 = msg['x0'] / mpl.ratio;\n",
       "    var y0 = (fig.canvas.height - msg['y0']) / mpl.ratio;\n",
       "    var x1 = msg['x1'] / mpl.ratio;\n",
       "    var y1 = (fig.canvas.height - msg['y1']) / mpl.ratio;\n",
       "    x0 = Math.floor(x0) + 0.5;\n",
       "    y0 = Math.floor(y0) + 0.5;\n",
       "    x1 = Math.floor(x1) + 0.5;\n",
       "    y1 = Math.floor(y1) + 0.5;\n",
       "    var min_x = Math.min(x0, x1);\n",
       "    var min_y = Math.min(y0, y1);\n",
       "    var width = Math.abs(x1 - x0);\n",
       "    var height = Math.abs(y1 - y0);\n",
       "\n",
       "    fig.rubberband_context.clearRect(\n",
       "        0,\n",
       "        0,\n",
       "        fig.canvas.width / mpl.ratio,\n",
       "        fig.canvas.height / mpl.ratio\n",
       "    );\n",
       "\n",
       "    fig.rubberband_context.strokeRect(min_x, min_y, width, height);\n",
       "};\n",
       "\n",
       "mpl.figure.prototype.handle_figure_label = function (fig, msg) {\n",
       "    // Updates the figure title.\n",
       "    fig.header.textContent = msg['label'];\n",
       "};\n",
       "\n",
       "mpl.figure.prototype.handle_cursor = function (fig, msg) {\n",
       "    var cursor = msg['cursor'];\n",
       "    switch (cursor) {\n",
       "        case 0:\n",
       "            cursor = 'pointer';\n",
       "            break;\n",
       "        case 1:\n",
       "            cursor = 'default';\n",
       "            break;\n",
       "        case 2:\n",
       "            cursor = 'crosshair';\n",
       "            break;\n",
       "        case 3:\n",
       "            cursor = 'move';\n",
       "            break;\n",
       "    }\n",
       "    fig.rubberband_canvas.style.cursor = cursor;\n",
       "};\n",
       "\n",
       "mpl.figure.prototype.handle_message = function (fig, msg) {\n",
       "    fig.message.textContent = msg['message'];\n",
       "};\n",
       "\n",
       "mpl.figure.prototype.handle_draw = function (fig, _msg) {\n",
       "    // Request the server to send over a new figure.\n",
       "    fig.send_draw_message();\n",
       "};\n",
       "\n",
       "mpl.figure.prototype.handle_image_mode = function (fig, msg) {\n",
       "    fig.image_mode = msg['mode'];\n",
       "};\n",
       "\n",
       "mpl.figure.prototype.handle_history_buttons = function (fig, msg) {\n",
       "    for (var key in msg) {\n",
       "        if (!(key in fig.buttons)) {\n",
       "            continue;\n",
       "        }\n",
       "        fig.buttons[key].disabled = !msg[key];\n",
       "        fig.buttons[key].setAttribute('aria-disabled', !msg[key]);\n",
       "    }\n",
       "};\n",
       "\n",
       "mpl.figure.prototype.handle_navigate_mode = function (fig, msg) {\n",
       "    if (msg['mode'] === 'PAN') {\n",
       "        fig.buttons['Pan'].classList.add('active');\n",
       "        fig.buttons['Zoom'].classList.remove('active');\n",
       "    } else if (msg['mode'] === 'ZOOM') {\n",
       "        fig.buttons['Pan'].classList.remove('active');\n",
       "        fig.buttons['Zoom'].classList.add('active');\n",
       "    } else {\n",
       "        fig.buttons['Pan'].classList.remove('active');\n",
       "        fig.buttons['Zoom'].classList.remove('active');\n",
       "    }\n",
       "};\n",
       "\n",
       "mpl.figure.prototype.updated_canvas_event = function () {\n",
       "    // Called whenever the canvas gets updated.\n",
       "    this.send_message('ack', {});\n",
       "};\n",
       "\n",
       "// A function to construct a web socket function for onmessage handling.\n",
       "// Called in the figure constructor.\n",
       "mpl.figure.prototype._make_on_message_function = function (fig) {\n",
       "    return function socket_on_message(evt) {\n",
       "        if (evt.data instanceof Blob) {\n",
       "            /* FIXME: We get \"Resource interpreted as Image but\n",
       "             * transferred with MIME type text/plain:\" errors on\n",
       "             * Chrome.  But how to set the MIME type?  It doesn't seem\n",
       "             * to be part of the websocket stream */\n",
       "            evt.data.type = 'image/png';\n",
       "\n",
       "            /* Free the memory for the previous frames */\n",
       "            if (fig.imageObj.src) {\n",
       "                (window.URL || window.webkitURL).revokeObjectURL(\n",
       "                    fig.imageObj.src\n",
       "                );\n",
       "            }\n",
       "\n",
       "            fig.imageObj.src = (window.URL || window.webkitURL).createObjectURL(\n",
       "                evt.data\n",
       "            );\n",
       "            fig.updated_canvas_event();\n",
       "            fig.waiting = false;\n",
       "            return;\n",
       "        } else if (\n",
       "            typeof evt.data === 'string' &&\n",
       "            evt.data.slice(0, 21) === 'data:image/png;base64'\n",
       "        ) {\n",
       "            fig.imageObj.src = evt.data;\n",
       "            fig.updated_canvas_event();\n",
       "            fig.waiting = false;\n",
       "            return;\n",
       "        }\n",
       "\n",
       "        var msg = JSON.parse(evt.data);\n",
       "        var msg_type = msg['type'];\n",
       "\n",
       "        // Call the  \"handle_{type}\" callback, which takes\n",
       "        // the figure and JSON message as its only arguments.\n",
       "        try {\n",
       "            var callback = fig['handle_' + msg_type];\n",
       "        } catch (e) {\n",
       "            console.log(\n",
       "                \"No handler for the '\" + msg_type + \"' message type: \",\n",
       "                msg\n",
       "            );\n",
       "            return;\n",
       "        }\n",
       "\n",
       "        if (callback) {\n",
       "            try {\n",
       "                // console.log(\"Handling '\" + msg_type + \"' message: \", msg);\n",
       "                callback(fig, msg);\n",
       "            } catch (e) {\n",
       "                console.log(\n",
       "                    \"Exception inside the 'handler_\" + msg_type + \"' callback:\",\n",
       "                    e,\n",
       "                    e.stack,\n",
       "                    msg\n",
       "                );\n",
       "            }\n",
       "        }\n",
       "    };\n",
       "};\n",
       "\n",
       "// from http://stackoverflow.com/questions/1114465/getting-mouse-location-in-canvas\n",
       "mpl.findpos = function (e) {\n",
       "    //this section is from http://www.quirksmode.org/js/events_properties.html\n",
       "    var targ;\n",
       "    if (!e) {\n",
       "        e = window.event;\n",
       "    }\n",
       "    if (e.target) {\n",
       "        targ = e.target;\n",
       "    } else if (e.srcElement) {\n",
       "        targ = e.srcElement;\n",
       "    }\n",
       "    if (targ.nodeType === 3) {\n",
       "        // defeat Safari bug\n",
       "        targ = targ.parentNode;\n",
       "    }\n",
       "\n",
       "    // pageX,Y are the mouse positions relative to the document\n",
       "    var boundingRect = targ.getBoundingClientRect();\n",
       "    var x = e.pageX - (boundingRect.left + document.body.scrollLeft);\n",
       "    var y = e.pageY - (boundingRect.top + document.body.scrollTop);\n",
       "\n",
       "    return { x: x, y: y };\n",
       "};\n",
       "\n",
       "/*\n",
       " * return a copy of an object with only non-object keys\n",
       " * we need this to avoid circular references\n",
       " * http://stackoverflow.com/a/24161582/3208463\n",
       " */\n",
       "function simpleKeys(original) {\n",
       "    return Object.keys(original).reduce(function (obj, key) {\n",
       "        if (typeof original[key] !== 'object') {\n",
       "            obj[key] = original[key];\n",
       "        }\n",
       "        return obj;\n",
       "    }, {});\n",
       "}\n",
       "\n",
       "mpl.figure.prototype.mouse_event = function (event, name) {\n",
       "    var canvas_pos = mpl.findpos(event);\n",
       "\n",
       "    if (name === 'button_press') {\n",
       "        this.canvas.focus();\n",
       "        this.canvas_div.focus();\n",
       "    }\n",
       "\n",
       "    var x = canvas_pos.x * mpl.ratio;\n",
       "    var y = canvas_pos.y * mpl.ratio;\n",
       "\n",
       "    this.send_message(name, {\n",
       "        x: x,\n",
       "        y: y,\n",
       "        button: event.button,\n",
       "        step: event.step,\n",
       "        guiEvent: simpleKeys(event),\n",
       "    });\n",
       "\n",
       "    /* This prevents the web browser from automatically changing to\n",
       "     * the text insertion cursor when the button is pressed.  We want\n",
       "     * to control all of the cursor setting manually through the\n",
       "     * 'cursor' event from matplotlib */\n",
       "    event.preventDefault();\n",
       "    return false;\n",
       "};\n",
       "\n",
       "mpl.figure.prototype._key_event_extra = function (_event, _name) {\n",
       "    // Handle any extra behaviour associated with a key event\n",
       "};\n",
       "\n",
       "mpl.figure.prototype.key_event = function (event, name) {\n",
       "    // Prevent repeat events\n",
       "    if (name === 'key_press') {\n",
       "        if (event.which === this._key) {\n",
       "            return;\n",
       "        } else {\n",
       "            this._key = event.which;\n",
       "        }\n",
       "    }\n",
       "    if (name === 'key_release') {\n",
       "        this._key = null;\n",
       "    }\n",
       "\n",
       "    var value = '';\n",
       "    if (event.ctrlKey && event.which !== 17) {\n",
       "        value += 'ctrl+';\n",
       "    }\n",
       "    if (event.altKey && event.which !== 18) {\n",
       "        value += 'alt+';\n",
       "    }\n",
       "    if (event.shiftKey && event.which !== 16) {\n",
       "        value += 'shift+';\n",
       "    }\n",
       "\n",
       "    value += 'k';\n",
       "    value += event.which.toString();\n",
       "\n",
       "    this._key_event_extra(event, name);\n",
       "\n",
       "    this.send_message(name, { key: value, guiEvent: simpleKeys(event) });\n",
       "    return false;\n",
       "};\n",
       "\n",
       "mpl.figure.prototype.toolbar_button_onclick = function (name) {\n",
       "    if (name === 'download') {\n",
       "        this.handle_save(this, null);\n",
       "    } else {\n",
       "        this.send_message('toolbar_button', { name: name });\n",
       "    }\n",
       "};\n",
       "\n",
       "mpl.figure.prototype.toolbar_button_onmouseover = function (tooltip) {\n",
       "    this.message.textContent = tooltip;\n",
       "};\n",
       "mpl.toolbar_items = [[\"Home\", \"Reset original view\", \"fa fa-home icon-home\", \"home\"], [\"Back\", \"Back to previous view\", \"fa fa-arrow-left icon-arrow-left\", \"back\"], [\"Forward\", \"Forward to next view\", \"fa fa-arrow-right icon-arrow-right\", \"forward\"], [\"\", \"\", \"\", \"\"], [\"Pan\", \"Left button pans, Right button zooms\\nx/y fixes axis, CTRL fixes aspect\", \"fa fa-arrows icon-move\", \"pan\"], [\"Zoom\", \"Zoom to rectangle\\nx/y fixes axis, CTRL fixes aspect\", \"fa fa-square-o icon-check-empty\", \"zoom\"], [\"\", \"\", \"\", \"\"], [\"Download\", \"Download plot\", \"fa fa-floppy-o icon-save\", \"download\"]];\n",
       "\n",
       "mpl.extensions = [\"eps\", \"jpeg\", \"pdf\", \"png\", \"ps\", \"raw\", \"svg\", \"tif\"];\n",
       "\n",
       "mpl.default_extension = \"png\";/* global mpl */\n",
       "\n",
       "var comm_websocket_adapter = function (comm) {\n",
       "    // Create a \"websocket\"-like object which calls the given IPython comm\n",
       "    // object with the appropriate methods. Currently this is a non binary\n",
       "    // socket, so there is still some room for performance tuning.\n",
       "    var ws = {};\n",
       "\n",
       "    ws.close = function () {\n",
       "        comm.close();\n",
       "    };\n",
       "    ws.send = function (m) {\n",
       "        //console.log('sending', m);\n",
       "        comm.send(m);\n",
       "    };\n",
       "    // Register the callback with on_msg.\n",
       "    comm.on_msg(function (msg) {\n",
       "        //console.log('receiving', msg['content']['data'], msg);\n",
       "        // Pass the mpl event to the overridden (by mpl) onmessage function.\n",
       "        ws.onmessage(msg['content']['data']);\n",
       "    });\n",
       "    return ws;\n",
       "};\n",
       "\n",
       "mpl.mpl_figure_comm = function (comm, msg) {\n",
       "    // This is the function which gets called when the mpl process\n",
       "    // starts-up an IPython Comm through the \"matplotlib\" channel.\n",
       "\n",
       "    var id = msg.content.data.id;\n",
       "    // Get hold of the div created by the display call when the Comm\n",
       "    // socket was opened in Python.\n",
       "    var element = document.getElementById(id);\n",
       "    var ws_proxy = comm_websocket_adapter(comm);\n",
       "\n",
       "    function ondownload(figure, _format) {\n",
       "        window.open(figure.canvas.toDataURL());\n",
       "    }\n",
       "\n",
       "    var fig = new mpl.figure(id, ws_proxy, ondownload, element);\n",
       "\n",
       "    // Call onopen now - mpl needs it, as it is assuming we've passed it a real\n",
       "    // web socket which is closed, not our websocket->open comm proxy.\n",
       "    ws_proxy.onopen();\n",
       "\n",
       "    fig.parent_element = element;\n",
       "    fig.cell_info = mpl.find_output_cell(\"<div id='\" + id + \"'></div>\");\n",
       "    if (!fig.cell_info) {\n",
       "        console.error('Failed to find cell for figure', id, fig);\n",
       "        return;\n",
       "    }\n",
       "};\n",
       "\n",
       "mpl.figure.prototype.handle_close = function (fig, msg) {\n",
       "    var width = fig.canvas.width / mpl.ratio;\n",
       "    fig.root.removeEventListener('remove', this._remove_fig_handler);\n",
       "\n",
       "    // Update the output cell to use the data from the current canvas.\n",
       "    fig.push_to_output();\n",
       "    var dataURL = fig.canvas.toDataURL();\n",
       "    // Re-enable the keyboard manager in IPython - without this line, in FF,\n",
       "    // the notebook keyboard shortcuts fail.\n",
       "    IPython.keyboard_manager.enable();\n",
       "    fig.parent_element.innerHTML =\n",
       "        '<img src=\"' + dataURL + '\" width=\"' + width + '\">';\n",
       "    fig.close_ws(fig, msg);\n",
       "};\n",
       "\n",
       "mpl.figure.prototype.close_ws = function (fig, msg) {\n",
       "    fig.send_message('closing', msg);\n",
       "    // fig.ws.close()\n",
       "};\n",
       "\n",
       "mpl.figure.prototype.push_to_output = function (_remove_interactive) {\n",
       "    // Turn the data on the canvas into data in the output cell.\n",
       "    var width = this.canvas.width / mpl.ratio;\n",
       "    var dataURL = this.canvas.toDataURL();\n",
       "    this.cell_info[1]['text/html'] =\n",
       "        '<img src=\"' + dataURL + '\" width=\"' + width + '\">';\n",
       "};\n",
       "\n",
       "mpl.figure.prototype.updated_canvas_event = function () {\n",
       "    // Tell IPython that the notebook contents must change.\n",
       "    IPython.notebook.set_dirty(true);\n",
       "    this.send_message('ack', {});\n",
       "    var fig = this;\n",
       "    // Wait a second, then push the new image to the DOM so\n",
       "    // that it is saved nicely (might be nice to debounce this).\n",
       "    setTimeout(function () {\n",
       "        fig.push_to_output();\n",
       "    }, 1000);\n",
       "};\n",
       "\n",
       "mpl.figure.prototype._init_toolbar = function () {\n",
       "    var fig = this;\n",
       "\n",
       "    var toolbar = document.createElement('div');\n",
       "    toolbar.classList = 'btn-toolbar';\n",
       "    this.root.appendChild(toolbar);\n",
       "\n",
       "    function on_click_closure(name) {\n",
       "        return function (_event) {\n",
       "            return fig.toolbar_button_onclick(name);\n",
       "        };\n",
       "    }\n",
       "\n",
       "    function on_mouseover_closure(tooltip) {\n",
       "        return function (event) {\n",
       "            if (!event.currentTarget.disabled) {\n",
       "                return fig.toolbar_button_onmouseover(tooltip);\n",
       "            }\n",
       "        };\n",
       "    }\n",
       "\n",
       "    fig.buttons = {};\n",
       "    var buttonGroup = document.createElement('div');\n",
       "    buttonGroup.classList = 'btn-group';\n",
       "    var button;\n",
       "    for (var toolbar_ind in mpl.toolbar_items) {\n",
       "        var name = mpl.toolbar_items[toolbar_ind][0];\n",
       "        var tooltip = mpl.toolbar_items[toolbar_ind][1];\n",
       "        var image = mpl.toolbar_items[toolbar_ind][2];\n",
       "        var method_name = mpl.toolbar_items[toolbar_ind][3];\n",
       "\n",
       "        if (!name) {\n",
       "            /* Instead of a spacer, we start a new button group. */\n",
       "            if (buttonGroup.hasChildNodes()) {\n",
       "                toolbar.appendChild(buttonGroup);\n",
       "            }\n",
       "            buttonGroup = document.createElement('div');\n",
       "            buttonGroup.classList = 'btn-group';\n",
       "            continue;\n",
       "        }\n",
       "\n",
       "        button = fig.buttons[name] = document.createElement('button');\n",
       "        button.classList = 'btn btn-default';\n",
       "        button.href = '#';\n",
       "        button.title = name;\n",
       "        button.innerHTML = '<i class=\"fa ' + image + ' fa-lg\"></i>';\n",
       "        button.addEventListener('click', on_click_closure(method_name));\n",
       "        button.addEventListener('mouseover', on_mouseover_closure(tooltip));\n",
       "        buttonGroup.appendChild(button);\n",
       "    }\n",
       "\n",
       "    if (buttonGroup.hasChildNodes()) {\n",
       "        toolbar.appendChild(buttonGroup);\n",
       "    }\n",
       "\n",
       "    // Add the status bar.\n",
       "    var status_bar = document.createElement('span');\n",
       "    status_bar.classList = 'mpl-message pull-right';\n",
       "    toolbar.appendChild(status_bar);\n",
       "    this.message = status_bar;\n",
       "\n",
       "    // Add the close button to the window.\n",
       "    var buttongrp = document.createElement('div');\n",
       "    buttongrp.classList = 'btn-group inline pull-right';\n",
       "    button = document.createElement('button');\n",
       "    button.classList = 'btn btn-mini btn-primary';\n",
       "    button.href = '#';\n",
       "    button.title = 'Stop Interaction';\n",
       "    button.innerHTML = '<i class=\"fa fa-power-off icon-remove icon-large\"></i>';\n",
       "    button.addEventListener('click', function (_evt) {\n",
       "        fig.handle_close(fig, {});\n",
       "    });\n",
       "    button.addEventListener(\n",
       "        'mouseover',\n",
       "        on_mouseover_closure('Stop Interaction')\n",
       "    );\n",
       "    buttongrp.appendChild(button);\n",
       "    var titlebar = this.root.querySelector('.ui-dialog-titlebar');\n",
       "    titlebar.insertBefore(buttongrp, titlebar.firstChild);\n",
       "};\n",
       "\n",
       "mpl.figure.prototype._remove_fig_handler = function () {\n",
       "    this.close_ws(this, {});\n",
       "};\n",
       "\n",
       "mpl.figure.prototype._root_extra_style = function (el) {\n",
       "    el.style.boxSizing = 'content-box'; // override notebook setting of border-box.\n",
       "    el.addEventListener('remove', this._remove_fig_handler);\n",
       "};\n",
       "\n",
       "mpl.figure.prototype._canvas_extra_style = function (el) {\n",
       "    // this is important to make the div 'focusable\n",
       "    el.setAttribute('tabindex', 0);\n",
       "    // reach out to IPython and tell the keyboard manager to turn it's self\n",
       "    // off when our div gets focus\n",
       "\n",
       "    // location in version 3\n",
       "    if (IPython.notebook.keyboard_manager) {\n",
       "        IPython.notebook.keyboard_manager.register_events(el);\n",
       "    } else {\n",
       "        // location in version 2\n",
       "        IPython.keyboard_manager.register_events(el);\n",
       "    }\n",
       "};\n",
       "\n",
       "mpl.figure.prototype._key_event_extra = function (event, _name) {\n",
       "    var manager = IPython.notebook.keyboard_manager;\n",
       "    if (!manager) {\n",
       "        manager = IPython.keyboard_manager;\n",
       "    }\n",
       "\n",
       "    // Check for shift+enter\n",
       "    if (event.shiftKey && event.which === 13) {\n",
       "        this.canvas_div.blur();\n",
       "        // select the cell after this one\n",
       "        var index = IPython.notebook.find_cell_index(this.cell_info[0]);\n",
       "        IPython.notebook.select(index + 1);\n",
       "    }\n",
       "};\n",
       "\n",
       "mpl.figure.prototype.handle_save = function (fig, _msg) {\n",
       "    fig.ondownload(fig, null);\n",
       "};\n",
       "\n",
       "mpl.find_output_cell = function (html_output) {\n",
       "    // Return the cell and output element which can be found *uniquely* in the notebook.\n",
       "    // Note - this is a bit hacky, but it is done because the \"notebook_saving.Notebook\"\n",
       "    // IPython event is triggered only after the cells have been serialised, which for\n",
       "    // our purposes (turning an active figure into a static one), is too late.\n",
       "    var cells = IPython.notebook.get_cells();\n",
       "    var ncells = cells.length;\n",
       "    for (var i = 0; i < ncells; i++) {\n",
       "        var cell = cells[i];\n",
       "        if (cell.cell_type === 'code') {\n",
       "            for (var j = 0; j < cell.output_area.outputs.length; j++) {\n",
       "                var data = cell.output_area.outputs[j];\n",
       "                if (data.data) {\n",
       "                    // IPython >= 3 moved mimebundle to data attribute of output\n",
       "                    data = data.data;\n",
       "                }\n",
       "                if (data['text/html'] === html_output) {\n",
       "                    return [cell, data, j];\n",
       "                }\n",
       "            }\n",
       "        }\n",
       "    }\n",
       "};\n",
       "\n",
       "// Register the function which deals with the matplotlib target/channel.\n",
       "// The kernel may be null if the page has been refreshed.\n",
       "if (IPython.notebook.kernel !== null) {\n",
       "    IPython.notebook.kernel.comm_manager.register_target(\n",
       "        'matplotlib',\n",
       "        mpl.mpl_figure_comm\n",
       "    );\n",
       "}\n"
      ],
      "text/plain": [
       "<IPython.core.display.Javascript object>"
      ]
     },
     "metadata": {},
     "output_type": "display_data"
    },
    {
     "data": {
      "text/html": [
       "<img src=\"data:image/png;base64,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\" width=\"640\">"
      ],
      "text/plain": [
       "<IPython.core.display.HTML object>"
      ]
     },
     "metadata": {},
     "output_type": "display_data"
    }
   ],
   "source": [
    "%matplotlib notebook\n",
    "\n",
    "fig, ax = plt.subplots()\n",
    "\n",
    "dot, = ax.plot([x0[0]], [x0[1]], 'ro')\n",
    "ax.set_xlim(xlim)\n",
    "ax.set_ylim(ylim)\n",
    "ax.set_xlabel('x [m]')\n",
    "ax.set_ylabel('y [m]')\n",
    "\n",
    "def animate(time_step):\n",
    "    dot.set_data(trajectory[time_step, 0], trajectory[time_step, 1])\n",
    "    return dot,\n",
    "\n",
    "anim = FuncAnimation(fig, animate, frames=len(time_steps), interval=25, repeat=True, blit=True)\n",
    "plt.show()"
   ]
  },
  {
   "cell_type": "markdown",
   "id": "5a16db82",
   "metadata": {},
   "source": [
    "Or, just plotting all time steps:"
   ]
  },
  {
   "cell_type": "code",
   "execution_count": 8,
   "id": "c3a6e9ba",
   "metadata": {},
   "outputs": [
    {
     "data": {
      "image/png": "[encoded data removed]",
      "text/plain": [
       "<Figure size 432x288 with 1 Axes>"
      ]
     },
     "metadata": {
      "needs_background": "light"
     },
     "output_type": "display_data"
    }
   ],
   "source": [
    "%matplotlib inline\n",
    "plt.plot(trajectory[:, 0], trajectory[:, 1])\n",
    "plt.xlabel('x [m]')\n",
    "plt.ylabel('y [m]')\n",
    "plt.show()"
   ]
  },
  {
   "cell_type": "markdown",
   "id": "41aff399",
   "metadata": {},
   "source": [
    "We now have a physics simulator (albeit a simple one)! \n",
    "\n",
    "### Terminology: \n",
    "In the ML context, we call the above simulator our **forward model**, namely: we start from some set of conditions, and we use the forward model to get some result.\n",
    "\n",
    "### Today: \n",
    "Imagine we know the forward model, and we have some dataset. In a real context, this could correspond to experimental data, where the forward model is the physics simulation. How can we use the forward model to gain insight into the experimental data? More particularly, can we use the forward model to extract physical parameters from the real dataset? This is where differentiable simulation can be useful! Notable examples: detector calibration, physics reconstruction.\n",
    "\n",
    "### In our case:\n",
    "Suppose we're given some kinematic trajectory, but we don't know the initial velocity? Or the acceleration? Or the initial position? A differentiable kinematics simulator provides an easy tool to extract these parameters. Let's see how this works."
   ]
  },
  {
   "cell_type": "markdown",
   "id": "da097769",
   "metadata": {},
   "source": [
    "## Step 1: Differentiable forward model\n",
    "\n",
    "We'll use PyTorch here, but the same concepts apply to any framework"
   ]
  },
  {
   "cell_type": "code",
   "execution_count": 9,
   "id": "612a0c72",
   "metadata": {},
   "outputs": [],
   "source": [
    "import torch"
   ]
  },
  {
   "cell_type": "markdown",
   "id": "b55e485a",
   "metadata": {},
   "source": [
    "### Convenience step: Vectorization\n",
    "In principle, for loops are ok! In practice, it's often more convenient to repackage.\n",
    "\n",
    "Our data: single 2D kinematic trajectory with measurements at `n_steps` time steps $\\implies$ the output of the simulation should have shape `(n_steps, 2)`."
   ]
  },
  {
   "cell_type": "code",
   "execution_count": 10,
   "id": "0c39dabe",
   "metadata": {},
   "outputs": [
    {
     "data": {
      "text/plain": [
       "(100, 2)"
      ]
     },
     "execution_count": 10,
     "metadata": {},
     "output_type": "execute_result"
    }
   ],
   "source": [
    "trajectory.shape"
   ]
  },
  {
   "cell_type": "markdown",
   "id": "12d7353e",
   "metadata": {},
   "source": [
    "Repeating here for clarity, but: position function can stay the same!"
   ]
  },
  {
   "cell_type": "code",
   "execution_count": 11,
   "id": "54826b4e",
   "metadata": {},
   "outputs": [],
   "source": [
    "def position(t, a, x0, v0):\n",
    "    return x0 + v0*t + 0.5*a*t**2"
   ]
  },
  {
   "cell_type": "markdown",
   "id": "69b596fa",
   "metadata": {},
   "source": [
    "However, we need to adjust the shapes to work.\n",
    "\n",
    "Think of time as the zeroth dimension, spatial coordinates as the first dimension. Then, if we define our parameters as:"
   ]
  },
  {
   "cell_type": "code",
   "execution_count": 12,
   "id": "dfda7059",
   "metadata": {},
   "outputs": [],
   "source": [
    "#Acceleration due to gravity (-9.8 m/s^2 in negative y direction)\n",
    "a = torch.tensor([0, -9.8])[None, :]\n",
    "\n",
    "#Initial velocity for fun (m / s)\n",
    "v0 = torch.tensor([5, 10])[None, :]\n",
    "\n",
    "#Start at (0,10) [m]\n",
    "x0 = torch.tensor([0,10])[None, :]"
   ]
  },
  {
   "cell_type": "code",
   "execution_count": 13,
   "id": "7847d062",
   "metadata": {},
   "outputs": [
    {
     "data": {
      "text/plain": [
       "torch.Size([1, 2])"
      ]
     },
     "execution_count": 13,
     "metadata": {},
     "output_type": "execute_result"
    }
   ],
   "source": [
    "a.shape"
   ]
  },
  {
   "cell_type": "markdown",
   "id": "ef25a459",
   "metadata": {},
   "source": [
    "and our timesteps as:"
   ]
  },
  {
   "cell_type": "code",
   "execution_count": 14,
   "id": "6b5e6b35",
   "metadata": {},
   "outputs": [],
   "source": [
    "#Run the simulation: 100 timesteps\n",
    "time_steps = torch.linspace(0, 5, 100)[:, None]"
   ]
  },
  {
   "cell_type": "code",
   "execution_count": 15,
   "id": "ea60cc08",
   "metadata": {
    "scrolled": true
   },
   "outputs": [
    {
     "data": {
      "text/plain": [
       "torch.Size([100, 1])"
      ]
     },
     "execution_count": 15,
     "metadata": {},
     "output_type": "execute_result"
    }
   ],
   "source": [
    "time_steps.shape"
   ]
  },
  {
   "cell_type": "markdown",
   "id": "c92143c9",
   "metadata": {},
   "source": [
    "Broadcasting will then give us the desired shape"
   ]
  },
  {
   "cell_type": "code",
   "execution_count": 16,
   "id": "8a0e42d2",
   "metadata": {},
   "outputs": [],
   "source": [
    "trajectory = position(time_steps, a, x0, v0)"
   ]
  },
  {
   "cell_type": "code",
   "execution_count": 17,
   "id": "a21b6527",
   "metadata": {},
   "outputs": [
    {
     "name": "stdout",
     "output_type": "stream",
     "text": [
      "torch.Size([100, 2])\n"
     ]
    }
   ],
   "source": [
    "print(trajectory.shape)"
   ]
  },
  {
   "cell_type": "markdown",
   "id": "8643652e",
   "metadata": {},
   "source": [
    "and we haven't changed any values, so the output should be identical"
   ]
  },
  {
   "cell_type": "code",
   "execution_count": 18,
   "id": "c775b39d",
   "metadata": {},
   "outputs": [
    {
     "data": {
      "image/png": "[encoded data removed]",
      "text/plain": [
       "<Figure size 432x288 with 1 Axes>"
      ]
     },
     "metadata": {
      "needs_background": "light"
     },
     "output_type": "display_data"
    }
   ],
   "source": [
    "%matplotlib inline\n",
    "plt.plot(trajectory[:, 0], trajectory[:, 1])\n",
    "plt.xlabel('x [m]')\n",
    "plt.ylabel('y [m]')\n",
    "plt.show()"
   ]
  },
  {
   "cell_type": "markdown",
   "id": "b99acc61",
   "metadata": {},
   "source": [
    "### Summary: \n",
    "\n",
    "Things are easy for us today! Our forward model is a single function, `position`, which takes in measurement times, acceleration, initial position, and initial velocity, and returns a trajectory ($x$ and $y$ positions at each time step).\n",
    "\n",
    "Note that this is trivially differentiable -- we only use addition and multiplication! A more complicated simulation might require more tricks, but let's leave that for another day"
   ]
  },
  {
   "cell_type": "markdown",
   "id": "5a5b4daa",
   "metadata": {},
   "source": [
    "## Step 2: \"Take\" some data\n",
    "\n",
    "For today, we'll be using a single trajectory with some given parameter values as our target. This is the most perfect case -- our forward model is exact and we know the true parameter values. Real life is more complicated, but everybody starts somewhere!\n",
    "\n",
    "Let's use the same trajectory as above, but recording for posterity:"
   ]
  },
  {
   "cell_type": "code",
   "execution_count": 19,
   "id": "6377c28a",
   "metadata": {},
   "outputs": [],
   "source": [
    "#Acceleration due to gravity (-9.8 m/s^2 in negative y direction)\n",
    "a_target = torch.tensor([0, -9.8])[None, :]\n",
    "\n",
    "#Initial velocity for fun (m / s)\n",
    "v0_target = torch.tensor([5, 10])[None, :]\n",
    "\n",
    "#Start at (0,10) [m]\n",
    "x0_target = torch.tensor([0,10])[None, :]\n",
    "\n",
    "#Data taken at 100 known timesteps from 0 to 5 s\n",
    "time_steps = torch.linspace(0, 5, 100)[:, None]"
   ]
  },
  {
   "cell_type": "markdown",
   "id": "99f348ac",
   "metadata": {},
   "source": [
    "Target is the corresponding trajectory"
   ]
  },
  {
   "cell_type": "code",
   "execution_count": 20,
   "id": "17d73dfe",
   "metadata": {},
   "outputs": [],
   "source": [
    "trajectory_target = position(time_steps, a_target, x0_target, v0_target)"
   ]
  },
  {
   "cell_type": "markdown",
   "id": "f156ade4",
   "metadata": {},
   "source": [
    "## Step 3: Set up parameter gradients"
   ]
  },
  {
   "cell_type": "markdown",
   "id": "a18405d9",
   "metadata": {},
   "source": [
    "To start, let's try to solve for the initial velocity. We need to set up a new forward model with an initial guess. We can then iterate over the new model parameters.\n",
    "\n",
    "\n",
    "We assume only v0 changes for now, so everything else is the same"
   ]
  },
  {
   "cell_type": "code",
   "execution_count": 21,
   "id": "9269d90e",
   "metadata": {},
   "outputs": [],
   "source": [
    "#Acceleration due to gravity (-9.8 m/s^2 in negative y direction)\n",
    "a_guess = torch.tensor([0, -9.8])[None, :]\n",
    "\n",
    "#Start at (0,10) [m]\n",
    "x0_guess = torch.tensor([0.,10.])[None, :]\n",
    "\n",
    "#Run the simulation: 100 timesteps\n",
    "time_steps = torch.linspace(0, 5, 100)[:, None]"
   ]
  },
  {
   "cell_type": "markdown",
   "id": "5a029c29",
   "metadata": {},
   "source": [
    "And we don't know v0, so let's initialize to (0, 0)"
   ]
  },
  {
   "cell_type": "code",
   "execution_count": 22,
   "id": "60624e06",
   "metadata": {},
   "outputs": [],
   "source": [
    "#Initial velocity for fun (m / s)\n",
    "v0_guess = torch.tensor([0., 0.])[None, :]"
   ]
  },
  {
   "cell_type": "markdown",
   "id": "e5a544ea",
   "metadata": {},
   "source": [
    "Now we need a training loop. There are two important pieces:\n",
    "\n",
    "1. A **loss function**: in this case the easiest is just the Mean Squared Error between the output of the \"guess\" forward model and the target trajectory.\n",
    "\n",
    "2. An **optimizer**: how do we change parameters to try to fit the trajectory? Let's start with a simple gradient descent."
   ]
  },
  {
   "cell_type": "markdown",
   "id": "acad774a",
   "metadata": {},
   "source": [
    "Recall that gradient descent for some parameter (or vector of parameters) $\\theta$ at training step $i$ has update rule:\n",
    "\n",
    "\\begin{equation}\n",
    "\\theta_{i+1} = \\theta_{i} - \\eta\\cdot\\nabla_{\\theta}f(\\theta_i)\n",
    "\\end{equation}\n",
    "\n",
    "where $f$ is our objective function, and $\\eta$ is a _learning rate_ which controls the size of the gradient step. "
   ]
  },
  {
   "cell_type": "markdown",
   "id": "b53c5eb5",
   "metadata": {},
   "source": [
    "To do gradient descent, we need to keep track of gradients. In PyTorch this is done with setting `requires_grad = True` for the relevant parameters, either as an argument to `torch.tensor` in the initialization, or after the fact, like:"
   ]
  },
  {
   "cell_type": "code",
   "execution_count": 23,
   "id": "b1ddb226",
   "metadata": {},
   "outputs": [],
   "source": [
    "v0_guess.requires_grad = True"
   ]
  },
  {
   "cell_type": "markdown",
   "id": "8eb63d7c",
   "metadata": {},
   "source": [
    "Gradients of `v0_guess` are accessible via the attribute `v0_guess.grad`. Right now, `v0_guess` hasn't interacted with the physics model, so this is not filled."
   ]
  },
  {
   "cell_type": "code",
   "execution_count": 24,
   "id": "eff8f551",
   "metadata": {},
   "outputs": [
    {
     "name": "stdout",
     "output_type": "stream",
     "text": [
      "None\n"
     ]
    }
   ],
   "source": [
    "print(v0_guess.grad)"
   ]
  },
  {
   "cell_type": "markdown",
   "id": "85b5394d",
   "metadata": {},
   "source": [
    "## The training loop\n",
    "\n",
    "There are a few steps in the typical autodiff training loop. First, we need to initialize the parameters we want to fit -- we already did this above, but just to keep everything together, let's repeat."
   ]
  },
  {
   "cell_type": "markdown",
   "id": "664eedbc",
   "metadata": {},
   "source": [
    "### Fixed parameters:"
   ]
  },
  {
   "cell_type": "code",
   "execution_count": 25,
   "id": "bd8ae5c9",
   "metadata": {},
   "outputs": [],
   "source": [
    "#Acceleration due to gravity (-9.8 m/s^2 in negative y direction)\n",
    "a_guess = torch.tensor([0, -9.8])[None, :]\n",
    "\n",
    "#Start at (0,10) [m]\n",
    "x0_guess = torch.tensor([0.,10.])[None, :]\n",
    "\n",
    "#Run the simulation: 100 timesteps\n",
    "time_steps = torch.linspace(0, 5, 100)[:, None]"
   ]
  },
  {
   "cell_type": "markdown",
   "id": "139eb437",
   "metadata": {},
   "source": [
    "### Not fixed parameters:\n",
    "We want to solve for `v0_guess`"
   ]
  },
  {
   "cell_type": "code",
   "execution_count": 26,
   "id": "6b543d1b",
   "metadata": {},
   "outputs": [],
   "source": [
    "#Initial velocity for fun (m / s)\n",
    "v0_guess = torch.tensor([0., 0.])[None, :]\n",
    "v0_guess.requires_grad = True"
   ]
  },
  {
   "cell_type": "markdown",
   "id": "ae70ba51",
   "metadata": {},
   "source": [
    "Then we make a guess with the initial parameters. This is done with a simple pass through the forward model"
   ]
  },
  {
   "cell_type": "code",
   "execution_count": 27,
   "id": "c599e42c",
   "metadata": {},
   "outputs": [],
   "source": [
    "trajectory_guess = position(time_steps, a_guess, x0_guess, v0_guess)"
   ]
  },
  {
   "cell_type": "markdown",
   "id": "e7b021b3",
   "metadata": {},
   "source": [
    "Then compute the loss between the guessed trajectory and the target"
   ]
  },
  {
   "cell_type": "code",
   "execution_count": 28,
   "id": "f2ddb20e",
   "metadata": {},
   "outputs": [],
   "source": [
    "loss = ((trajectory_target - trajectory_guess)**2).mean()"
   ]
  },
  {
   "cell_type": "markdown",
   "id": "450e2767",
   "metadata": {},
   "source": [
    "and let PyTorch accumulate gradients with a backward pass. Note that the backward pass starts at the loss calculation -- this is the thing we want to minimize with gradient descent."
   ]
  },
  {
   "cell_type": "code",
   "execution_count": 29,
   "id": "340e81b3",
   "metadata": {},
   "outputs": [],
   "source": [
    "loss.backward()"
   ]
  },
  {
   "cell_type": "markdown",
   "id": "90c75e69",
   "metadata": {},
   "source": [
    "`v0_guess` now has an associated gradient"
   ]
  },
  {
   "cell_type": "code",
   "execution_count": 30,
   "id": "fe02e7dc",
   "metadata": {},
   "outputs": [
    {
     "name": "stdout",
     "output_type": "stream",
     "text": [
      "tensor([[-41.8771, -83.7542]])\n"
     ]
    }
   ],
   "source": [
    "print(v0_guess.grad)"
   ]
  },
  {
   "cell_type": "markdown",
   "id": "38f3c36d",
   "metadata": {},
   "source": [
    "and we expect a velocity of order 10, so let's define a learning rate so that our updates are of appropriate size"
   ]
  },
  {
   "cell_type": "code",
   "execution_count": 31,
   "id": "606d7fa8",
   "metadata": {},
   "outputs": [],
   "source": [
    "lr = 0.1"
   ]
  },
  {
   "cell_type": "markdown",
   "id": "9f286349",
   "metadata": {},
   "source": [
    "This allows us to actually do the update of `v0_guess`. We don't want to keep track of gradients through this update, so we wrap this in a `with torch.no_grad()`"
   ]
  },
  {
   "cell_type": "code",
   "execution_count": 32,
   "id": "0dfdb5c4",
   "metadata": {},
   "outputs": [],
   "source": [
    "with torch.no_grad():\n",
    "    v0_guess -= lr*v0_guess.grad"
   ]
  },
  {
   "cell_type": "markdown",
   "id": "6cb51e9b",
   "metadata": {},
   "source": [
    "`v0_guess` now has an updated value, so we can repeat"
   ]
  },
  {
   "cell_type": "code",
   "execution_count": 33,
   "id": "b1cceeea",
   "metadata": {},
   "outputs": [
    {
     "name": "stdout",
     "output_type": "stream",
     "text": [
      "tensor([[4.1877, 8.3754]], requires_grad=True)\n"
     ]
    }
   ],
   "source": [
    "print(v0_guess)"
   ]
  },
  {
   "cell_type": "markdown",
   "id": "f4430a02",
   "metadata": {},
   "source": [
    "In a loop:"
   ]
  },
  {
   "cell_type": "code",
   "execution_count": 34,
   "id": "d7d93580",
   "metadata": {},
   "outputs": [
    {
     "name": "stdout",
     "output_type": "stream",
     "text": [
      "Iter 0, Loss: 523.4638061523438\n",
      "Iter 1, Loss: 13.815546989440918\n",
      "Iter 2, Loss: 344.420166015625\n",
      "Iter 3, Loss: 639.60791015625\n",
      "Iter 4, Loss: 117.5174789428711\n",
      "Iter 5, Loss: 161.00543212890625\n",
      "Iter 6, Loss: 654.8856201171875\n",
      "Iter 7, Loss: 291.0216979980469\n",
      "Iter 8, Loss: 33.176998138427734\n",
      "Iter 9, Loss: 564.3025512695312\n"
     ]
    }
   ],
   "source": [
    "# Initialize training parameters\n",
    "v0_guess = torch.tensor([0., 0.])[None, :]\n",
    "v0_guess.requires_grad = True\n",
    "\n",
    "# Learning rate -- controls the size of the optimization step\n",
    "lr = 0.1\n",
    "\n",
    "# Keep track of training and losses \n",
    "training_path = []\n",
    "losses = []\n",
    "\n",
    "# Do 10 parameter updates\n",
    "for epoch in range(10):  \n",
    "    # Guess with current parameters\n",
    "    trajectory_guess = position(time_steps, a_guess, x0_guess, v0_guess)\n",
    "    \n",
    "    # Calculate loss\n",
    "    loss = ((trajectory_target - trajectory_guess)**2).mean()\n",
    "    \n",
    "    # Compute gradients\n",
    "    loss.backward()\n",
    "\n",
    "    # Update for next loop\n",
    "    with torch.no_grad():\n",
    "        v0_guess -= lr*v0_guess.grad\n",
    "        \n",
    "    print(f\"Iter {epoch}, Loss: {loss.detach().item()}\")\n",
    "    training_path.append(trajectory_guess.detach())\n",
    "    losses.append(loss.detach())"
   ]
  },
  {
   "cell_type": "code",
   "execution_count": 35,
   "id": "cbd99f25",
   "metadata": {},
   "outputs": [
    {
     "data": {
      "image/png": "[encoded data removed]",
      "text/plain": [
       "<Figure size 432x288 with 1 Axes>"
      ]
     },
     "metadata": {
      "needs_background": "light"
     },
     "output_type": "display_data"
    }
   ],
   "source": [
    "plt.plot(losses)\n",
    "plt.xlabel('Training Iteration')\n",
    "plt.ylabel('MSE Loss')\n",
    "plt.show()"
   ]
  },
  {
   "cell_type": "markdown",
   "id": "6f49fb3f",
   "metadata": {},
   "source": [
    "### Uh oh! Something went wrong! The loss should be going down!\n",
    "\n",
    "But not really -- PyTorch requires you to zero out the gradients after each update, otherwise they accumulate (get summed). This is easily done with:"
   ]
  },
  {
   "cell_type": "code",
   "execution_count": 36,
   "id": "3367e355",
   "metadata": {},
   "outputs": [
    {
     "data": {
      "text/plain": [
       "tensor([[0., 0.]])"
      ]
     },
     "execution_count": 36,
     "metadata": {},
     "output_type": "execute_result"
    }
   ],
   "source": [
    "v0_guess.grad.zero_()"
   ]
  },
  {
   "cell_type": "markdown",
   "id": "0c69aa3f",
   "metadata": {},
   "source": [
    "so that the gradient stored in `v0_guess.grad` corresponds only to each individual forward/backward pass. In the loop, this should be done after every update -- something simple, but a common \"first look at autograd\" bug!\n",
    "\n",
    "The proper training loop is then:"
   ]
  },
  {
   "cell_type": "code",
   "execution_count": 37,
   "id": "0353ce6a",
   "metadata": {
    "scrolled": true
   },
   "outputs": [
    {
     "name": "stdout",
     "output_type": "stream",
     "text": [
      "Iter 0, Loss: 523.4638061523438\n",
      "Iter 1, Loss: 13.815546989440918\n",
      "Iter 2, Loss: 0.3646274507045746\n",
      "Iter 3, Loss: 0.009623614139854908\n",
      "Iter 4, Loss: 0.000253990845521912\n",
      "Iter 5, Loss: 6.7079008658765815e-06\n",
      "Iter 6, Loss: 1.7731480284055579e-07\n",
      "Iter 7, Loss: 4.59264404284454e-09\n",
      "Iter 8, Loss: 1.1887828221812669e-10\n",
      "Iter 9, Loss: 5.791176566072309e-12\n"
     ]
    }
   ],
   "source": [
    "# Initialize training parameters\n",
    "v0_guess = torch.tensor([0., 0.])[None, :]\n",
    "v0_guess.requires_grad = True\n",
    "\n",
    "# Learning rate -- controls the size of the optimization step\n",
    "lr = 0.1\n",
    "\n",
    "# Keep track of training and losses \n",
    "v0_steps = [v0_guess.detach().clone()]\n",
    "training_path = []\n",
    "losses = []\n",
    "\n",
    "# Do 10 parameter updates\n",
    "for epoch in range(10):   \n",
    "    # Guess with current parameters\n",
    "    trajectory_guess = position(time_steps, a_guess, x0_guess, v0_guess)\n",
    "    \n",
    "    # Calculate loss\n",
    "    loss = ((trajectory_target - trajectory_guess)**2).mean()\n",
    "    \n",
    "    # Compute gradients\n",
    "    loss.backward()\n",
    "\n",
    "    print(f\"Iter {epoch}, Loss: {loss.detach().item()}\")\n",
    "    \n",
    "    # Update for next loop\n",
    "    with torch.no_grad():\n",
    "        v0_guess -= lr*v0_guess.grad\n",
    "        \n",
    "    # Zero out the gradients\n",
    "    v0_guess.grad.zero_()\n",
    "\n",
    "    # Store training history.\n",
    "    training_path.append(trajectory_guess.detach())\n",
    "    losses.append(loss.detach())\n",
    "    v0_steps.append(v0_guess.detach().clone())"
   ]
  },
  {
   "cell_type": "code",
   "execution_count": 38,
   "id": "5b387b97",
   "metadata": {},
   "outputs": [
    {
     "data": {
      "image/png": "[encoded data removed]",
      "text/plain": [
       "<Figure size 432x288 with 1 Axes>"
      ]
     },
     "metadata": {
      "needs_background": "light"
     },
     "output_type": "display_data"
    }
   ],
   "source": [
    "plt.plot(losses)\n",
    "plt.xlabel('Training Iteration')\n",
    "plt.ylabel('MSE Loss')\n",
    "plt.show()"
   ]
  },
  {
   "cell_type": "markdown",
   "id": "d2d09799",
   "metadata": {},
   "source": [
    "Converges quickly (and looks much healthier)!\n",
    "\n",
    "Let's look quickly at the training path:"
   ]
  },
  {
   "cell_type": "code",
   "execution_count": 39,
   "id": "94d5e3bc",
   "metadata": {},
   "outputs": [
    {
     "data": {
      "image/png": "[encoded data removed]",
      "text/plain": [
       "<Figure size 432x288 with 1 Axes>"
      ]
     },
     "metadata": {
      "needs_background": "light"
     },
     "output_type": "display_data"
    }
   ],
   "source": [
    "%matplotlib inline\n",
    "for step, traj in enumerate(training_path):\n",
    "    plt.plot(traj[:, 0], traj[:, 1], label=f'Guess {step}')\n",
    "plt.plot(trajectory_target[:, 0], trajectory_target[:, 1], c='k', label='Target')\n",
    "plt.legend(loc='upper left')\n",
    "plt.xlabel('x [m]')\n",
    "plt.ylabel('y [m]')\n",
    "plt.show()"
   ]
  },
  {
   "cell_type": "markdown",
   "id": "bdacbd27",
   "metadata": {},
   "source": [
    "As expected from the loss, we get closer to the target trajectory with each iteration. Looking at the values of v0:"
   ]
  },
  {
   "cell_type": "code",
   "execution_count": 40,
   "id": "c23e23fc",
   "metadata": {},
   "outputs": [
    {
     "data": {
      "image/png": "[encoded data removed]",
      "text/plain": [
       "<Figure size 432x288 with 1 Axes>"
      ]
     },
     "metadata": {
      "needs_background": "light"
     },
     "output_type": "display_data"
    }
   ],
   "source": [
    "for i_step, step in enumerate(v0_steps):\n",
    "    plt.scatter(step[:, 0], step[:, 1], label=f'Step {i_step}')\n",
    "plt.scatter(5, 10, c='k', label='Target')\n",
    "plt.legend(loc='upper left')\n",
    "plt.xlabel('$v_{0}^{x}$ [m / s]')\n",
    "plt.ylabel('$v_{0}^{y}$ [m / s]')\n",
    "plt.show()"
   ]
  },
  {
   "cell_type": "code",
   "execution_count": 41,
   "id": "d97d14b9",
   "metadata": {},
   "outputs": [
    {
     "data": {
      "text/plain": [
       "tensor([[ 5., 10.]])"
      ]
     },
     "execution_count": 41,
     "metadata": {},
     "output_type": "execute_result"
    }
   ],
   "source": [
    "v0_steps[-1]"
   ]
  },
  {
   "cell_type": "markdown",
   "id": "ff894570",
   "metadata": {},
   "source": [
    "we recover the target parameters."
   ]
  },
  {
   "cell_type": "markdown",
   "id": "5075a730",
   "metadata": {},
   "source": [
    "## Slightly more complicated -- more parameters!"
   ]
  },
  {
   "cell_type": "markdown",
   "id": "352f0d5c",
   "metadata": {},
   "source": [
    "### Exercise:\n",
    "\n",
    "Let's go crazy and try to fit all parameters: a, x0, and v0. The training loop is basically the same (with a couple of tweaks), just with more things, skeleton provided below:"
   ]
  },
  {
   "cell_type": "code",
   "execution_count": 40,
   "id": "0f017c4d",
   "metadata": {},
   "outputs": [
    {
     "name": "stderr",
     "output_type": "stream",
     "text": [
      "100%|████████████████████████████████████████████████████████████████████████████████████████████████████████████████████████████████████████████████████| 10000/10000 [00:01<00:00, 5645.80it/s]\n"
     ]
    }
   ],
   "source": [
    "# Initialize training parameters. This time we want gradients for a, x0, and v0\n",
    "# Fill in here -- feel free to init to [0, 0]\n",
    "v0_guess = torch.tensor([0., 0.])[None, :]\n",
    "\n",
    "# Fill in here\n",
    "v0_guess.requires_grad = True\n",
    "\n",
    "# Learning rate -- controls the size of the optimization step\n",
    "# note, we've decreased it to 0.01 -- more on that in a bit!\n",
    "lr = 0.01\n",
    "\n",
    "# Keep track of training and losses \n",
    "training_path = []\n",
    "losses = []\n",
    "\n",
    "# Do 10000 parameter updates -- do a progress bar to decrease verbosity\n",
    "# Note that longer training time is needed because we have a smaller learning rate\n",
    "for epoch in tqdm(range(10000)):  \n",
    "    # Guess with current parameters\n",
    "    trajectory_guess = position(time_steps, a_guess, x0_guess, v0_guess)\n",
    "    \n",
    "    # Calculate loss\n",
    "    loss = ((trajectory_target - trajectory_guess)**2).mean()\n",
    "    \n",
    "    # Compute gradients\n",
    "    loss.backward()\n",
    "\n",
    "    #print(f\"Iter {epoch}, Loss: {loss.detach().item()}\")\n",
    "    \n",
    "    # Update for next loop -- simultaneous update of all three\n",
    "    with torch.no_grad():\n",
    "        v0_guess -= lr*v0_guess.grad\n",
    "        # Fill in here: update x0_guess and a_guess with gradient descent\n",
    "\n",
    "    # Zero out the gradients\n",
    "    v0_guess.grad.zero_()\n",
    "    # Fill in here: need to zero out gradients for x0_guess and a_guess too\n",
    "\n",
    "\n",
    "    # Store training history.\n",
    "    training_path.append(trajectory_guess.detach())\n",
    "    losses.append(loss.detach())"
   ]
  },
  {
   "cell_type": "markdown",
   "id": "0a9e90e4",
   "metadata": {},
   "source": [
    "### Answer:"
   ]
  },
  {
   "cell_type": "code",
   "execution_count": 43,
   "id": "7f8e7513",
   "metadata": {},
   "outputs": [
    {
     "name": "stderr",
     "output_type": "stream",
     "text": [
      "100%|██████████| 10000/10000 [00:02<00:00, 4556.80it/s]\n"
     ]
    }
   ],
   "source": [
    "# Initialize training parameters. This time we want gradients for a, x0, and v0\n",
    "a_guess = torch.tensor([0., 0.])[None, :]\n",
    "x0_guess = torch.tensor([0.,0.])[None, :]\n",
    "v0_guess = torch.tensor([0., 0.])[None, :]\n",
    "\n",
    "a_guess.requires_grad = True\n",
    "x0_guess.requires_grad = True\n",
    "v0_guess.requires_grad = True\n",
    "\n",
    "# Learning rate -- controls the size of the optimization step\n",
    "lr = 0.01\n",
    "\n",
    "# Keep track of training and losses \n",
    "training_path = []\n",
    "losses = []\n",
    "\n",
    "# Do 10000 parameter updates -- do a progress bar to decrease verbosity\n",
    "for epoch in tqdm(range(10000)):  \n",
    "    # Guess with current parameters\n",
    "    trajectory_guess = position(time_steps, a_guess, x0_guess, v0_guess)\n",
    "    \n",
    "    # Calculate loss\n",
    "    loss = ((trajectory_target - trajectory_guess)**2).mean()\n",
    "    \n",
    "    # Compute gradients\n",
    "    loss.backward()\n",
    "\n",
    "    #print(f\"Iter {epoch}, Loss: {loss.detach().item()}\")\n",
    "    \n",
    "    # Update for next loop -- simultaneous update of all three\n",
    "    with torch.no_grad():\n",
    "        v0_guess -= lr*v0_guess.grad\n",
    "        x0_guess -= lr*x0_guess.grad\n",
    "        a_guess -= lr*a_guess.grad\n",
    "\n",
    "    # Zero out the gradients\n",
    "    v0_guess.grad.zero_()\n",
    "    x0_guess.grad.zero_()\n",
    "    a_guess.grad.zero_()\n",
    "\n",
    "\n",
    "    # Store training history.\n",
    "    training_path.append(trajectory_guess.detach())\n",
    "    losses.append(loss.detach())"
   ]
  },
  {
   "cell_type": "code",
   "execution_count": 44,
   "id": "3e5452a8",
   "metadata": {},
   "outputs": [
    {
     "data": {
      "image/png": "[encoded data removed]",
      "text/plain": [
       "<Figure size 432x288 with 1 Axes>"
      ]
     },
     "metadata": {
      "needs_background": "light"
     },
     "output_type": "display_data"
    }
   ],
   "source": [
    "plt.plot(losses)\n",
    "plt.xlabel('Training Iteration')\n",
    "plt.ylabel('MSE Loss')\n",
    "plt.show()"
   ]
  },
  {
   "cell_type": "code",
   "execution_count": 45,
   "id": "76b60f51",
   "metadata": {},
   "outputs": [
    {
     "data": {
      "image/png": "[encoded data removed]",
      "text/plain": [
       "<Figure size 432x288 with 1 Axes>"
      ]
     },
     "metadata": {
      "needs_background": "light"
     },
     "output_type": "display_data"
    }
   ],
   "source": [
    "%matplotlib inline\n",
    "for step, traj in enumerate(training_path):\n",
    "    if step % 10 == 0:\n",
    "        plt.plot(traj[:, 0], traj[:, 1], label=f'Guess {step}')\n",
    "plt.plot(trajectory_target[:, 0], trajectory_target[:, 1], c='k', label='Target')\n",
    "#plt.legend()\n",
    "plt.xlabel('x [m]')\n",
    "plt.ylabel('y [m]')\n",
    "plt.show()"
   ]
  },
  {
   "cell_type": "code",
   "execution_count": 46,
   "id": "8ae2a884",
   "metadata": {},
   "outputs": [
    {
     "data": {
      "image/png": "[encoded data removed]",
      "text/plain": [
       "<Figure size 432x288 with 1 Axes>"
      ]
     },
     "metadata": {
      "needs_background": "light"
     },
     "output_type": "display_data"
    }
   ],
   "source": [
    "plt.plot(training_path[-1][:, 0], training_path[-1][:, 1], label='Final Iter')\n",
    "plt.plot(trajectory_target[:, 0], trajectory_target[:, 1], c='k', label='Target')\n",
    "plt.legend()\n",
    "plt.xlabel('x [m]')\n",
    "plt.ylabel('y [m]')\n",
    "plt.show()"
   ]
  },
  {
   "cell_type": "code",
   "execution_count": 47,
   "id": "e0aa75b3",
   "metadata": {},
   "outputs": [
    {
     "name": "stdout",
     "output_type": "stream",
     "text": [
      "Final v0: tensor([4.9961, 9.9978]), Target: tensor([ 5, 10])\n",
      "Final x0: tensor([4.1948e-03, 1.0002e+01]), Target: tensor([ 0, 10])\n",
      "Final a: tensor([ 1.3894e-03, -9.7992e+00]), Target: tensor([ 0.0000, -9.8000])\n"
     ]
    }
   ],
   "source": [
    "print(f'Final v0: {v0_guess.detach()[0]}, Target: {v0_target[0]}')\n",
    "print(f'Final x0: {x0_guess.detach()[0]}, Target: {x0_target[0]}')\n",
    "print(f'Final a: {a_guess.detach()[0]}, Target: {a_target[0]}')"
   ]
  },
  {
   "cell_type": "markdown",
   "id": "7a93e58f",
   "metadata": {},
   "source": [
    "## Learning rates and convergence\n",
    "\n",
    "Let's try using the learning rate that we started out with. The loop:"
   ]
  },
  {
   "cell_type": "code",
   "execution_count": 48,
   "id": "3978ee41",
   "metadata": {},
   "outputs": [
    {
     "name": "stdout",
     "output_type": "stream",
     "text": [
      "Iter 0, Loss: 389.738037109375\n",
      "Iter 1, Loss: 2653.56396484375\n",
      "Iter 2, Loss: 23547.765625\n",
      "Iter 3, Loss: 215280.0\n",
      "Iter 4, Loss: 1973733.75\n",
      "Iter 5, Loss: 18100418.0\n",
      "Iter 6, Loss: 165996640.0\n",
      "Iter 7, Loss: 1522337536.0\n",
      "Iter 8, Loss: 13961199616.0\n",
      "Iter 9, Loss: 128036683776.0\n"
     ]
    }
   ],
   "source": [
    "# Initialize training parameters. This time we want gradients for a, x0, and v0\n",
    "a_guess = torch.tensor([0., 0.])[None, :]\n",
    "x0_guess = torch.tensor([0.,0.])[None, :]\n",
    "v0_guess = torch.tensor([0., 0.])[None, :]\n",
    "\n",
    "a_guess.requires_grad = True\n",
    "x0_guess.requires_grad = True\n",
    "v0_guess.requires_grad = True\n",
    "\n",
    "# Learning rate -- back up to 0.1\n",
    "lr = 0.1\n",
    "\n",
    "# Keep track of training and losses \n",
    "training_path = []\n",
    "losses = []\n",
    "\n",
    "# Back to 10 updates\n",
    "for epoch in range(10):   \n",
    "    # Guess with current parameters\n",
    "    trajectory_guess = position(time_steps, a_guess, x0_guess, v0_guess)\n",
    "    \n",
    "    # Calculate loss\n",
    "    loss = ((trajectory_target - trajectory_guess)**2).mean()\n",
    "    \n",
    "    # Compute gradients\n",
    "    loss.backward()\n",
    "\n",
    "    print(f\"Iter {epoch}, Loss: {loss.detach().item()}\")\n",
    "    \n",
    "    # Update for next loop -- simultaneous update of all three\n",
    "    with torch.no_grad():\n",
    "        v0_guess -= lr*v0_guess.grad\n",
    "        x0_guess -= lr*x0_guess.grad\n",
    "        a_guess -= lr*a_guess.grad\n",
    "\n",
    "    # Zero out the gradients\n",
    "    v0_guess.grad.zero_()\n",
    "    x0_guess.grad.zero_()\n",
    "    a_guess.grad.zero_()\n",
    "\n",
    "\n",
    "    # Store training history.\n",
    "    training_path.append(trajectory_guess.detach())\n",
    "    losses.append(loss.detach())"
   ]
  },
  {
   "cell_type": "code",
   "execution_count": 49,
   "id": "fc8f7e56",
   "metadata": {},
   "outputs": [
    {
     "data": {
      "image/png": "[encoded data removed]",
      "text/plain": [
       "<Figure size 432x288 with 1 Axes>"
      ]
     },
     "metadata": {
      "needs_background": "light"
     },
     "output_type": "display_data"
    }
   ],
   "source": [
    "plt.plot(losses)\n",
    "plt.xlabel('Training Iteration')\n",
    "plt.ylabel('MSE Loss')\n",
    "plt.show()"
   ]
  },
  {
   "cell_type": "markdown",
   "id": "de2795a8",
   "metadata": {},
   "source": [
    "### Uh oh, the loss should be going down!\n",
    "\n",
    "Usually when this happens, the learning rate is too big -- the optimization procedure doesn't converge to a minimum because we're \"bouncing around\" the parameter space.\n",
    "\n",
    "#### Solutions:\n",
    "1. Guess and check: try decreasing learning rate. Often helpful to look at the magnitude of the corresponding gradients to get an idea of appropriate magnitudes\n",
    "2. Use a better optimizer (e.g. something adaptive like Adam)\n",
    "\n",
    "In our case, guessing should be sufficient. Note that _decreasing_ the size of our update steps means that we should _increase_ the number of training iterations."
   ]
  },
  {
   "cell_type": "markdown",
   "id": "97c43e91",
   "metadata": {},
   "source": [
    "## Cleaning up\n",
    "We've manually defined our loss function and optimizer, but using built in PyTorch stuff generalizes much better! Rewriting:"
   ]
  },
  {
   "cell_type": "code",
   "execution_count": 50,
   "id": "33f48832",
   "metadata": {},
   "outputs": [
    {
     "name": "stderr",
     "output_type": "stream",
     "text": [
      "100%|██████████| 10000/10000 [00:02<00:00, 4096.68it/s]\n"
     ]
    }
   ],
   "source": [
    "# Same MSE loss from PyTorch\n",
    "loss_fn = torch.nn.MSELoss()\n",
    "\n",
    "# If we want to initialize at 0's we should use torch.zeros\n",
    "a_guess = torch.zeros((1, 2), requires_grad=True)\n",
    "x0_guess = torch.zeros((1, 2), requires_grad=True)\n",
    "v0_guess = torch.zeros((1, 2), requires_grad=True)\n",
    "\n",
    "# Torch has a bunch of built in optimizers. Stick with gradient descent.\n",
    "optimizer = torch.optim.SGD([a_guess, x0_guess, v0_guess], lr=0.01)\n",
    "\n",
    "# Same simple history tracking\n",
    "training_path = []\n",
    "losses = []\n",
    "for epoch in tqdm(range(10000)):\n",
    "    # This line replaces the per-parameter gradient zeroing\n",
    "    optimizer.zero_grad()\n",
    "    \n",
    "    # Forward model done the same way\n",
    "    trajectory_guess = position(time_steps, a_guess, x0_guess, v0_guess)\n",
    "    \n",
    "    # Pass to loss function\n",
    "    loss = loss_fn(trajectory_target, trajectory_guess)\n",
    "    \n",
    "    # Backward pass done the same way\n",
    "    loss.backward()\n",
    "\n",
    "    # The optimizer takes care of the gradient steps\n",
    "    optimizer.step()\n",
    "        \n",
    "    losses.append(loss.detach())\n",
    "    training_path.append(trajectory_guess.detach())"
   ]
  },
  {
   "cell_type": "markdown",
   "id": "2e698d2e",
   "metadata": {},
   "source": [
    "Results are completely identical"
   ]
  },
  {
   "cell_type": "code",
   "execution_count": 51,
   "id": "492f9d98",
   "metadata": {},
   "outputs": [
    {
     "data": {
      "image/png": "[encoded data removed]",
      "text/plain": [
       "<Figure size 432x288 with 1 Axes>"
      ]
     },
     "metadata": {
      "needs_background": "light"
     },
     "output_type": "display_data"
    }
   ],
   "source": [
    "plt.plot(losses)\n",
    "plt.xlabel('Training Iteration')\n",
    "plt.ylabel('MSE Loss')\n",
    "plt.show()"
   ]
  },
  {
   "cell_type": "code",
   "execution_count": 52,
   "id": "9bfd766d",
   "metadata": {},
   "outputs": [
    {
     "name": "stdout",
     "output_type": "stream",
     "text": [
      "tensor(1.4409e-06)\n"
     ]
    }
   ],
   "source": [
    "print(losses[-1])"
   ]
  },
  {
   "cell_type": "code",
   "execution_count": 53,
   "id": "657e97c2",
   "metadata": {},
   "outputs": [
    {
     "data": {
      "image/png": "[encoded data removed]",
      "text/plain": [
       "<Figure size 432x288 with 1 Axes>"
      ]
     },
     "metadata": {
      "needs_background": "light"
     },
     "output_type": "display_data"
    }
   ],
   "source": [
    "%matplotlib inline\n",
    "for step, traj in enumerate(training_path):\n",
    "    if step % 10 == 0:\n",
    "        plt.plot(traj[:, 0], traj[:, 1], label=f'Guess {step}')\n",
    "plt.plot(trajectory_target[:, 0], trajectory_target[:, 1], c='k', label='Target')\n",
    "#plt.legend()\n",
    "plt.xlabel('x [m]')\n",
    "plt.ylabel('y [m]')\n",
    "plt.show()"
   ]
  },
  {
   "cell_type": "code",
   "execution_count": 54,
   "id": "f258e8a2",
   "metadata": {},
   "outputs": [
    {
     "data": {
      "image/png": "[encoded data removed]",
      "text/plain": [
       "<Figure size 432x288 with 1 Axes>"
      ]
     },
     "metadata": {
      "needs_background": "light"
     },
     "output_type": "display_data"
    }
   ],
   "source": [
    "plt.plot(training_path[-1][:, 0], training_path[-1][:, 1], label='Final Iter')\n",
    "plt.plot(trajectory_target[:, 0], trajectory_target[:, 1], c='k', label='Target')\n",
    "plt.legend()\n",
    "plt.xlabel('x [m]')\n",
    "plt.ylabel('y [m]')\n",
    "plt.show()"
   ]
  },
  {
   "cell_type": "code",
   "execution_count": 55,
   "id": "17a441ef",
   "metadata": {},
   "outputs": [
    {
     "name": "stdout",
     "output_type": "stream",
     "text": [
      "Final v0: tensor([4.9961, 9.9978]), Target: tensor([ 5, 10])\n",
      "Final x0: tensor([4.1948e-03, 1.0002e+01]), Target: tensor([ 0, 10])\n",
      "Final a: tensor([ 1.3894e-03, -9.7992e+00]), Target: tensor([ 0.0000, -9.8000])\n"
     ]
    }
   ],
   "source": [
    "print(f'Final v0: {v0_guess.detach()[0]}, Target: {v0_target[0]}')\n",
    "print(f'Final x0: {x0_guess.detach()[0]}, Target: {x0_target[0]}')\n",
    "print(f'Final a: {a_guess.detach()[0]}, Target: {a_target[0]}')"
   ]
  },
  {
   "cell_type": "markdown",
   "id": "54613bd1",
   "metadata": {},
   "source": [
    "## Conclusions:\n",
    "\n",
    "We have constructed a simple physics model with PyTorch and used automatic differentiation to fit parameters of that model via gradient descent, given target data. The model we use here is very simple, but a very similar training loop can be used for much more complex physics models and many more parameters -- the important thing is the differentiability!\n",
    "\n",
    "\n",
    "### Context:\n",
    "\n",
    "The problem that we solved today can be viewed in two ways:\n",
    "1. The forward model, $\\Phi$ is a map from parameters $\\theta$ to trajectories $X$. We can use automatic differentiation to invert this map: given $X$ and $\\Phi$, we can reconstruct $\\theta$.\n",
    "2. Our initial parameters are parameters of our simulation, and are our best guesses at what the parameters are in real life. We've now been given some data that we believe obeys the physics of our model. We can then fit the model parameters to _calibrate_ the simulation to the data.\n",
    "\n",
    "Keep these two contexts in mind for your experiments! The approach we demonstrated above works for both :)"
   ]
  }
 ],
 "metadata": {
  "kernelspec": {
   "display_name": "Python 3",
   "language": "python",
   "name": "python3"
  },
  "language_info": {
   "codemirror_mode": {
    "name": "ipython",
    "version": 3
   },
   "file_extension": ".py",
   "mimetype": "text/x-python",
   "name": "python",
   "nbconvert_exporter": "python",
   "pygments_lexer": "ipython3",
   "version": "3.8.12"
  }
 },
 "nbformat": 4,
 "nbformat_minor": 5
}
